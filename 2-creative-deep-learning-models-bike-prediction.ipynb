{
 "cells": [
  {
   "cell_type": "markdown",
   "metadata": {
    "papermill": {
     "duration": 0.090849,
     "end_time": "2020-12-26T10:25:45.678746",
     "exception": false,
     "start_time": "2020-12-26T10:25:45.587897",
     "status": "completed"
    },
    "tags": []
   },
   "source": [
    "# Welcome to my Tutorial Notebook\n",
    "* I am supper excited to share with you guys the results of new insights for the data preparation and building two models such as:\n",
    "*  Regression using SKLearn's Neural Network (NN)\n",
    "* Train unisng Keras API with Tensorflow as Backend\n",
    "\n",
    "# Kaggle Bike Sharing Demand Dataset\n",
    "Modified 'count' to log1p(count) for training\n",
    "\n",
    "Log can be used when target represents a count (that is non-negative values)\n",
    "\n",
    "Model now predicts as log1p(count). We need to convert it back to actual count using expm1(predicted_target)\n",
    "\n",
    "\n",
    "\n",
    "Input Features: ['season', 'holiday', 'workingday', 'weather', 'temp', 'atemp', 'humidity', 'windspeed', 'year', 'month', 'day', 'dayofweek','hour']\n",
    "Target Feature: [log1p('count')]\n",
    "\n",
    "Objective: We are provided hourly rental data spanning two years. For this competition, the training set is comprised of the first 19 days of each month, while the test set is the 20th to the end of the month. You must predict the total count of bikes rented during each hour covered by the test set, using only information available prior to the rental period (Ref: Kaggle.com)"
   ]
  },
  {
   "cell_type": "markdown",
   "metadata": {
    "papermill": {
     "duration": 0.088561,
     "end_time": "2020-12-26T10:25:45.856647",
     "exception": false,
     "start_time": "2020-12-26T10:25:45.768086",
     "status": "completed"
    },
    "tags": []
   },
   "source": [
    "# In this Notebook, we will go through some steps and different insights such as:\n",
    "# Contains\n",
    "# Regression using SKLearn's Neural Network (NN)\n",
    "* Data Underestanding\n",
    "* Data Visualization\n",
    "* Data Preparation:\n",
    " 1. One Hot Encode all the Categorical Features\n",
    " 2. Standardize or Normalize all the Numeric Features\n",
    "* Train using SKLearn's MLPRegressor (Multi-Layer Perceptron)/Regression using SKLearn's Neural Network (NN)\n",
    "* Prediction\n",
    "* Evaluating the Results\n",
    "* Submission\n",
    "# New Insight for Modeling\n",
    "# Train unisng Keras API with Tensorflow as Backend\n",
    "* Data Underestanding\n",
    "* Data Visualization\n",
    "* Data Preparation:\n",
    " 1. One Hot Encode all the Categorical Features\n",
    " 2. Standardize or Normalize all the Numeric Features\n",
    "* Train unisng Keras API with Tensorflow as Backend\n",
    "* Prediction\n",
    "* Evaluating the Results\n",
    "* Submission\n",
    "\n"
   ]
  },
  {
   "cell_type": "code",
   "execution_count": 1,
   "metadata": {
    "_cell_guid": "b1076dfc-b9ad-4769-8c92-a6c4dae69d19",
    "_uuid": "8f2839f25d086af736a60e9eeb907d3b93b6e0e5",
    "execution": {
     "iopub.execute_input": "2020-12-26T10:25:46.042933Z",
     "iopub.status.busy": "2020-12-26T10:25:46.042058Z",
     "iopub.status.idle": "2020-12-26T10:25:46.060201Z",
     "shell.execute_reply": "2020-12-26T10:25:46.059489Z"
    },
    "papermill": {
     "duration": 0.113711,
     "end_time": "2020-12-26T10:25:46.060357",
     "exception": false,
     "start_time": "2020-12-26T10:25:45.946646",
     "status": "completed"
    },
    "tags": []
   },
   "outputs": [],
   "source": [
    "#Let's import the Necessary libraries\n",
    "import numpy as np\n",
    "import pandas as pd\n",
    "import matplotlib.pyplot as plt\n",
    "\n",
    "from pandas.plotting import register_matplotlib_converters\n",
    "register_matplotlib_converters()"
   ]
  },
  {
   "cell_type": "code",
   "execution_count": 2,
   "metadata": {
    "_cell_guid": "79c7e3d0-c299-4dcb-8224-4455121ee9b0",
    "_uuid": "d629ff2d2480ee46fbb7e2d37f6b5fab8052498a",
    "execution": {
     "iopub.execute_input": "2020-12-26T10:25:46.249622Z",
     "iopub.status.busy": "2020-12-26T10:25:46.248638Z",
     "iopub.status.idle": "2020-12-26T10:25:46.252586Z",
     "shell.execute_reply": "2020-12-26T10:25:46.253291Z"
    },
    "papermill": {
     "duration": 0.102795,
     "end_time": "2020-12-26T10:25:46.253481",
     "exception": false,
     "start_time": "2020-12-26T10:25:46.150686",
     "status": "completed"
    },
    "tags": []
   },
   "outputs": [
    {
     "name": "stdout",
     "output_type": "stream",
     "text": [
      "Test log and exp\n",
      "original value 100\n",
      "log1p 4.61512051684126\n",
      "expm1 100.00000000000003\n"
     ]
    }
   ],
   "source": [
    "# Example\n",
    "# Converts to log1p(count)\n",
    "# Print original count back using expm1\n",
    "print('Test log and exp')\n",
    "test_count = 100\n",
    "print('original value', test_count)\n",
    "x = np.log1p(test_count) # log (x+1)\n",
    "print('log1p', x)\n",
    "print('expm1', np.expm1(x)) # exp(x) - 1"
   ]
  },
  {
   "cell_type": "code",
   "execution_count": 3,
   "metadata": {
    "execution": {
     "iopub.execute_input": "2020-12-26T10:25:46.443405Z",
     "iopub.status.busy": "2020-12-26T10:25:46.442588Z",
     "iopub.status.idle": "2020-12-26T10:25:46.445479Z",
     "shell.execute_reply": "2020-12-26T10:25:46.444741Z"
    },
    "papermill": {
     "duration": 0.100203,
     "end_time": "2020-12-26T10:25:46.445604",
     "exception": false,
     "start_time": "2020-12-26T10:25:46.345401",
     "status": "completed"
    },
    "tags": []
   },
   "outputs": [],
   "source": [
    "columns = ['count', 'season', 'holiday', 'workingday', 'weather', 'temp',\n",
    "       'atemp', 'humidity', 'windspeed', 'year', 'month', 'day', 'dayofweek','hour']"
   ]
  },
  {
   "cell_type": "code",
   "execution_count": 4,
   "metadata": {
    "execution": {
     "iopub.execute_input": "2020-12-26T10:25:46.636283Z",
     "iopub.status.busy": "2020-12-26T10:25:46.635505Z",
     "iopub.status.idle": "2020-12-26T10:25:46.712771Z",
     "shell.execute_reply": "2020-12-26T10:25:46.711916Z"
    },
    "papermill": {
     "duration": 0.175708,
     "end_time": "2020-12-26T10:25:46.712914",
     "exception": false,
     "start_time": "2020-12-26T10:25:46.537206",
     "status": "completed"
    },
    "tags": []
   },
   "outputs": [],
   "source": [
    "#loading the datasets\n",
    "df = pd.read_csv('../input/bike-sharing-demand/train.csv', parse_dates=['datetime'],index_col=0)\n",
    "df_test = pd.read_csv('../input/bike-sharing-demand/test.csv', parse_dates=['datetime'],index_col=0)"
   ]
  },
  {
   "cell_type": "code",
   "execution_count": 5,
   "metadata": {
    "execution": {
     "iopub.execute_input": "2020-12-26T10:25:46.902680Z",
     "iopub.status.busy": "2020-12-26T10:25:46.901731Z",
     "iopub.status.idle": "2020-12-26T10:25:46.905211Z",
     "shell.execute_reply": "2020-12-26T10:25:46.904629Z"
    },
    "papermill": {
     "duration": 0.101248,
     "end_time": "2020-12-26T10:25:46.905373",
     "exception": false,
     "start_time": "2020-12-26T10:25:46.804125",
     "status": "completed"
    },
    "tags": []
   },
   "outputs": [],
   "source": [
    "# We need to convert datetime to numeric for training.\n",
    "# Let's extract key features into separate numeric columns\n",
    "def add_features(df):\n",
    "    df['year'] = df.index.year\n",
    "    df['month'] = df.index.month\n",
    "    df['day'] = df.index.day\n",
    "    df['dayofweek'] = df.index.dayofweek\n",
    "    df['hour'] = df.index.hour"
   ]
  },
  {
   "cell_type": "code",
   "execution_count": 6,
   "metadata": {
    "execution": {
     "iopub.execute_input": "2020-12-26T10:25:47.095339Z",
     "iopub.status.busy": "2020-12-26T10:25:47.094515Z",
     "iopub.status.idle": "2020-12-26T10:25:47.121870Z",
     "shell.execute_reply": "2020-12-26T10:25:47.121152Z"
    },
    "papermill": {
     "duration": 0.124435,
     "end_time": "2020-12-26T10:25:47.121996",
     "exception": false,
     "start_time": "2020-12-26T10:25:46.997561",
     "status": "completed"
    },
    "tags": []
   },
   "outputs": [],
   "source": [
    "add_features(df)\n",
    "add_features(df_test)"
   ]
  },
  {
   "cell_type": "markdown",
   "metadata": {
    "papermill": {
     "duration": 0.090297,
     "end_time": "2020-12-26T10:25:47.304064",
     "exception": false,
     "start_time": "2020-12-26T10:25:47.213767",
     "status": "completed"
    },
    "tags": []
   },
   "source": [
    "* Data Visualization"
   ]
  },
  {
   "cell_type": "code",
   "execution_count": 7,
   "metadata": {
    "execution": {
     "iopub.execute_input": "2020-12-26T10:25:47.525339Z",
     "iopub.status.busy": "2020-12-26T10:25:47.524199Z",
     "iopub.status.idle": "2020-12-26T10:25:47.851203Z",
     "shell.execute_reply": "2020-12-26T10:25:47.851803Z"
    },
    "papermill": {
     "duration": 0.4417,
     "end_time": "2020-12-26T10:25:47.851957",
     "exception": false,
     "start_time": "2020-12-26T10:25:47.410257",
     "status": "completed"
    },
    "tags": []
   },
   "outputs": [
    {
     "data": {
      "image/png": "[encoded data removed]",
      "text/plain": [
       "<Figure size 432x288 with 1 Axes>"
      ]
     },
     "metadata": {
      "needs_background": "light"
     },
     "output_type": "display_data"
    }
   ],
   "source": [
    "plt.plot(df['2011']['count'],label='2011')\n",
    "plt.plot(df['2012']['count'],label='2012')\n",
    "plt.xticks(fontsize=14, rotation=45)\n",
    "plt.xlabel('Date')\n",
    "plt.ylabel('Rental Count')\n",
    "plt.title('2011 and 2012 Rentals (Year to Year)')\n",
    "plt.legend()\n",
    "plt.show()"
   ]
  },
  {
   "cell_type": "code",
   "execution_count": 8,
   "metadata": {
    "execution": {
     "iopub.execute_input": "2020-12-26T10:25:48.157829Z",
     "iopub.status.busy": "2020-12-26T10:25:48.154608Z",
     "iopub.status.idle": "2020-12-26T10:25:48.472905Z",
     "shell.execute_reply": "2020-12-26T10:25:48.472130Z"
    },
    "papermill": {
     "duration": 0.525439,
     "end_time": "2020-12-26T10:25:48.473043",
     "exception": false,
     "start_time": "2020-12-26T10:25:47.947604",
     "status": "completed"
    },
    "tags": []
   },
   "outputs": [
    {
     "data": {
      "image/png": "[encoded data removed]",
      "text/plain": [
       "<Figure size 432x288 with 1 Axes>"
      ]
     },
     "metadata": {
      "needs_background": "light"
     },
     "output_type": "display_data"
    }
   ],
   "source": [
    "plt.plot(df['2011']['count'].map(np.log1p),label='2011')\n",
    "plt.plot(df['2012']['count'].map(np.log1p),label='2012')\n",
    "plt.xticks(fontsize=14, rotation=45)\n",
    "plt.xlabel('Date')\n",
    "plt.ylabel('Log(Rental Count)')\n",
    "plt.title('2011 and 2012 Rentals (Year to Year)')\n",
    "plt.legend()\n",
    "plt.show()"
   ]
  },
  {
   "cell_type": "code",
   "execution_count": 9,
   "metadata": {
    "execution": {
     "iopub.execute_input": "2020-12-26T10:25:48.669719Z",
     "iopub.status.busy": "2020-12-26T10:25:48.668908Z",
     "iopub.status.idle": "2020-12-26T10:25:48.801693Z",
     "shell.execute_reply": "2020-12-26T10:25:48.802243Z"
    },
    "papermill": {
     "duration": 0.233436,
     "end_time": "2020-12-26T10:25:48.802420",
     "exception": false,
     "start_time": "2020-12-26T10:25:48.568984",
     "status": "completed"
    },
    "tags": []
   },
   "outputs": [
    {
     "data": {
      "image/png": "[encoded data removed]",
      "text/plain": [
       "<Figure size 432x288 with 1 Axes>"
      ]
     },
     "metadata": {
      "needs_background": "light"
     },
     "output_type": "display_data"
    }
   ],
   "source": [
    "plt.boxplot([df['count']], labels=['count'])\n",
    "plt.title('Box Plot - Count')\n",
    "plt.ylabel('Target')\n",
    "plt.grid(True)"
   ]
  },
  {
   "cell_type": "code",
   "execution_count": 10,
   "metadata": {
    "execution": {
     "iopub.execute_input": "2020-12-26T10:25:49.033887Z",
     "iopub.status.busy": "2020-12-26T10:25:49.027144Z",
     "iopub.status.idle": "2020-12-26T10:25:49.166074Z",
     "shell.execute_reply": "2020-12-26T10:25:49.165304Z"
    },
    "papermill": {
     "duration": 0.269009,
     "end_time": "2020-12-26T10:25:49.166209",
     "exception": false,
     "start_time": "2020-12-26T10:25:48.897200",
     "status": "completed"
    },
    "tags": []
   },
   "outputs": [
    {
     "data": {
      "image/png": "[encoded data removed]",
      "text/plain": [
       "<Figure size 432x288 with 1 Axes>"
      ]
     },
     "metadata": {
      "needs_background": "light"
     },
     "output_type": "display_data"
    }
   ],
   "source": [
    "# Let's see how the data distribution changes with log1p\n",
    "# Evenly distributed\n",
    "plt.boxplot([df['count'].map(np.log1p)], labels=['log1p(count)'])\n",
    "plt.title('Box Plot - log1p(Count)')\n",
    "plt.ylabel('Target')\n",
    "plt.grid(True)"
   ]
  },
  {
   "cell_type": "code",
   "execution_count": 11,
   "metadata": {
    "execution": {
     "iopub.execute_input": "2020-12-26T10:25:49.391964Z",
     "iopub.status.busy": "2020-12-26T10:25:49.391084Z",
     "iopub.status.idle": "2020-12-26T10:25:49.395536Z",
     "shell.execute_reply": "2020-12-26T10:25:49.394760Z"
    },
    "papermill": {
     "duration": 0.132647,
     "end_time": "2020-12-26T10:25:49.395658",
     "exception": false,
     "start_time": "2020-12-26T10:25:49.263011",
     "status": "completed"
    },
    "tags": []
   },
   "outputs": [],
   "source": [
    "df[\"count\"] = df[\"count\"].map(np.log1p)"
   ]
  },
  {
   "cell_type": "code",
   "execution_count": 12,
   "metadata": {
    "execution": {
     "iopub.execute_input": "2020-12-26T10:25:49.626763Z",
     "iopub.status.busy": "2020-12-26T10:25:49.625660Z",
     "iopub.status.idle": "2020-12-26T10:25:49.643605Z",
     "shell.execute_reply": "2020-12-26T10:25:49.644381Z"
    },
    "papermill": {
     "duration": 0.152565,
     "end_time": "2020-12-26T10:25:49.644590",
     "exception": false,
     "start_time": "2020-12-26T10:25:49.492025",
     "status": "completed"
    },
    "tags": []
   },
   "outputs": [
    {
     "data": {
      "text/html": [
       "<div>\n",
       "<style scoped>\n",
       "    .dataframe tbody tr th:only-of-type {\n",
       "        vertical-align: middle;\n",
       "    }\n",
       "\n",
       "    .dataframe tbody tr th {\n",
       "        vertical-align: top;\n",
       "    }\n",
       "\n",
       "    .dataframe thead th {\n",
       "        text-align: right;\n",
       "    }\n",
       "</style>\n",
       "<table border=\"1\" class=\"dataframe\">\n",
       "  <thead>\n",
       "    <tr style=\"text-align: right;\">\n",
       "      <th></th>\n",
       "      <th>season</th>\n",
       "      <th>holiday</th>\n",
       "      <th>workingday</th>\n",
       "      <th>weather</th>\n",
       "      <th>temp</th>\n",
       "      <th>atemp</th>\n",
       "      <th>humidity</th>\n",
       "      <th>windspeed</th>\n",
       "      <th>casual</th>\n",
       "      <th>registered</th>\n",
       "      <th>count</th>\n",
       "      <th>year</th>\n",
       "      <th>month</th>\n",
       "      <th>day</th>\n",
       "      <th>dayofweek</th>\n",
       "      <th>hour</th>\n",
       "    </tr>\n",
       "    <tr>\n",
       "      <th>datetime</th>\n",
       "      <th></th>\n",
       "      <th></th>\n",
       "      <th></th>\n",
       "      <th></th>\n",
       "      <th></th>\n",
       "      <th></th>\n",
       "      <th></th>\n",
       "      <th></th>\n",
       "      <th></th>\n",
       "      <th></th>\n",
       "      <th></th>\n",
       "      <th></th>\n",
       "      <th></th>\n",
       "      <th></th>\n",
       "      <th></th>\n",
       "      <th></th>\n",
       "    </tr>\n",
       "  </thead>\n",
       "  <tbody>\n",
       "    <tr>\n",
       "      <th>2011-01-01 00:00:00</th>\n",
       "      <td>1</td>\n",
       "      <td>0</td>\n",
       "      <td>0</td>\n",
       "      <td>1</td>\n",
       "      <td>9.84</td>\n",
       "      <td>14.395</td>\n",
       "      <td>81</td>\n",
       "      <td>0.0</td>\n",
       "      <td>3</td>\n",
       "      <td>13</td>\n",
       "      <td>2.833213</td>\n",
       "      <td>2011</td>\n",
       "      <td>1</td>\n",
       "      <td>1</td>\n",
       "      <td>5</td>\n",
       "      <td>0</td>\n",
       "    </tr>\n",
       "    <tr>\n",
       "      <th>2011-01-01 01:00:00</th>\n",
       "      <td>1</td>\n",
       "      <td>0</td>\n",
       "      <td>0</td>\n",
       "      <td>1</td>\n",
       "      <td>9.02</td>\n",
       "      <td>13.635</td>\n",
       "      <td>80</td>\n",
       "      <td>0.0</td>\n",
       "      <td>8</td>\n",
       "      <td>32</td>\n",
       "      <td>3.713572</td>\n",
       "      <td>2011</td>\n",
       "      <td>1</td>\n",
       "      <td>1</td>\n",
       "      <td>5</td>\n",
       "      <td>1</td>\n",
       "    </tr>\n",
       "    <tr>\n",
       "      <th>2011-01-01 02:00:00</th>\n",
       "      <td>1</td>\n",
       "      <td>0</td>\n",
       "      <td>0</td>\n",
       "      <td>1</td>\n",
       "      <td>9.02</td>\n",
       "      <td>13.635</td>\n",
       "      <td>80</td>\n",
       "      <td>0.0</td>\n",
       "      <td>5</td>\n",
       "      <td>27</td>\n",
       "      <td>3.496508</td>\n",
       "      <td>2011</td>\n",
       "      <td>1</td>\n",
       "      <td>1</td>\n",
       "      <td>5</td>\n",
       "      <td>2</td>\n",
       "    </tr>\n",
       "    <tr>\n",
       "      <th>2011-01-01 03:00:00</th>\n",
       "      <td>1</td>\n",
       "      <td>0</td>\n",
       "      <td>0</td>\n",
       "      <td>1</td>\n",
       "      <td>9.84</td>\n",
       "      <td>14.395</td>\n",
       "      <td>75</td>\n",
       "      <td>0.0</td>\n",
       "      <td>3</td>\n",
       "      <td>10</td>\n",
       "      <td>2.639057</td>\n",
       "      <td>2011</td>\n",
       "      <td>1</td>\n",
       "      <td>1</td>\n",
       "      <td>5</td>\n",
       "      <td>3</td>\n",
       "    </tr>\n",
       "    <tr>\n",
       "      <th>2011-01-01 04:00:00</th>\n",
       "      <td>1</td>\n",
       "      <td>0</td>\n",
       "      <td>0</td>\n",
       "      <td>1</td>\n",
       "      <td>9.84</td>\n",
       "      <td>14.395</td>\n",
       "      <td>75</td>\n",
       "      <td>0.0</td>\n",
       "      <td>0</td>\n",
       "      <td>1</td>\n",
       "      <td>0.693147</td>\n",
       "      <td>2011</td>\n",
       "      <td>1</td>\n",
       "      <td>1</td>\n",
       "      <td>5</td>\n",
       "      <td>4</td>\n",
       "    </tr>\n",
       "  </tbody>\n",
       "</table>\n",
       "</div>"
      ],
      "text/plain": [
       "                     season  holiday  workingday  weather  temp   atemp  \\\n",
       "datetime                                                                  \n",
       "2011-01-01 00:00:00       1        0           0        1  9.84  14.395   \n",
       "2011-01-01 01:00:00       1        0           0        1  9.02  13.635   \n",
       "2011-01-01 02:00:00       1        0           0        1  9.02  13.635   \n",
       "2011-01-01 03:00:00       1        0           0        1  9.84  14.395   \n",
       "2011-01-01 04:00:00       1        0           0        1  9.84  14.395   \n",
       "\n",
       "                     humidity  windspeed  casual  registered     count  year  \\\n",
       "datetime                                                                       \n",
       "2011-01-01 00:00:00        81        0.0       3          13  2.833213  2011   \n",
       "2011-01-01 01:00:00        80        0.0       8          32  3.713572  2011   \n",
       "2011-01-01 02:00:00        80        0.0       5          27  3.496508  2011   \n",
       "2011-01-01 03:00:00        75        0.0       3          10  2.639057  2011   \n",
       "2011-01-01 04:00:00        75        0.0       0           1  0.693147  2011   \n",
       "\n",
       "                     month  day  dayofweek  hour  \n",
       "datetime                                          \n",
       "2011-01-01 00:00:00      1    1          5     0  \n",
       "2011-01-01 01:00:00      1    1          5     1  \n",
       "2011-01-01 02:00:00      1    1          5     2  \n",
       "2011-01-01 03:00:00      1    1          5     3  \n",
       "2011-01-01 04:00:00      1    1          5     4  "
      ]
     },
     "execution_count": 12,
     "metadata": {},
     "output_type": "execute_result"
    }
   ],
   "source": [
    "df.head()"
   ]
  },
  {
   "cell_type": "code",
   "execution_count": 13,
   "metadata": {
    "execution": {
     "iopub.execute_input": "2020-12-26T10:25:49.864468Z",
     "iopub.status.busy": "2020-12-26T10:25:49.863394Z",
     "iopub.status.idle": "2020-12-26T10:25:49.868405Z",
     "shell.execute_reply": "2020-12-26T10:25:49.867651Z"
    },
    "papermill": {
     "duration": 0.120589,
     "end_time": "2020-12-26T10:25:49.868531",
     "exception": false,
     "start_time": "2020-12-26T10:25:49.747942",
     "status": "completed"
    },
    "tags": []
   },
   "outputs": [
    {
     "data": {
      "text/html": [
       "<div>\n",
       "<style scoped>\n",
       "    .dataframe tbody tr th:only-of-type {\n",
       "        vertical-align: middle;\n",
       "    }\n",
       "\n",
       "    .dataframe tbody tr th {\n",
       "        vertical-align: top;\n",
       "    }\n",
       "\n",
       "    .dataframe thead th {\n",
       "        text-align: right;\n",
       "    }\n",
       "</style>\n",
       "<table border=\"1\" class=\"dataframe\">\n",
       "  <thead>\n",
       "    <tr style=\"text-align: right;\">\n",
       "      <th></th>\n",
       "      <th>season</th>\n",
       "      <th>holiday</th>\n",
       "      <th>workingday</th>\n",
       "      <th>weather</th>\n",
       "      <th>temp</th>\n",
       "      <th>atemp</th>\n",
       "      <th>humidity</th>\n",
       "      <th>windspeed</th>\n",
       "      <th>year</th>\n",
       "      <th>month</th>\n",
       "      <th>day</th>\n",
       "      <th>dayofweek</th>\n",
       "      <th>hour</th>\n",
       "    </tr>\n",
       "    <tr>\n",
       "      <th>datetime</th>\n",
       "      <th></th>\n",
       "      <th></th>\n",
       "      <th></th>\n",
       "      <th></th>\n",
       "      <th></th>\n",
       "      <th></th>\n",
       "      <th></th>\n",
       "      <th></th>\n",
       "      <th></th>\n",
       "      <th></th>\n",
       "      <th></th>\n",
       "      <th></th>\n",
       "      <th></th>\n",
       "    </tr>\n",
       "  </thead>\n",
       "  <tbody>\n",
       "    <tr>\n",
       "      <th>2011-01-20 00:00:00</th>\n",
       "      <td>1</td>\n",
       "      <td>0</td>\n",
       "      <td>1</td>\n",
       "      <td>1</td>\n",
       "      <td>10.66</td>\n",
       "      <td>11.365</td>\n",
       "      <td>56</td>\n",
       "      <td>26.0027</td>\n",
       "      <td>2011</td>\n",
       "      <td>1</td>\n",
       "      <td>20</td>\n",
       "      <td>3</td>\n",
       "      <td>0</td>\n",
       "    </tr>\n",
       "    <tr>\n",
       "      <th>2011-01-20 01:00:00</th>\n",
       "      <td>1</td>\n",
       "      <td>0</td>\n",
       "      <td>1</td>\n",
       "      <td>1</td>\n",
       "      <td>10.66</td>\n",
       "      <td>13.635</td>\n",
       "      <td>56</td>\n",
       "      <td>0.0000</td>\n",
       "      <td>2011</td>\n",
       "      <td>1</td>\n",
       "      <td>20</td>\n",
       "      <td>3</td>\n",
       "      <td>1</td>\n",
       "    </tr>\n",
       "    <tr>\n",
       "      <th>2011-01-20 02:00:00</th>\n",
       "      <td>1</td>\n",
       "      <td>0</td>\n",
       "      <td>1</td>\n",
       "      <td>1</td>\n",
       "      <td>10.66</td>\n",
       "      <td>13.635</td>\n",
       "      <td>56</td>\n",
       "      <td>0.0000</td>\n",
       "      <td>2011</td>\n",
       "      <td>1</td>\n",
       "      <td>20</td>\n",
       "      <td>3</td>\n",
       "      <td>2</td>\n",
       "    </tr>\n",
       "    <tr>\n",
       "      <th>2011-01-20 03:00:00</th>\n",
       "      <td>1</td>\n",
       "      <td>0</td>\n",
       "      <td>1</td>\n",
       "      <td>1</td>\n",
       "      <td>10.66</td>\n",
       "      <td>12.880</td>\n",
       "      <td>56</td>\n",
       "      <td>11.0014</td>\n",
       "      <td>2011</td>\n",
       "      <td>1</td>\n",
       "      <td>20</td>\n",
       "      <td>3</td>\n",
       "      <td>3</td>\n",
       "    </tr>\n",
       "    <tr>\n",
       "      <th>2011-01-20 04:00:00</th>\n",
       "      <td>1</td>\n",
       "      <td>0</td>\n",
       "      <td>1</td>\n",
       "      <td>1</td>\n",
       "      <td>10.66</td>\n",
       "      <td>12.880</td>\n",
       "      <td>56</td>\n",
       "      <td>11.0014</td>\n",
       "      <td>2011</td>\n",
       "      <td>1</td>\n",
       "      <td>20</td>\n",
       "      <td>3</td>\n",
       "      <td>4</td>\n",
       "    </tr>\n",
       "  </tbody>\n",
       "</table>\n",
       "</div>"
      ],
      "text/plain": [
       "                     season  holiday  workingday  weather   temp   atemp  \\\n",
       "datetime                                                                   \n",
       "2011-01-20 00:00:00       1        0           1        1  10.66  11.365   \n",
       "2011-01-20 01:00:00       1        0           1        1  10.66  13.635   \n",
       "2011-01-20 02:00:00       1        0           1        1  10.66  13.635   \n",
       "2011-01-20 03:00:00       1        0           1        1  10.66  12.880   \n",
       "2011-01-20 04:00:00       1        0           1        1  10.66  12.880   \n",
       "\n",
       "                     humidity  windspeed  year  month  day  dayofweek  hour  \n",
       "datetime                                                                     \n",
       "2011-01-20 00:00:00        56    26.0027  2011      1   20          3     0  \n",
       "2011-01-20 01:00:00        56     0.0000  2011      1   20          3     1  \n",
       "2011-01-20 02:00:00        56     0.0000  2011      1   20          3     2  \n",
       "2011-01-20 03:00:00        56    11.0014  2011      1   20          3     3  \n",
       "2011-01-20 04:00:00        56    11.0014  2011      1   20          3     4  "
      ]
     },
     "execution_count": 13,
     "metadata": {},
     "output_type": "execute_result"
    }
   ],
   "source": [
    "df_test.head()"
   ]
  },
  {
   "cell_type": "code",
   "execution_count": 14,
   "metadata": {
    "execution": {
     "iopub.execute_input": "2020-12-26T10:25:50.074990Z",
     "iopub.status.busy": "2020-12-26T10:25:50.073946Z",
     "iopub.status.idle": "2020-12-26T10:25:50.078914Z",
     "shell.execute_reply": "2020-12-26T10:25:50.078165Z"
    },
    "papermill": {
     "duration": 0.111459,
     "end_time": "2020-12-26T10:25:50.079037",
     "exception": false,
     "start_time": "2020-12-26T10:25:49.967578",
     "status": "completed"
    },
    "tags": []
   },
   "outputs": [
    {
     "data": {
      "text/plain": [
       "season          int64\n",
       "holiday         int64\n",
       "workingday      int64\n",
       "weather         int64\n",
       "temp          float64\n",
       "atemp         float64\n",
       "humidity        int64\n",
       "windspeed     float64\n",
       "casual          int64\n",
       "registered      int64\n",
       "count         float64\n",
       "year            int64\n",
       "month           int64\n",
       "day             int64\n",
       "dayofweek       int64\n",
       "hour            int64\n",
       "dtype: object"
      ]
     },
     "execution_count": 14,
     "metadata": {},
     "output_type": "execute_result"
    }
   ],
   "source": [
    "df.dtypes"
   ]
  },
  {
   "cell_type": "code",
   "execution_count": 15,
   "metadata": {
    "execution": {
     "iopub.execute_input": "2020-12-26T10:25:50.281686Z",
     "iopub.status.busy": "2020-12-26T10:25:50.280930Z",
     "iopub.status.idle": "2020-12-26T10:25:50.715104Z",
     "shell.execute_reply": "2020-12-26T10:25:50.715875Z"
    },
    "papermill": {
     "duration": 0.538635,
     "end_time": "2020-12-26T10:25:50.716056",
     "exception": false,
     "start_time": "2020-12-26T10:25:50.177421",
     "status": "completed"
    },
    "tags": []
   },
   "outputs": [],
   "source": [
    "# Save all data\n",
    "df.to_csv('bike_all.csv',index=True,index_label='datetime',columns=columns)"
   ]
  },
  {
   "cell_type": "markdown",
   "metadata": {
    "papermill": {
     "duration": 0.10347,
     "end_time": "2020-12-26T10:25:50.922710",
     "exception": false,
     "start_time": "2020-12-26T10:25:50.819240",
     "status": "completed"
    },
    "tags": []
   },
   "source": [
    "# Training and Validation Set\n",
    "* Target Variable as first column followed by input features\n",
    "* Training, Validation files do not have a column header"
   ]
  },
  {
   "cell_type": "code",
   "execution_count": 16,
   "metadata": {
    "execution": {
     "iopub.execute_input": "2020-12-26T10:25:51.210774Z",
     "iopub.status.busy": "2020-12-26T10:25:51.175578Z",
     "iopub.status.idle": "2020-12-26T10:25:51.222480Z",
     "shell.execute_reply": "2020-12-26T10:25:51.221796Z"
    },
    "papermill": {
     "duration": 0.197302,
     "end_time": "2020-12-26T10:25:51.222638",
     "exception": false,
     "start_time": "2020-12-26T10:25:51.025336",
     "status": "completed"
    },
    "tags": []
   },
   "outputs": [],
   "source": [
    "# Training = 70% of the data\n",
    "# Validation = 30% of the data\n",
    "# Randomize the datset\n",
    "np.random.seed(5)\n",
    "l = list(df.index)\n",
    "np.random.shuffle(l)\n",
    "df = df.loc[l]"
   ]
  },
  {
   "cell_type": "code",
   "execution_count": 17,
   "metadata": {
    "execution": {
     "iopub.execute_input": "2020-12-26T10:25:51.435744Z",
     "iopub.status.busy": "2020-12-26T10:25:51.434903Z",
     "iopub.status.idle": "2020-12-26T10:25:51.437487Z",
     "shell.execute_reply": "2020-12-26T10:25:51.438158Z"
    },
    "papermill": {
     "duration": 0.112056,
     "end_time": "2020-12-26T10:25:51.438342",
     "exception": false,
     "start_time": "2020-12-26T10:25:51.326286",
     "status": "completed"
    },
    "tags": []
   },
   "outputs": [],
   "source": [
    "rows = df.shape[0]\n",
    "train = int(.7 * rows)\n",
    "test = rows-train"
   ]
  },
  {
   "cell_type": "code",
   "execution_count": 18,
   "metadata": {
    "execution": {
     "iopub.execute_input": "2020-12-26T10:25:51.644817Z",
     "iopub.status.busy": "2020-12-26T10:25:51.643816Z",
     "iopub.status.idle": "2020-12-26T10:25:51.648633Z",
     "shell.execute_reply": "2020-12-26T10:25:51.647924Z"
    },
    "papermill": {
     "duration": 0.109863,
     "end_time": "2020-12-26T10:25:51.648755",
     "exception": false,
     "start_time": "2020-12-26T10:25:51.538892",
     "status": "completed"
    },
    "tags": []
   },
   "outputs": [
    {
     "data": {
      "text/plain": [
       "(10886, 7620, 3266)"
      ]
     },
     "execution_count": 18,
     "metadata": {},
     "output_type": "execute_result"
    }
   ],
   "source": [
    "rows, train, test"
   ]
  },
  {
   "cell_type": "code",
   "execution_count": 19,
   "metadata": {
    "execution": {
     "iopub.execute_input": "2020-12-26T10:25:51.853006Z",
     "iopub.status.busy": "2020-12-26T10:25:51.851982Z",
     "iopub.status.idle": "2020-12-26T10:25:51.856305Z",
     "shell.execute_reply": "2020-12-26T10:25:51.856829Z"
    },
    "papermill": {
     "duration": 0.109215,
     "end_time": "2020-12-26T10:25:51.856991",
     "exception": false,
     "start_time": "2020-12-26T10:25:51.747776",
     "status": "completed"
    },
    "tags": []
   },
   "outputs": [
    {
     "data": {
      "text/plain": [
       "['count',\n",
       " 'season',\n",
       " 'holiday',\n",
       " 'workingday',\n",
       " 'weather',\n",
       " 'temp',\n",
       " 'atemp',\n",
       " 'humidity',\n",
       " 'windspeed',\n",
       " 'year',\n",
       " 'month',\n",
       " 'day',\n",
       " 'dayofweek',\n",
       " 'hour']"
      ]
     },
     "execution_count": 19,
     "metadata": {},
     "output_type": "execute_result"
    }
   ],
   "source": [
    "columns"
   ]
  },
  {
   "cell_type": "code",
   "execution_count": 20,
   "metadata": {
    "execution": {
     "iopub.execute_input": "2020-12-26T10:25:52.067949Z",
     "iopub.status.busy": "2020-12-26T10:25:52.067145Z",
     "iopub.status.idle": "2020-12-26T10:25:52.163687Z",
     "shell.execute_reply": "2020-12-26T10:25:52.162999Z"
    },
    "papermill": {
     "duration": 0.206187,
     "end_time": "2020-12-26T10:25:52.163829",
     "exception": false,
     "start_time": "2020-12-26T10:25:51.957642",
     "status": "completed"
    },
    "tags": []
   },
   "outputs": [],
   "source": [
    "# Write Training Set\n",
    "df.iloc[:train].to_csv('bike_train.csv'\n",
    "                          ,index=False,header=False\n",
    "                          ,columns=columns)"
   ]
  },
  {
   "cell_type": "code",
   "execution_count": 21,
   "metadata": {
    "execution": {
     "iopub.execute_input": "2020-12-26T10:25:52.373133Z",
     "iopub.status.busy": "2020-12-26T10:25:52.372348Z",
     "iopub.status.idle": "2020-12-26T10:25:52.416015Z",
     "shell.execute_reply": "2020-12-26T10:25:52.415362Z"
    },
    "papermill": {
     "duration": 0.151231,
     "end_time": "2020-12-26T10:25:52.416149",
     "exception": false,
     "start_time": "2020-12-26T10:25:52.264918",
     "status": "completed"
    },
    "tags": []
   },
   "outputs": [],
   "source": [
    "# Write Validation Set\n",
    "df.iloc[train:].to_csv('bike_validation.csv'\n",
    "                          ,index=False,header=False\n",
    "                          ,columns=columns)"
   ]
  },
  {
   "cell_type": "code",
   "execution_count": 22,
   "metadata": {
    "execution": {
     "iopub.execute_input": "2020-12-26T10:25:52.626267Z",
     "iopub.status.busy": "2020-12-26T10:25:52.625183Z",
     "iopub.status.idle": "2020-12-26T10:25:52.694934Z",
     "shell.execute_reply": "2020-12-26T10:25:52.694178Z"
    },
    "papermill": {
     "duration": 0.177245,
     "end_time": "2020-12-26T10:25:52.695061",
     "exception": false,
     "start_time": "2020-12-26T10:25:52.517816",
     "status": "completed"
    },
    "tags": []
   },
   "outputs": [],
   "source": [
    "# Test Data has only input features\n",
    "df_test.to_csv('bike_test.csv',index=True,index_label='datetime')"
   ]
  },
  {
   "cell_type": "code",
   "execution_count": 23,
   "metadata": {
    "execution": {
     "iopub.execute_input": "2020-12-26T10:25:52.902210Z",
     "iopub.status.busy": "2020-12-26T10:25:52.901292Z",
     "iopub.status.idle": "2020-12-26T10:25:52.905437Z",
     "shell.execute_reply": "2020-12-26T10:25:52.904693Z"
    },
    "papermill": {
     "duration": 0.10998,
     "end_time": "2020-12-26T10:25:52.905580",
     "exception": false,
     "start_time": "2020-12-26T10:25:52.795600",
     "status": "completed"
    },
    "tags": []
   },
   "outputs": [
    {
     "name": "stdout",
     "output_type": "stream",
     "text": [
      "count,season,holiday,workingday,weather,temp,atemp,humidity,windspeed,year,month,day,dayofweek,hour\n"
     ]
    }
   ],
   "source": [
    "print(','.join(columns))"
   ]
  },
  {
   "cell_type": "code",
   "execution_count": 24,
   "metadata": {
    "execution": {
     "iopub.execute_input": "2020-12-26T10:25:53.116926Z",
     "iopub.status.busy": "2020-12-26T10:25:53.116155Z",
     "iopub.status.idle": "2020-12-26T10:25:53.119450Z",
     "shell.execute_reply": "2020-12-26T10:25:53.120057Z"
    },
    "papermill": {
     "duration": 0.112289,
     "end_time": "2020-12-26T10:25:53.120215",
     "exception": false,
     "start_time": "2020-12-26T10:25:53.007926",
     "status": "completed"
    },
    "tags": []
   },
   "outputs": [],
   "source": [
    "# Write Column List\n",
    "with open('bike_train_column_list.txt','w') as f:\n",
    "    f.write(','.join(columns))"
   ]
  },
  {
   "cell_type": "markdown",
   "metadata": {
    "papermill": {
     "duration": 0.10121,
     "end_time": "2020-12-26T10:25:53.323086",
     "exception": false,
     "start_time": "2020-12-26T10:25:53.221876",
     "status": "completed"
    },
    "tags": []
   },
   "source": [
    "# Regression using SKLearn's Neural Network (NN)\n",
    "* One-Hot Encode categorical features, Standardize numeric features\n",
    "* Objective:\n",
    "\n",
    "* Train a bike rental prediction model\n",
    "* NN requires one hot encoding of categorical data\n",
    "* NN also requires features to be on similar scale\n",
    "* Perform one-hot encoding of all categorical features: ['season', 'holiday', 'workingday', 'weather', 'year', 'month', 'day', 'dayofweek', 'hour']\n",
    "* Verify model performance"
   ]
  },
  {
   "cell_type": "code",
   "execution_count": 25,
   "metadata": {
    "execution": {
     "iopub.execute_input": "2020-12-26T10:25:53.534998Z",
     "iopub.status.busy": "2020-12-26T10:25:53.534060Z",
     "iopub.status.idle": "2020-12-26T10:25:54.572970Z",
     "shell.execute_reply": "2020-12-26T10:25:54.572341Z"
    },
    "papermill": {
     "duration": 1.149442,
     "end_time": "2020-12-26T10:25:54.573114",
     "exception": false,
     "start_time": "2020-12-26T10:25:53.423672",
     "status": "completed"
    },
    "tags": []
   },
   "outputs": [],
   "source": [
    "import sys\n",
    "import numpy as np\n",
    "# Set random seed\n",
    "np.random.seed(0)\n",
    "\n",
    "import pandas as pd\n",
    "import matplotlib.pyplot as plt\n",
    "from sklearn.metrics import mean_squared_error, mean_absolute_error\n",
    "\n",
    "# NN\n",
    "from sklearn.neural_network import MLPRegressor\n",
    "from sklearn.preprocessing import StandardScaler, OneHotEncoder, MinMaxScaler, KBinsDiscretizer\n",
    "# Column Transformer\n",
    "from sklearn.compose import ColumnTransformer"
   ]
  },
  {
   "cell_type": "code",
   "execution_count": 26,
   "metadata": {
    "execution": {
     "iopub.execute_input": "2020-12-26T10:25:54.781918Z",
     "iopub.status.busy": "2020-12-26T10:25:54.780879Z",
     "iopub.status.idle": "2020-12-26T10:25:54.784491Z",
     "shell.execute_reply": "2020-12-26T10:25:54.783902Z"
    },
    "papermill": {
     "duration": 0.110092,
     "end_time": "2020-12-26T10:25:54.784621",
     "exception": false,
     "start_time": "2020-12-26T10:25:54.674529",
     "status": "completed"
    },
    "tags": []
   },
   "outputs": [],
   "source": [
    "column_list_file = 'bike_train_column_list.txt'\n",
    "train_file = 'bike_train.csv'\n",
    "validation_file = 'bike_validation.csv'\n",
    "test_file = 'bike_test.csv'"
   ]
  },
  {
   "cell_type": "markdown",
   "metadata": {
    "papermill": {
     "duration": 0.101122,
     "end_time": "2020-12-26T10:25:54.986785",
     "exception": false,
     "start_time": "2020-12-26T10:25:54.885663",
     "status": "completed"
    },
    "tags": []
   },
   "source": [
    "# One Hot Encoding"
   ]
  },
  {
   "cell_type": "code",
   "execution_count": 27,
   "metadata": {
    "execution": {
     "iopub.execute_input": "2020-12-26T10:25:55.196773Z",
     "iopub.status.busy": "2020-12-26T10:25:55.195831Z",
     "iopub.status.idle": "2020-12-26T10:25:55.198397Z",
     "shell.execute_reply": "2020-12-26T10:25:55.198964Z"
    },
    "papermill": {
     "duration": 0.110536,
     "end_time": "2020-12-26T10:25:55.199141",
     "exception": false,
     "start_time": "2020-12-26T10:25:55.088605",
     "status": "completed"
    },
    "tags": []
   },
   "outputs": [],
   "source": [
    "# One Hot Encode all Categorical Features\n",
    "# Let's define all the categorical features\n",
    "categorical_features = ['season','holiday','workingday','weather','year','month','dayofweek','hour']\n",
    "\n",
    "# Standardize Features\n",
    "standardize_features = ['temp', 'atemp', 'humidity', 'windspeed']"
   ]
  },
  {
   "cell_type": "code",
   "execution_count": 28,
   "metadata": {
    "execution": {
     "iopub.execute_input": "2020-12-26T10:25:55.409764Z",
     "iopub.status.busy": "2020-12-26T10:25:55.408922Z",
     "iopub.status.idle": "2020-12-26T10:25:55.412521Z",
     "shell.execute_reply": "2020-12-26T10:25:55.411751Z"
    },
    "papermill": {
     "duration": 0.110497,
     "end_time": "2020-12-26T10:25:55.412648",
     "exception": false,
     "start_time": "2020-12-26T10:25:55.302151",
     "status": "completed"
    },
    "tags": []
   },
   "outputs": [],
   "source": [
    "columns = ''\n",
    "with open(column_list_file,'r') as f:\n",
    "    columns = f.read().split(',')"
   ]
  },
  {
   "cell_type": "code",
   "execution_count": 29,
   "metadata": {
    "execution": {
     "iopub.execute_input": "2020-12-26T10:25:55.624500Z",
     "iopub.status.busy": "2020-12-26T10:25:55.623560Z",
     "iopub.status.idle": "2020-12-26T10:25:55.628393Z",
     "shell.execute_reply": "2020-12-26T10:25:55.627627Z"
    },
    "papermill": {
     "duration": 0.112812,
     "end_time": "2020-12-26T10:25:55.628524",
     "exception": false,
     "start_time": "2020-12-26T10:25:55.515712",
     "status": "completed"
    },
    "tags": []
   },
   "outputs": [
    {
     "data": {
      "text/plain": [
       "['count',\n",
       " 'season',\n",
       " 'holiday',\n",
       " 'workingday',\n",
       " 'weather',\n",
       " 'temp',\n",
       " 'atemp',\n",
       " 'humidity',\n",
       " 'windspeed',\n",
       " 'year',\n",
       " 'month',\n",
       " 'day',\n",
       " 'dayofweek',\n",
       " 'hour']"
      ]
     },
     "execution_count": 29,
     "metadata": {},
     "output_type": "execute_result"
    }
   ],
   "source": [
    "columns"
   ]
  },
  {
   "cell_type": "code",
   "execution_count": 30,
   "metadata": {
    "execution": {
     "iopub.execute_input": "2020-12-26T10:25:55.841716Z",
     "iopub.status.busy": "2020-12-26T10:25:55.840694Z",
     "iopub.status.idle": "2020-12-26T10:25:55.867380Z",
     "shell.execute_reply": "2020-12-26T10:25:55.866639Z"
    },
    "papermill": {
     "duration": 0.134879,
     "end_time": "2020-12-26T10:25:55.867515",
     "exception": false,
     "start_time": "2020-12-26T10:25:55.732636",
     "status": "completed"
    },
    "tags": []
   },
   "outputs": [],
   "source": [
    "# Specify the column names as the file does not have column header\n",
    "df_train = pd.read_csv(train_file,names=columns)\n",
    "df_validation = pd.read_csv(validation_file,names=columns)"
   ]
  },
  {
   "cell_type": "code",
   "execution_count": 31,
   "metadata": {
    "execution": {
     "iopub.execute_input": "2020-12-26T10:25:56.096816Z",
     "iopub.status.busy": "2020-12-26T10:25:56.095770Z",
     "iopub.status.idle": "2020-12-26T10:25:56.099955Z",
     "shell.execute_reply": "2020-12-26T10:25:56.100775Z"
    },
    "papermill": {
     "duration": 0.126638,
     "end_time": "2020-12-26T10:25:56.100939",
     "exception": false,
     "start_time": "2020-12-26T10:25:55.974301",
     "status": "completed"
    },
    "tags": []
   },
   "outputs": [
    {
     "data": {
      "text/html": [
       "<div>\n",
       "<style scoped>\n",
       "    .dataframe tbody tr th:only-of-type {\n",
       "        vertical-align: middle;\n",
       "    }\n",
       "\n",
       "    .dataframe tbody tr th {\n",
       "        vertical-align: top;\n",
       "    }\n",
       "\n",
       "    .dataframe thead th {\n",
       "        text-align: right;\n",
       "    }\n",
       "</style>\n",
       "<table border=\"1\" class=\"dataframe\">\n",
       "  <thead>\n",
       "    <tr style=\"text-align: right;\">\n",
       "      <th></th>\n",
       "      <th>count</th>\n",
       "      <th>season</th>\n",
       "      <th>holiday</th>\n",
       "      <th>workingday</th>\n",
       "      <th>weather</th>\n",
       "      <th>temp</th>\n",
       "      <th>atemp</th>\n",
       "      <th>humidity</th>\n",
       "      <th>windspeed</th>\n",
       "      <th>year</th>\n",
       "      <th>month</th>\n",
       "      <th>day</th>\n",
       "      <th>dayofweek</th>\n",
       "      <th>hour</th>\n",
       "    </tr>\n",
       "  </thead>\n",
       "  <tbody>\n",
       "    <tr>\n",
       "      <th>0</th>\n",
       "      <td>4.477337</td>\n",
       "      <td>3</td>\n",
       "      <td>0</td>\n",
       "      <td>0</td>\n",
       "      <td>2</td>\n",
       "      <td>26.24</td>\n",
       "      <td>30.305</td>\n",
       "      <td>73</td>\n",
       "      <td>7.0015</td>\n",
       "      <td>2011</td>\n",
       "      <td>9</td>\n",
       "      <td>3</td>\n",
       "      <td>5</td>\n",
       "      <td>0</td>\n",
       "    </tr>\n",
       "    <tr>\n",
       "      <th>1</th>\n",
       "      <td>5.517453</td>\n",
       "      <td>3</td>\n",
       "      <td>0</td>\n",
       "      <td>1</td>\n",
       "      <td>1</td>\n",
       "      <td>32.80</td>\n",
       "      <td>34.850</td>\n",
       "      <td>33</td>\n",
       "      <td>7.0015</td>\n",
       "      <td>2012</td>\n",
       "      <td>8</td>\n",
       "      <td>13</td>\n",
       "      <td>0</td>\n",
       "      <td>14</td>\n",
       "    </tr>\n",
       "    <tr>\n",
       "      <th>2</th>\n",
       "      <td>5.814131</td>\n",
       "      <td>4</td>\n",
       "      <td>0</td>\n",
       "      <td>0</td>\n",
       "      <td>1</td>\n",
       "      <td>15.58</td>\n",
       "      <td>19.695</td>\n",
       "      <td>40</td>\n",
       "      <td>11.0014</td>\n",
       "      <td>2011</td>\n",
       "      <td>11</td>\n",
       "      <td>5</td>\n",
       "      <td>5</td>\n",
       "      <td>17</td>\n",
       "    </tr>\n",
       "    <tr>\n",
       "      <th>3</th>\n",
       "      <td>6.436150</td>\n",
       "      <td>3</td>\n",
       "      <td>0</td>\n",
       "      <td>1</td>\n",
       "      <td>1</td>\n",
       "      <td>32.80</td>\n",
       "      <td>37.880</td>\n",
       "      <td>55</td>\n",
       "      <td>12.9980</td>\n",
       "      <td>2012</td>\n",
       "      <td>8</td>\n",
       "      <td>9</td>\n",
       "      <td>3</td>\n",
       "      <td>19</td>\n",
       "    </tr>\n",
       "    <tr>\n",
       "      <th>4</th>\n",
       "      <td>4.262680</td>\n",
       "      <td>2</td>\n",
       "      <td>0</td>\n",
       "      <td>1</td>\n",
       "      <td>1</td>\n",
       "      <td>13.94</td>\n",
       "      <td>17.425</td>\n",
       "      <td>76</td>\n",
       "      <td>7.0015</td>\n",
       "      <td>2011</td>\n",
       "      <td>4</td>\n",
       "      <td>14</td>\n",
       "      <td>3</td>\n",
       "      <td>6</td>\n",
       "    </tr>\n",
       "  </tbody>\n",
       "</table>\n",
       "</div>"
      ],
      "text/plain": [
       "      count  season  holiday  workingday  weather   temp   atemp  humidity  \\\n",
       "0  4.477337       3        0           0        2  26.24  30.305        73   \n",
       "1  5.517453       3        0           1        1  32.80  34.850        33   \n",
       "2  5.814131       4        0           0        1  15.58  19.695        40   \n",
       "3  6.436150       3        0           1        1  32.80  37.880        55   \n",
       "4  4.262680       2        0           1        1  13.94  17.425        76   \n",
       "\n",
       "   windspeed  year  month  day  dayofweek  hour  \n",
       "0     7.0015  2011      9    3          5     0  \n",
       "1     7.0015  2012      8   13          0    14  \n",
       "2    11.0014  2011     11    5          5    17  \n",
       "3    12.9980  2012      8    9          3    19  \n",
       "4     7.0015  2011      4   14          3     6  "
      ]
     },
     "execution_count": 31,
     "metadata": {},
     "output_type": "execute_result"
    }
   ],
   "source": [
    "df_train.head()"
   ]
  },
  {
   "cell_type": "code",
   "execution_count": 32,
   "metadata": {
    "execution": {
     "iopub.execute_input": "2020-12-26T10:25:56.326416Z",
     "iopub.status.busy": "2020-12-26T10:25:56.319460Z",
     "iopub.status.idle": "2020-12-26T10:25:56.332555Z",
     "shell.execute_reply": "2020-12-26T10:25:56.331947Z"
    },
    "papermill": {
     "duration": 0.12797,
     "end_time": "2020-12-26T10:25:56.332695",
     "exception": false,
     "start_time": "2020-12-26T10:25:56.204725",
     "status": "completed"
    },
    "tags": []
   },
   "outputs": [
    {
     "data": {
      "text/html": [
       "<div>\n",
       "<style scoped>\n",
       "    .dataframe tbody tr th:only-of-type {\n",
       "        vertical-align: middle;\n",
       "    }\n",
       "\n",
       "    .dataframe tbody tr th {\n",
       "        vertical-align: top;\n",
       "    }\n",
       "\n",
       "    .dataframe thead th {\n",
       "        text-align: right;\n",
       "    }\n",
       "</style>\n",
       "<table border=\"1\" class=\"dataframe\">\n",
       "  <thead>\n",
       "    <tr style=\"text-align: right;\">\n",
       "      <th></th>\n",
       "      <th>count</th>\n",
       "      <th>season</th>\n",
       "      <th>holiday</th>\n",
       "      <th>workingday</th>\n",
       "      <th>weather</th>\n",
       "      <th>temp</th>\n",
       "      <th>atemp</th>\n",
       "      <th>humidity</th>\n",
       "      <th>windspeed</th>\n",
       "      <th>year</th>\n",
       "      <th>month</th>\n",
       "      <th>day</th>\n",
       "      <th>dayofweek</th>\n",
       "      <th>hour</th>\n",
       "    </tr>\n",
       "  </thead>\n",
       "  <tbody>\n",
       "    <tr>\n",
       "      <th>0</th>\n",
       "      <td>6.095825</td>\n",
       "      <td>3</td>\n",
       "      <td>0</td>\n",
       "      <td>1</td>\n",
       "      <td>2</td>\n",
       "      <td>28.70</td>\n",
       "      <td>33.335</td>\n",
       "      <td>79</td>\n",
       "      <td>12.9980</td>\n",
       "      <td>2011</td>\n",
       "      <td>7</td>\n",
       "      <td>7</td>\n",
       "      <td>3</td>\n",
       "      <td>8</td>\n",
       "    </tr>\n",
       "    <tr>\n",
       "      <th>1</th>\n",
       "      <td>5.961005</td>\n",
       "      <td>2</td>\n",
       "      <td>0</td>\n",
       "      <td>0</td>\n",
       "      <td>1</td>\n",
       "      <td>32.80</td>\n",
       "      <td>37.880</td>\n",
       "      <td>55</td>\n",
       "      <td>12.9980</td>\n",
       "      <td>2011</td>\n",
       "      <td>6</td>\n",
       "      <td>11</td>\n",
       "      <td>5</td>\n",
       "      <td>13</td>\n",
       "    </tr>\n",
       "    <tr>\n",
       "      <th>2</th>\n",
       "      <td>1.098612</td>\n",
       "      <td>1</td>\n",
       "      <td>0</td>\n",
       "      <td>1</td>\n",
       "      <td>1</td>\n",
       "      <td>14.76</td>\n",
       "      <td>16.665</td>\n",
       "      <td>40</td>\n",
       "      <td>19.9995</td>\n",
       "      <td>2011</td>\n",
       "      <td>2</td>\n",
       "      <td>14</td>\n",
       "      <td>0</td>\n",
       "      <td>2</td>\n",
       "    </tr>\n",
       "    <tr>\n",
       "      <th>3</th>\n",
       "      <td>3.891820</td>\n",
       "      <td>1</td>\n",
       "      <td>0</td>\n",
       "      <td>1</td>\n",
       "      <td>1</td>\n",
       "      <td>9.02</td>\n",
       "      <td>9.090</td>\n",
       "      <td>47</td>\n",
       "      <td>36.9974</td>\n",
       "      <td>2011</td>\n",
       "      <td>2</td>\n",
       "      <td>8</td>\n",
       "      <td>1</td>\n",
       "      <td>10</td>\n",
       "    </tr>\n",
       "    <tr>\n",
       "      <th>4</th>\n",
       "      <td>4.025352</td>\n",
       "      <td>4</td>\n",
       "      <td>0</td>\n",
       "      <td>0</td>\n",
       "      <td>1</td>\n",
       "      <td>10.66</td>\n",
       "      <td>15.150</td>\n",
       "      <td>87</td>\n",
       "      <td>0.0000</td>\n",
       "      <td>2011</td>\n",
       "      <td>12</td>\n",
       "      <td>4</td>\n",
       "      <td>6</td>\n",
       "      <td>8</td>\n",
       "    </tr>\n",
       "  </tbody>\n",
       "</table>\n",
       "</div>"
      ],
      "text/plain": [
       "      count  season  holiday  workingday  weather   temp   atemp  humidity  \\\n",
       "0  6.095825       3        0           1        2  28.70  33.335        79   \n",
       "1  5.961005       2        0           0        1  32.80  37.880        55   \n",
       "2  1.098612       1        0           1        1  14.76  16.665        40   \n",
       "3  3.891820       1        0           1        1   9.02   9.090        47   \n",
       "4  4.025352       4        0           0        1  10.66  15.150        87   \n",
       "\n",
       "   windspeed  year  month  day  dayofweek  hour  \n",
       "0    12.9980  2011      7    7          3     8  \n",
       "1    12.9980  2011      6   11          5    13  \n",
       "2    19.9995  2011      2   14          0     2  \n",
       "3    36.9974  2011      2    8          1    10  \n",
       "4     0.0000  2011     12    4          6     8  "
      ]
     },
     "execution_count": 32,
     "metadata": {},
     "output_type": "execute_result"
    }
   ],
   "source": [
    "df_validation.head()"
   ]
  },
  {
   "cell_type": "code",
   "execution_count": 33,
   "metadata": {
    "execution": {
     "iopub.execute_input": "2020-12-26T10:25:56.552996Z",
     "iopub.status.busy": "2020-12-26T10:25:56.551853Z",
     "iopub.status.idle": "2020-12-26T10:25:56.555986Z",
     "shell.execute_reply": "2020-12-26T10:25:56.555200Z"
    },
    "papermill": {
     "duration": 0.118352,
     "end_time": "2020-12-26T10:25:56.556124",
     "exception": false,
     "start_time": "2020-12-26T10:25:56.437772",
     "status": "completed"
    },
    "tags": []
   },
   "outputs": [],
   "source": [
    "X_train = df_train.iloc[:,1:] # Features: 1st column onwards \n",
    "y_train = df_train.iloc[:,0].ravel() # Target: 0th column\n",
    "\n",
    "X_validation = df_validation.iloc[:,1:]\n",
    "y_validation = df_validation.iloc[:,0].ravel()"
   ]
  },
  {
   "cell_type": "code",
   "execution_count": 34,
   "metadata": {
    "execution": {
     "iopub.execute_input": "2020-12-26T10:25:56.787247Z",
     "iopub.status.busy": "2020-12-26T10:25:56.786083Z",
     "iopub.status.idle": "2020-12-26T10:25:56.790636Z",
     "shell.execute_reply": "2020-12-26T10:25:56.789896Z"
    },
    "papermill": {
     "duration": 0.12765,
     "end_time": "2020-12-26T10:25:56.790758",
     "exception": false,
     "start_time": "2020-12-26T10:25:56.663108",
     "status": "completed"
    },
    "tags": []
   },
   "outputs": [
    {
     "data": {
      "text/html": [
       "<div>\n",
       "<style scoped>\n",
       "    .dataframe tbody tr th:only-of-type {\n",
       "        vertical-align: middle;\n",
       "    }\n",
       "\n",
       "    .dataframe tbody tr th {\n",
       "        vertical-align: top;\n",
       "    }\n",
       "\n",
       "    .dataframe thead th {\n",
       "        text-align: right;\n",
       "    }\n",
       "</style>\n",
       "<table border=\"1\" class=\"dataframe\">\n",
       "  <thead>\n",
       "    <tr style=\"text-align: right;\">\n",
       "      <th></th>\n",
       "      <th>count</th>\n",
       "      <th>season</th>\n",
       "      <th>holiday</th>\n",
       "      <th>workingday</th>\n",
       "      <th>weather</th>\n",
       "      <th>temp</th>\n",
       "      <th>atemp</th>\n",
       "      <th>humidity</th>\n",
       "      <th>windspeed</th>\n",
       "      <th>year</th>\n",
       "      <th>month</th>\n",
       "      <th>day</th>\n",
       "      <th>dayofweek</th>\n",
       "      <th>hour</th>\n",
       "    </tr>\n",
       "  </thead>\n",
       "  <tbody>\n",
       "    <tr>\n",
       "      <th>0</th>\n",
       "      <td>4.477337</td>\n",
       "      <td>3</td>\n",
       "      <td>0</td>\n",
       "      <td>0</td>\n",
       "      <td>2</td>\n",
       "      <td>26.24</td>\n",
       "      <td>30.305</td>\n",
       "      <td>73</td>\n",
       "      <td>7.0015</td>\n",
       "      <td>2011</td>\n",
       "      <td>9</td>\n",
       "      <td>3</td>\n",
       "      <td>5</td>\n",
       "      <td>0</td>\n",
       "    </tr>\n",
       "    <tr>\n",
       "      <th>1</th>\n",
       "      <td>5.517453</td>\n",
       "      <td>3</td>\n",
       "      <td>0</td>\n",
       "      <td>1</td>\n",
       "      <td>1</td>\n",
       "      <td>32.80</td>\n",
       "      <td>34.850</td>\n",
       "      <td>33</td>\n",
       "      <td>7.0015</td>\n",
       "      <td>2012</td>\n",
       "      <td>8</td>\n",
       "      <td>13</td>\n",
       "      <td>0</td>\n",
       "      <td>14</td>\n",
       "    </tr>\n",
       "    <tr>\n",
       "      <th>2</th>\n",
       "      <td>5.814131</td>\n",
       "      <td>4</td>\n",
       "      <td>0</td>\n",
       "      <td>0</td>\n",
       "      <td>1</td>\n",
       "      <td>15.58</td>\n",
       "      <td>19.695</td>\n",
       "      <td>40</td>\n",
       "      <td>11.0014</td>\n",
       "      <td>2011</td>\n",
       "      <td>11</td>\n",
       "      <td>5</td>\n",
       "      <td>5</td>\n",
       "      <td>17</td>\n",
       "    </tr>\n",
       "    <tr>\n",
       "      <th>3</th>\n",
       "      <td>6.436150</td>\n",
       "      <td>3</td>\n",
       "      <td>0</td>\n",
       "      <td>1</td>\n",
       "      <td>1</td>\n",
       "      <td>32.80</td>\n",
       "      <td>37.880</td>\n",
       "      <td>55</td>\n",
       "      <td>12.9980</td>\n",
       "      <td>2012</td>\n",
       "      <td>8</td>\n",
       "      <td>9</td>\n",
       "      <td>3</td>\n",
       "      <td>19</td>\n",
       "    </tr>\n",
       "    <tr>\n",
       "      <th>4</th>\n",
       "      <td>4.262680</td>\n",
       "      <td>2</td>\n",
       "      <td>0</td>\n",
       "      <td>1</td>\n",
       "      <td>1</td>\n",
       "      <td>13.94</td>\n",
       "      <td>17.425</td>\n",
       "      <td>76</td>\n",
       "      <td>7.0015</td>\n",
       "      <td>2011</td>\n",
       "      <td>4</td>\n",
       "      <td>14</td>\n",
       "      <td>3</td>\n",
       "      <td>6</td>\n",
       "    </tr>\n",
       "  </tbody>\n",
       "</table>\n",
       "</div>"
      ],
      "text/plain": [
       "      count  season  holiday  workingday  weather   temp   atemp  humidity  \\\n",
       "0  4.477337       3        0           0        2  26.24  30.305        73   \n",
       "1  5.517453       3        0           1        1  32.80  34.850        33   \n",
       "2  5.814131       4        0           0        1  15.58  19.695        40   \n",
       "3  6.436150       3        0           1        1  32.80  37.880        55   \n",
       "4  4.262680       2        0           1        1  13.94  17.425        76   \n",
       "\n",
       "   windspeed  year  month  day  dayofweek  hour  \n",
       "0     7.0015  2011      9    3          5     0  \n",
       "1     7.0015  2012      8   13          0    14  \n",
       "2    11.0014  2011     11    5          5    17  \n",
       "3    12.9980  2012      8    9          3    19  \n",
       "4     7.0015  2011      4   14          3     6  "
      ]
     },
     "execution_count": 34,
     "metadata": {},
     "output_type": "execute_result"
    }
   ],
   "source": [
    "df_train.head()"
   ]
  },
  {
   "cell_type": "code",
   "execution_count": 35,
   "metadata": {
    "execution": {
     "iopub.execute_input": "2020-12-26T10:25:57.007453Z",
     "iopub.status.busy": "2020-12-26T10:25:57.006440Z",
     "iopub.status.idle": "2020-12-26T10:25:57.011157Z",
     "shell.execute_reply": "2020-12-26T10:25:57.010429Z"
    },
    "papermill": {
     "duration": 0.115652,
     "end_time": "2020-12-26T10:25:57.011321",
     "exception": false,
     "start_time": "2020-12-26T10:25:56.895669",
     "status": "completed"
    },
    "tags": []
   },
   "outputs": [
    {
     "data": {
      "text/plain": [
       "['season',\n",
       " 'holiday',\n",
       " 'workingday',\n",
       " 'weather',\n",
       " 'year',\n",
       " 'month',\n",
       " 'dayofweek',\n",
       " 'hour',\n",
       " 'day']"
      ]
     },
     "execution_count": 35,
     "metadata": {},
     "output_type": "execute_result"
    }
   ],
   "source": [
    "# Features to one-hot encode\n",
    "categorical_features+['day']"
   ]
  },
  {
   "cell_type": "code",
   "execution_count": 36,
   "metadata": {
    "execution": {
     "iopub.execute_input": "2020-12-26T10:25:57.229617Z",
     "iopub.status.busy": "2020-12-26T10:25:57.228547Z",
     "iopub.status.idle": "2020-12-26T10:25:57.232688Z",
     "shell.execute_reply": "2020-12-26T10:25:57.232107Z"
    },
    "papermill": {
     "duration": 0.114745,
     "end_time": "2020-12-26T10:25:57.232811",
     "exception": false,
     "start_time": "2020-12-26T10:25:57.118066",
     "status": "completed"
    },
    "tags": []
   },
   "outputs": [
    {
     "data": {
      "text/plain": [
       "['temp', 'atemp', 'humidity', 'windspeed']"
      ]
     },
     "execution_count": 36,
     "metadata": {},
     "output_type": "execute_result"
    }
   ],
   "source": [
    "# Features to standardize\n",
    "standardize_features"
   ]
  },
  {
   "cell_type": "markdown",
   "metadata": {
    "papermill": {
     "duration": 0.10599,
     "end_time": "2020-12-26T10:25:57.446318",
     "exception": false,
     "start_time": "2020-12-26T10:25:57.340328",
     "status": "completed"
    },
    "tags": []
   },
   "source": [
    "# Column Transformer/New Idea \n",
    "* Chain all data transformations\n",
    "* Easy and straight forward"
   ]
  },
  {
   "cell_type": "code",
   "execution_count": 37,
   "metadata": {
    "execution": {
     "iopub.execute_input": "2020-12-26T10:25:57.672846Z",
     "iopub.status.busy": "2020-12-26T10:25:57.671987Z",
     "iopub.status.idle": "2020-12-26T10:25:57.675422Z",
     "shell.execute_reply": "2020-12-26T10:25:57.674671Z"
    },
    "papermill": {
     "duration": 0.123008,
     "end_time": "2020-12-26T10:25:57.675552",
     "exception": false,
     "start_time": "2020-12-26T10:25:57.552544",
     "status": "completed"
    },
    "tags": []
   },
   "outputs": [],
   "source": [
    "colTransformer = ColumnTransformer([('onehot',\n",
    "                                     OneHotEncoder(categories='auto',sparse=False),\n",
    "                                     categorical_features),\n",
    "                                    ('onehotday',\n",
    "                                     OneHotEncoder(categories=[[1, 2, 3, 4, 5, 6, 7, 8, 9, 10, 11, 12, 13, 14, 15, 16, 17, 18, 19, 20, 21, 22, 23, 24, 25, 26, 27, 28, 29, 30, 31]],\n",
    "                                                   sparse=False),\n",
    "                                     ['day']),\n",
    "                                    ('standardize',\n",
    "                                    StandardScaler(),standardize_features)\n",
    "                                   ],\n",
    "                                   remainder=\"passthrough\")"
   ]
  },
  {
   "cell_type": "code",
   "execution_count": 38,
   "metadata": {
    "execution": {
     "iopub.execute_input": "2020-12-26T10:25:57.897878Z",
     "iopub.status.busy": "2020-12-26T10:25:57.897063Z",
     "iopub.status.idle": "2020-12-26T10:25:57.939101Z",
     "shell.execute_reply": "2020-12-26T10:25:57.938306Z"
    },
    "papermill": {
     "duration": 0.156747,
     "end_time": "2020-12-26T10:25:57.939249",
     "exception": false,
     "start_time": "2020-12-26T10:25:57.782502",
     "status": "completed"
    },
    "tags": []
   },
   "outputs": [
    {
     "data": {
      "text/plain": [
       "ColumnTransformer(remainder='passthrough',\n",
       "                  transformers=[('onehot', OneHotEncoder(sparse=False),\n",
       "                                 ['season', 'holiday', 'workingday', 'weather',\n",
       "                                  'year', 'month', 'dayofweek', 'hour']),\n",
       "                                ('onehotday',\n",
       "                                 OneHotEncoder(categories=[[1, 2, 3, 4, 5, 6, 7,\n",
       "                                                            8, 9, 10, 11, 12,\n",
       "                                                            13, 14, 15, 16, 17,\n",
       "                                                            18, 19, 20, 21, 22,\n",
       "                                                            23, 24, 25, 26, 27,\n",
       "                                                            28, 29, 30, ...]],\n",
       "                                               sparse=False),\n",
       "                                 ['day']),\n",
       "                                ('standardize', StandardScaler(),\n",
       "                                 ['temp', 'atemp', 'humidity', 'windspeed'])])"
      ]
     },
     "execution_count": 38,
     "metadata": {},
     "output_type": "execute_result"
    }
   ],
   "source": [
    "colTransformer.fit(X_train)"
   ]
  },
  {
   "cell_type": "code",
   "execution_count": 39,
   "metadata": {
    "execution": {
     "iopub.execute_input": "2020-12-26T10:25:58.165030Z",
     "iopub.status.busy": "2020-12-26T10:25:58.164277Z",
     "iopub.status.idle": "2020-12-26T10:25:58.194997Z",
     "shell.execute_reply": "2020-12-26T10:25:58.194264Z"
    },
    "papermill": {
     "duration": 0.147545,
     "end_time": "2020-12-26T10:25:58.195119",
     "exception": false,
     "start_time": "2020-12-26T10:25:58.047574",
     "status": "completed"
    },
    "tags": []
   },
   "outputs": [],
   "source": [
    "X_train_encoded = colTransformer.transform(X_train)\n",
    "X_validation_encoded = colTransformer.transform(X_validation)"
   ]
  },
  {
   "cell_type": "code",
   "execution_count": 40,
   "metadata": {
    "execution": {
     "iopub.execute_input": "2020-12-26T10:25:58.417957Z",
     "iopub.status.busy": "2020-12-26T10:25:58.416818Z",
     "iopub.status.idle": "2020-12-26T10:25:58.422524Z",
     "shell.execute_reply": "2020-12-26T10:25:58.421548Z"
    },
    "papermill": {
     "duration": 0.119622,
     "end_time": "2020-12-26T10:25:58.422685",
     "exception": false,
     "start_time": "2020-12-26T10:25:58.303063",
     "status": "completed"
    },
    "tags": []
   },
   "outputs": [
    {
     "name": "stdout",
     "output_type": "stream",
     "text": [
      "Training Data (7620, 13) OneHot Encoded (7620, 92)\n",
      "Val Data (3266, 13) OneHot Encoded (3266, 92)\n"
     ]
    }
   ],
   "source": [
    "print('Training Data',X_train.shape, 'OneHot Encoded',X_train_encoded.shape)\n",
    "print('Val Data',X_validation.shape, 'OneHot Encoded',X_validation_encoded.shape)"
   ]
  },
  {
   "cell_type": "code",
   "execution_count": 41,
   "metadata": {
    "execution": {
     "iopub.execute_input": "2020-12-26T10:25:58.651463Z",
     "iopub.status.busy": "2020-12-26T10:25:58.650500Z",
     "iopub.status.idle": "2020-12-26T10:25:58.655333Z",
     "shell.execute_reply": "2020-12-26T10:25:58.654581Z"
    },
    "papermill": {
     "duration": 0.122695,
     "end_time": "2020-12-26T10:25:58.655462",
     "exception": false,
     "start_time": "2020-12-26T10:25:58.532767",
     "status": "completed"
    },
    "tags": []
   },
   "outputs": [
    {
     "data": {
      "text/plain": [
       "array([[ 0.        ,  0.        ,  1.        ,  0.        ,  1.        ,\n",
       "         0.        ,  1.        ,  0.        ,  0.        ,  1.        ,\n",
       "         0.        ,  0.        ,  1.        ,  0.        ,  0.        ,\n",
       "         0.        ,  0.        ,  0.        ,  0.        ,  0.        ,\n",
       "         0.        ,  0.        ,  1.        ,  0.        ,  0.        ,\n",
       "         0.        ,  0.        ,  0.        ,  0.        ,  0.        ,\n",
       "         0.        ,  1.        ,  0.        ,  1.        ,  0.        ,\n",
       "         0.        ,  0.        ,  0.        ,  0.        ,  0.        ,\n",
       "         0.        ,  0.        ,  0.        ,  0.        ,  0.        ,\n",
       "         0.        ,  0.        ,  0.        ,  0.        ,  0.        ,\n",
       "         0.        ,  0.        ,  0.        ,  0.        ,  0.        ,\n",
       "         0.        ,  0.        ,  0.        ,  0.        ,  1.        ,\n",
       "         0.        ,  0.        ,  0.        ,  0.        ,  0.        ,\n",
       "         0.        ,  0.        ,  0.        ,  0.        ,  0.        ,\n",
       "         0.        ,  0.        ,  0.        ,  0.        ,  0.        ,\n",
       "         0.        ,  0.        ,  0.        ,  0.        ,  0.        ,\n",
       "         0.        ,  0.        ,  0.        ,  0.        ,  0.        ,\n",
       "         0.        ,  0.        ,  0.        ,  0.77057946,  0.78259478,\n",
       "         0.56394774, -0.70500813]])"
      ]
     },
     "execution_count": 41,
     "metadata": {},
     "output_type": "execute_result"
    }
   ],
   "source": [
    "X_train_encoded[:1]"
   ]
  },
  {
   "cell_type": "code",
   "execution_count": 42,
   "metadata": {
    "execution": {
     "iopub.execute_input": "2020-12-26T10:25:58.881300Z",
     "iopub.status.busy": "2020-12-26T10:25:58.880424Z",
     "iopub.status.idle": "2020-12-26T10:25:58.884825Z",
     "shell.execute_reply": "2020-12-26T10:25:58.884245Z"
    },
    "papermill": {
     "duration": 0.120171,
     "end_time": "2020-12-26T10:25:58.884953",
     "exception": false,
     "start_time": "2020-12-26T10:25:58.764782",
     "status": "completed"
    },
    "tags": []
   },
   "outputs": [
    {
     "data": {
      "text/plain": [
       "array([[0.        , 0.        , 1.        , 0.        , 1.        ,\n",
       "        0.        , 0.        , 1.        , 0.        , 1.        ,\n",
       "        0.        , 0.        , 1.        , 0.        , 0.        ,\n",
       "        0.        , 0.        , 0.        , 0.        , 0.        ,\n",
       "        1.        , 0.        , 0.        , 0.        , 0.        ,\n",
       "        0.        , 0.        , 0.        , 0.        , 1.        ,\n",
       "        0.        , 0.        , 0.        , 0.        , 0.        ,\n",
       "        0.        , 0.        , 0.        , 0.        , 0.        ,\n",
       "        0.        , 1.        , 0.        , 0.        , 0.        ,\n",
       "        0.        , 0.        , 0.        , 0.        , 0.        ,\n",
       "        0.        , 0.        , 0.        , 0.        , 0.        ,\n",
       "        0.        , 0.        , 0.        , 0.        , 0.        ,\n",
       "        0.        , 0.        , 0.        , 1.        , 0.        ,\n",
       "        0.        , 0.        , 0.        , 0.        , 0.        ,\n",
       "        0.        , 0.        , 0.        , 0.        , 0.        ,\n",
       "        0.        , 0.        , 0.        , 0.        , 0.        ,\n",
       "        0.        , 0.        , 0.        , 0.        , 0.        ,\n",
       "        0.        , 0.        , 0.        , 1.08651759, 1.14059224,\n",
       "        0.87595541, 0.03185771]])"
      ]
     },
     "execution_count": 42,
     "metadata": {},
     "output_type": "execute_result"
    }
   ],
   "source": [
    "X_validation_encoded[:1]"
   ]
  },
  {
   "cell_type": "markdown",
   "metadata": {
    "papermill": {
     "duration": 0.110074,
     "end_time": "2020-12-26T10:25:59.105002",
     "exception": false,
     "start_time": "2020-12-26T10:25:58.994928",
     "status": "completed"
    },
    "tags": []
   },
   "source": [
    "# Train a neural network regressor"
   ]
  },
  {
   "cell_type": "code",
   "execution_count": 43,
   "metadata": {
    "execution": {
     "iopub.execute_input": "2020-12-26T10:25:59.331128Z",
     "iopub.status.busy": "2020-12-26T10:25:59.330366Z",
     "iopub.status.idle": "2020-12-26T10:25:59.333971Z",
     "shell.execute_reply": "2020-12-26T10:25:59.333365Z"
    },
    "papermill": {
     "duration": 0.119208,
     "end_time": "2020-12-26T10:25:59.334099",
     "exception": false,
     "start_time": "2020-12-26T10:25:59.214891",
     "status": "completed"
    },
    "tags": []
   },
   "outputs": [],
   "source": [
    "nn_regressor = MLPRegressor(random_state=5, \n",
    "                            hidden_layer_sizes=[100],\n",
    "                            activation='relu',\n",
    "                            max_iter=100)"
   ]
  },
  {
   "cell_type": "code",
   "execution_count": 44,
   "metadata": {
    "execution": {
     "iopub.execute_input": "2020-12-26T10:25:59.561688Z",
     "iopub.status.busy": "2020-12-26T10:25:59.560527Z",
     "iopub.status.idle": "2020-12-26T10:25:59.565234Z",
     "shell.execute_reply": "2020-12-26T10:25:59.564576Z"
    },
    "papermill": {
     "duration": 0.121172,
     "end_time": "2020-12-26T10:25:59.565364",
     "exception": false,
     "start_time": "2020-12-26T10:25:59.444192",
     "status": "completed"
    },
    "tags": []
   },
   "outputs": [
    {
     "data": {
      "text/plain": [
       "MLPRegressor(hidden_layer_sizes=[100], max_iter=100, random_state=5)"
      ]
     },
     "execution_count": 44,
     "metadata": {},
     "output_type": "execute_result"
    }
   ],
   "source": [
    "nn_regressor"
   ]
  },
  {
   "cell_type": "code",
   "execution_count": 45,
   "metadata": {
    "execution": {
     "iopub.execute_input": "2020-12-26T10:25:59.794241Z",
     "iopub.status.busy": "2020-12-26T10:25:59.793451Z",
     "iopub.status.idle": "2020-12-26T10:26:04.964480Z",
     "shell.execute_reply": "2020-12-26T10:26:04.963771Z"
    },
    "papermill": {
     "duration": 5.287072,
     "end_time": "2020-12-26T10:26:04.964633",
     "exception": false,
     "start_time": "2020-12-26T10:25:59.677561",
     "status": "completed"
    },
    "tags": []
   },
   "outputs": [
    {
     "name": "stdout",
     "output_type": "stream",
     "text": [
      "CPU times: user 10.1 s, sys: 123 ms, total: 10.2 s\n",
      "Wall time: 5.16 s\n"
     ]
    },
    {
     "name": "stderr",
     "output_type": "stream",
     "text": [
      "/opt/conda/lib/python3.7/site-packages/sklearn/neural_network/_multilayer_perceptron.py:585: ConvergenceWarning: Stochastic Optimizer: Maximum iterations (100) reached and the optimization hasn't converged yet.\n",
      "  % self.max_iter, ConvergenceWarning)\n"
     ]
    },
    {
     "data": {
      "text/plain": [
       "MLPRegressor(hidden_layer_sizes=[100], max_iter=100, random_state=5)"
      ]
     },
     "execution_count": 45,
     "metadata": {},
     "output_type": "execute_result"
    }
   ],
   "source": [
    "%%time\n",
    "nn_regressor.fit(X_train_encoded,y_train)"
   ]
  },
  {
   "cell_type": "code",
   "execution_count": 46,
   "metadata": {
    "execution": {
     "iopub.execute_input": "2020-12-26T10:26:05.201111Z",
     "iopub.status.busy": "2020-12-26T10:26:05.200096Z",
     "iopub.status.idle": "2020-12-26T10:26:05.214373Z",
     "shell.execute_reply": "2020-12-26T10:26:05.213520Z"
    },
    "papermill": {
     "duration": 0.134466,
     "end_time": "2020-12-26T10:26:05.214511",
     "exception": false,
     "start_time": "2020-12-26T10:26:05.080045",
     "status": "completed"
    },
    "tags": []
   },
   "outputs": [],
   "source": [
    "# Compare actual vs predicted performance with dataset not seen by the model before\n",
    "df = pd.read_csv(validation_file,names=columns)"
   ]
  },
  {
   "cell_type": "code",
   "execution_count": 47,
   "metadata": {
    "execution": {
     "iopub.execute_input": "2020-12-26T10:26:05.477076Z",
     "iopub.status.busy": "2020-12-26T10:26:05.475889Z",
     "iopub.status.idle": "2020-12-26T10:26:05.481269Z",
     "shell.execute_reply": "2020-12-26T10:26:05.480534Z"
    },
    "papermill": {
     "duration": 0.139364,
     "end_time": "2020-12-26T10:26:05.481401",
     "exception": false,
     "start_time": "2020-12-26T10:26:05.342037",
     "status": "completed"
    },
    "tags": []
   },
   "outputs": [
    {
     "data": {
      "text/html": [
       "<div>\n",
       "<style scoped>\n",
       "    .dataframe tbody tr th:only-of-type {\n",
       "        vertical-align: middle;\n",
       "    }\n",
       "\n",
       "    .dataframe tbody tr th {\n",
       "        vertical-align: top;\n",
       "    }\n",
       "\n",
       "    .dataframe thead th {\n",
       "        text-align: right;\n",
       "    }\n",
       "</style>\n",
       "<table border=\"1\" class=\"dataframe\">\n",
       "  <thead>\n",
       "    <tr style=\"text-align: right;\">\n",
       "      <th></th>\n",
       "      <th>count</th>\n",
       "      <th>season</th>\n",
       "      <th>holiday</th>\n",
       "      <th>workingday</th>\n",
       "      <th>weather</th>\n",
       "      <th>temp</th>\n",
       "      <th>atemp</th>\n",
       "      <th>humidity</th>\n",
       "      <th>windspeed</th>\n",
       "      <th>year</th>\n",
       "      <th>month</th>\n",
       "      <th>day</th>\n",
       "      <th>dayofweek</th>\n",
       "      <th>hour</th>\n",
       "    </tr>\n",
       "  </thead>\n",
       "  <tbody>\n",
       "    <tr>\n",
       "      <th>0</th>\n",
       "      <td>6.095825</td>\n",
       "      <td>3</td>\n",
       "      <td>0</td>\n",
       "      <td>1</td>\n",
       "      <td>2</td>\n",
       "      <td>28.70</td>\n",
       "      <td>33.335</td>\n",
       "      <td>79</td>\n",
       "      <td>12.9980</td>\n",
       "      <td>2011</td>\n",
       "      <td>7</td>\n",
       "      <td>7</td>\n",
       "      <td>3</td>\n",
       "      <td>8</td>\n",
       "    </tr>\n",
       "    <tr>\n",
       "      <th>1</th>\n",
       "      <td>5.961005</td>\n",
       "      <td>2</td>\n",
       "      <td>0</td>\n",
       "      <td>0</td>\n",
       "      <td>1</td>\n",
       "      <td>32.80</td>\n",
       "      <td>37.880</td>\n",
       "      <td>55</td>\n",
       "      <td>12.9980</td>\n",
       "      <td>2011</td>\n",
       "      <td>6</td>\n",
       "      <td>11</td>\n",
       "      <td>5</td>\n",
       "      <td>13</td>\n",
       "    </tr>\n",
       "    <tr>\n",
       "      <th>2</th>\n",
       "      <td>1.098612</td>\n",
       "      <td>1</td>\n",
       "      <td>0</td>\n",
       "      <td>1</td>\n",
       "      <td>1</td>\n",
       "      <td>14.76</td>\n",
       "      <td>16.665</td>\n",
       "      <td>40</td>\n",
       "      <td>19.9995</td>\n",
       "      <td>2011</td>\n",
       "      <td>2</td>\n",
       "      <td>14</td>\n",
       "      <td>0</td>\n",
       "      <td>2</td>\n",
       "    </tr>\n",
       "    <tr>\n",
       "      <th>3</th>\n",
       "      <td>3.891820</td>\n",
       "      <td>1</td>\n",
       "      <td>0</td>\n",
       "      <td>1</td>\n",
       "      <td>1</td>\n",
       "      <td>9.02</td>\n",
       "      <td>9.090</td>\n",
       "      <td>47</td>\n",
       "      <td>36.9974</td>\n",
       "      <td>2011</td>\n",
       "      <td>2</td>\n",
       "      <td>8</td>\n",
       "      <td>1</td>\n",
       "      <td>10</td>\n",
       "    </tr>\n",
       "    <tr>\n",
       "      <th>4</th>\n",
       "      <td>4.025352</td>\n",
       "      <td>4</td>\n",
       "      <td>0</td>\n",
       "      <td>0</td>\n",
       "      <td>1</td>\n",
       "      <td>10.66</td>\n",
       "      <td>15.150</td>\n",
       "      <td>87</td>\n",
       "      <td>0.0000</td>\n",
       "      <td>2011</td>\n",
       "      <td>12</td>\n",
       "      <td>4</td>\n",
       "      <td>6</td>\n",
       "      <td>8</td>\n",
       "    </tr>\n",
       "  </tbody>\n",
       "</table>\n",
       "</div>"
      ],
      "text/plain": [
       "      count  season  holiday  workingday  weather   temp   atemp  humidity  \\\n",
       "0  6.095825       3        0           1        2  28.70  33.335        79   \n",
       "1  5.961005       2        0           0        1  32.80  37.880        55   \n",
       "2  1.098612       1        0           1        1  14.76  16.665        40   \n",
       "3  3.891820       1        0           1        1   9.02   9.090        47   \n",
       "4  4.025352       4        0           0        1  10.66  15.150        87   \n",
       "\n",
       "   windspeed  year  month  day  dayofweek  hour  \n",
       "0    12.9980  2011      7    7          3     8  \n",
       "1    12.9980  2011      6   11          5    13  \n",
       "2    19.9995  2011      2   14          0     2  \n",
       "3    36.9974  2011      2    8          1    10  \n",
       "4     0.0000  2011     12    4          6     8  "
      ]
     },
     "execution_count": 47,
     "metadata": {},
     "output_type": "execute_result"
    }
   ],
   "source": [
    "df.head()"
   ]
  },
  {
   "cell_type": "code",
   "execution_count": 48,
   "metadata": {
    "execution": {
     "iopub.execute_input": "2020-12-26T10:26:05.719506Z",
     "iopub.status.busy": "2020-12-26T10:26:05.718154Z",
     "iopub.status.idle": "2020-12-26T10:26:05.728086Z",
     "shell.execute_reply": "2020-12-26T10:26:05.727174Z"
    },
    "papermill": {
     "duration": 0.132163,
     "end_time": "2020-12-26T10:26:05.728249",
     "exception": false,
     "start_time": "2020-12-26T10:26:05.596086",
     "status": "completed"
    },
    "tags": []
   },
   "outputs": [],
   "source": [
    "result = nn_regressor.predict(X_validation_encoded)"
   ]
  },
  {
   "cell_type": "code",
   "execution_count": 49,
   "metadata": {
    "execution": {
     "iopub.execute_input": "2020-12-26T10:26:05.971335Z",
     "iopub.status.busy": "2020-12-26T10:26:05.970178Z",
     "iopub.status.idle": "2020-12-26T10:26:05.974858Z",
     "shell.execute_reply": "2020-12-26T10:26:05.974081Z"
    },
    "papermill": {
     "duration": 0.127878,
     "end_time": "2020-12-26T10:26:05.974983",
     "exception": false,
     "start_time": "2020-12-26T10:26:05.847105",
     "status": "completed"
    },
    "tags": []
   },
   "outputs": [
    {
     "data": {
      "text/plain": [
       "array([6.15758232, 5.93196715, 1.27710594, 3.91617107, 3.77289797])"
      ]
     },
     "execution_count": 49,
     "metadata": {},
     "output_type": "execute_result"
    }
   ],
   "source": [
    "result[:5]"
   ]
  },
  {
   "cell_type": "code",
   "execution_count": 50,
   "metadata": {
    "execution": {
     "iopub.execute_input": "2020-12-26T10:26:06.217658Z",
     "iopub.status.busy": "2020-12-26T10:26:06.216370Z",
     "iopub.status.idle": "2020-12-26T10:26:06.219732Z",
     "shell.execute_reply": "2020-12-26T10:26:06.219099Z"
    },
    "papermill": {
     "duration": 0.126687,
     "end_time": "2020-12-26T10:26:06.219854",
     "exception": false,
     "start_time": "2020-12-26T10:26:06.093167",
     "status": "completed"
    },
    "tags": []
   },
   "outputs": [],
   "source": [
    "df['count_predicted'] = result"
   ]
  },
  {
   "cell_type": "code",
   "execution_count": 51,
   "metadata": {
    "execution": {
     "iopub.execute_input": "2020-12-26T10:26:06.481129Z",
     "iopub.status.busy": "2020-12-26T10:26:06.480213Z",
     "iopub.status.idle": "2020-12-26T10:26:06.484337Z",
     "shell.execute_reply": "2020-12-26T10:26:06.484966Z"
    },
    "papermill": {
     "duration": 0.145696,
     "end_time": "2020-12-26T10:26:06.485130",
     "exception": false,
     "start_time": "2020-12-26T10:26:06.339434",
     "status": "completed"
    },
    "tags": []
   },
   "outputs": [
    {
     "data": {
      "text/html": [
       "<div>\n",
       "<style scoped>\n",
       "    .dataframe tbody tr th:only-of-type {\n",
       "        vertical-align: middle;\n",
       "    }\n",
       "\n",
       "    .dataframe tbody tr th {\n",
       "        vertical-align: top;\n",
       "    }\n",
       "\n",
       "    .dataframe thead th {\n",
       "        text-align: right;\n",
       "    }\n",
       "</style>\n",
       "<table border=\"1\" class=\"dataframe\">\n",
       "  <thead>\n",
       "    <tr style=\"text-align: right;\">\n",
       "      <th></th>\n",
       "      <th>count</th>\n",
       "      <th>season</th>\n",
       "      <th>holiday</th>\n",
       "      <th>workingday</th>\n",
       "      <th>weather</th>\n",
       "      <th>temp</th>\n",
       "      <th>atemp</th>\n",
       "      <th>humidity</th>\n",
       "      <th>windspeed</th>\n",
       "      <th>year</th>\n",
       "      <th>month</th>\n",
       "      <th>day</th>\n",
       "      <th>dayofweek</th>\n",
       "      <th>hour</th>\n",
       "      <th>count_predicted</th>\n",
       "    </tr>\n",
       "  </thead>\n",
       "  <tbody>\n",
       "    <tr>\n",
       "      <th>0</th>\n",
       "      <td>6.095825</td>\n",
       "      <td>3</td>\n",
       "      <td>0</td>\n",
       "      <td>1</td>\n",
       "      <td>2</td>\n",
       "      <td>28.70</td>\n",
       "      <td>33.335</td>\n",
       "      <td>79</td>\n",
       "      <td>12.9980</td>\n",
       "      <td>2011</td>\n",
       "      <td>7</td>\n",
       "      <td>7</td>\n",
       "      <td>3</td>\n",
       "      <td>8</td>\n",
       "      <td>6.157582</td>\n",
       "    </tr>\n",
       "    <tr>\n",
       "      <th>1</th>\n",
       "      <td>5.961005</td>\n",
       "      <td>2</td>\n",
       "      <td>0</td>\n",
       "      <td>0</td>\n",
       "      <td>1</td>\n",
       "      <td>32.80</td>\n",
       "      <td>37.880</td>\n",
       "      <td>55</td>\n",
       "      <td>12.9980</td>\n",
       "      <td>2011</td>\n",
       "      <td>6</td>\n",
       "      <td>11</td>\n",
       "      <td>5</td>\n",
       "      <td>13</td>\n",
       "      <td>5.931967</td>\n",
       "    </tr>\n",
       "    <tr>\n",
       "      <th>2</th>\n",
       "      <td>1.098612</td>\n",
       "      <td>1</td>\n",
       "      <td>0</td>\n",
       "      <td>1</td>\n",
       "      <td>1</td>\n",
       "      <td>14.76</td>\n",
       "      <td>16.665</td>\n",
       "      <td>40</td>\n",
       "      <td>19.9995</td>\n",
       "      <td>2011</td>\n",
       "      <td>2</td>\n",
       "      <td>14</td>\n",
       "      <td>0</td>\n",
       "      <td>2</td>\n",
       "      <td>1.277106</td>\n",
       "    </tr>\n",
       "    <tr>\n",
       "      <th>3</th>\n",
       "      <td>3.891820</td>\n",
       "      <td>1</td>\n",
       "      <td>0</td>\n",
       "      <td>1</td>\n",
       "      <td>1</td>\n",
       "      <td>9.02</td>\n",
       "      <td>9.090</td>\n",
       "      <td>47</td>\n",
       "      <td>36.9974</td>\n",
       "      <td>2011</td>\n",
       "      <td>2</td>\n",
       "      <td>8</td>\n",
       "      <td>1</td>\n",
       "      <td>10</td>\n",
       "      <td>3.916171</td>\n",
       "    </tr>\n",
       "    <tr>\n",
       "      <th>4</th>\n",
       "      <td>4.025352</td>\n",
       "      <td>4</td>\n",
       "      <td>0</td>\n",
       "      <td>0</td>\n",
       "      <td>1</td>\n",
       "      <td>10.66</td>\n",
       "      <td>15.150</td>\n",
       "      <td>87</td>\n",
       "      <td>0.0000</td>\n",
       "      <td>2011</td>\n",
       "      <td>12</td>\n",
       "      <td>4</td>\n",
       "      <td>6</td>\n",
       "      <td>8</td>\n",
       "      <td>3.772898</td>\n",
       "    </tr>\n",
       "  </tbody>\n",
       "</table>\n",
       "</div>"
      ],
      "text/plain": [
       "      count  season  holiday  workingday  weather   temp   atemp  humidity  \\\n",
       "0  6.095825       3        0           1        2  28.70  33.335        79   \n",
       "1  5.961005       2        0           0        1  32.80  37.880        55   \n",
       "2  1.098612       1        0           1        1  14.76  16.665        40   \n",
       "3  3.891820       1        0           1        1   9.02   9.090        47   \n",
       "4  4.025352       4        0           0        1  10.66  15.150        87   \n",
       "\n",
       "   windspeed  year  month  day  dayofweek  hour  count_predicted  \n",
       "0    12.9980  2011      7    7          3     8         6.157582  \n",
       "1    12.9980  2011      6   11          5    13         5.931967  \n",
       "2    19.9995  2011      2   14          0     2         1.277106  \n",
       "3    36.9974  2011      2    8          1    10         3.916171  \n",
       "4     0.0000  2011     12    4          6     8         3.772898  "
      ]
     },
     "execution_count": 51,
     "metadata": {},
     "output_type": "execute_result"
    }
   ],
   "source": [
    "df.head()"
   ]
  },
  {
   "cell_type": "code",
   "execution_count": 52,
   "metadata": {
    "execution": {
     "iopub.execute_input": "2020-12-26T10:26:06.727791Z",
     "iopub.status.busy": "2020-12-26T10:26:06.727001Z",
     "iopub.status.idle": "2020-12-26T10:26:06.734540Z",
     "shell.execute_reply": "2020-12-26T10:26:06.735090Z"
    },
    "papermill": {
     "duration": 0.133129,
     "end_time": "2020-12-26T10:26:06.735287",
     "exception": false,
     "start_time": "2020-12-26T10:26:06.602158",
     "status": "completed"
    },
    "tags": []
   },
   "outputs": [
    {
     "data": {
      "text/plain": [
       "count    3266.000000\n",
       "mean        4.560944\n",
       "std         1.394138\n",
       "min         0.386789\n",
       "25%         3.763872\n",
       "50%         4.945768\n",
       "75%         5.605207\n",
       "max         6.879171\n",
       "Name: count_predicted, dtype: float64"
      ]
     },
     "execution_count": 52,
     "metadata": {},
     "output_type": "execute_result"
    }
   ],
   "source": [
    "df['count_predicted'].describe()"
   ]
  },
  {
   "cell_type": "code",
   "execution_count": 53,
   "metadata": {
    "execution": {
     "iopub.execute_input": "2020-12-26T10:26:06.992962Z",
     "iopub.status.busy": "2020-12-26T10:26:06.992163Z",
     "iopub.status.idle": "2020-12-26T10:26:06.995811Z",
     "shell.execute_reply": "2020-12-26T10:26:06.995048Z"
    },
    "papermill": {
     "duration": 0.143105,
     "end_time": "2020-12-26T10:26:06.995947",
     "exception": false,
     "start_time": "2020-12-26T10:26:06.852842",
     "status": "completed"
    },
    "tags": []
   },
   "outputs": [],
   "source": [
    "# Convert log(count) to count\n",
    "df['count'] = df['count'].map(np.expm1)\n",
    "df['count_predicted'] = df['count_predicted'].map(np.expm1)"
   ]
  },
  {
   "cell_type": "code",
   "execution_count": 54,
   "metadata": {
    "execution": {
     "iopub.execute_input": "2020-12-26T10:26:07.250300Z",
     "iopub.status.busy": "2020-12-26T10:26:07.245151Z",
     "iopub.status.idle": "2020-12-26T10:26:07.465631Z",
     "shell.execute_reply": "2020-12-26T10:26:07.464611Z"
    },
    "papermill": {
     "duration": 0.352215,
     "end_time": "2020-12-26T10:26:07.465809",
     "exception": false,
     "start_time": "2020-12-26T10:26:07.113594",
     "status": "completed"
    },
    "tags": []
   },
   "outputs": [
    {
     "data": {
      "image/png": "[encoded data removed]",
      "text/plain": [
       "<Figure size 432x288 with 1 Axes>"
      ]
     },
     "metadata": {
      "needs_background": "light"
     },
     "output_type": "display_data"
    }
   ],
   "source": [
    "# Actual Vs Predicted\n",
    "plt.plot(df['count'], label='Actual')\n",
    "plt.plot(df['count_predicted'],label='Predicted')\n",
    "plt.xlabel('Sample')\n",
    "plt.ylabel('Count')\n",
    "plt.xlim([100,150])\n",
    "plt.title('Validation Dataset - Predicted Vs. Actual')\n",
    "plt.legend()\n",
    "plt.show()"
   ]
  },
  {
   "cell_type": "code",
   "execution_count": 55,
   "metadata": {
    "execution": {
     "iopub.execute_input": "2020-12-26T10:26:07.721567Z",
     "iopub.status.busy": "2020-12-26T10:26:07.720797Z",
     "iopub.status.idle": "2020-12-26T10:26:07.969732Z",
     "shell.execute_reply": "2020-12-26T10:26:07.968972Z"
    },
    "papermill": {
     "duration": 0.37721,
     "end_time": "2020-12-26T10:26:07.969856",
     "exception": false,
     "start_time": "2020-12-26T10:26:07.592646",
     "status": "completed"
    },
    "tags": []
   },
   "outputs": [
    {
     "data": {
      "image/png": "[encoded data removed]",
      "text/plain": [
       "<Figure size 432x288 with 1 Axes>"
      ]
     },
     "metadata": {
      "needs_background": "light"
     },
     "output_type": "display_data"
    }
   ],
   "source": [
    "# Over prediction and Under Prediction needs to be balanced\n",
    "# Training Data Residuals\n",
    "residuals = (df['count'] - df['count_predicted'])\n",
    "\n",
    "plt.hist(residuals)\n",
    "plt.grid(True)\n",
    "plt.xlabel('Actual - Predicted')\n",
    "plt.ylabel('Count')\n",
    "plt.title('Residuals Distribution')\n",
    "plt.axvline(color='r')\n",
    "plt.show()"
   ]
  },
  {
   "cell_type": "code",
   "execution_count": 56,
   "metadata": {
    "execution": {
     "iopub.execute_input": "2020-12-26T10:26:08.215869Z",
     "iopub.status.busy": "2020-12-26T10:26:08.215032Z",
     "iopub.status.idle": "2020-12-26T10:26:08.223590Z",
     "shell.execute_reply": "2020-12-26T10:26:08.222658Z"
    },
    "papermill": {
     "duration": 0.135205,
     "end_time": "2020-12-26T10:26:08.223768",
     "exception": false,
     "start_time": "2020-12-26T10:26:08.088563",
     "status": "completed"
    },
    "tags": []
   },
   "outputs": [
    {
     "name": "stdout",
     "output_type": "stream",
     "text": [
      " Under Estimation: 0.59\n",
      " Over  Estimation: 0.41\n"
     ]
    }
   ],
   "source": [
    "value_counts = (residuals > 0).value_counts(sort=False)\n",
    "print(' Under Estimation: {0:.2f}'.format(value_counts[True]/len(residuals)))\n",
    "print(' Over  Estimation: {0:.2f}'.format(value_counts[False]/len(residuals)))"
   ]
  },
  {
   "cell_type": "code",
   "execution_count": 57,
   "metadata": {
    "execution": {
     "iopub.execute_input": "2020-12-26T10:26:08.472852Z",
     "iopub.status.busy": "2020-12-26T10:26:08.472025Z",
     "iopub.status.idle": "2020-12-26T10:26:08.477475Z",
     "shell.execute_reply": "2020-12-26T10:26:08.476721Z"
    },
    "papermill": {
     "duration": 0.132387,
     "end_time": "2020-12-26T10:26:08.477601",
     "exception": false,
     "start_time": "2020-12-26T10:26:08.345214",
     "status": "completed"
    },
    "tags": []
   },
   "outputs": [
    {
     "name": "stdout",
     "output_type": "stream",
     "text": [
      "RMSE: 43.48\n"
     ]
    }
   ],
   "source": [
    "import sklearn.metrics as metrics\n",
    "print(\"RMSE: {0:.2f}\".format(metrics.mean_squared_error(df['count'],\n",
    "                                                    df['count_predicted'])**.5))"
   ]
  },
  {
   "cell_type": "code",
   "execution_count": 58,
   "metadata": {
    "execution": {
     "iopub.execute_input": "2020-12-26T10:26:08.729034Z",
     "iopub.status.busy": "2020-12-26T10:26:08.727982Z",
     "iopub.status.idle": "2020-12-26T10:26:08.731570Z",
     "shell.execute_reply": "2020-12-26T10:26:08.730880Z"
    },
    "papermill": {
     "duration": 0.134798,
     "end_time": "2020-12-26T10:26:08.731708",
     "exception": false,
     "start_time": "2020-12-26T10:26:08.596910",
     "status": "completed"
    },
    "tags": []
   },
   "outputs": [],
   "source": [
    "# Metric Use By Kaggle\n",
    "def compute_rmsle(y_true, y_pred):\n",
    "    if type(y_true) != np.ndarray:\n",
    "        y_true = np.array(y_true)\n",
    "        \n",
    "    if type(y_pred) != np.ndarray:\n",
    "        y_pred = np.array(y_pred)\n",
    "     \n",
    "    return(np.average((np.log1p(y_pred) - np.log1p(y_true))**2)**.5)"
   ]
  },
  {
   "cell_type": "code",
   "execution_count": 59,
   "metadata": {
    "execution": {
     "iopub.execute_input": "2020-12-26T10:26:08.977454Z",
     "iopub.status.busy": "2020-12-26T10:26:08.976310Z",
     "iopub.status.idle": "2020-12-26T10:26:08.980620Z",
     "shell.execute_reply": "2020-12-26T10:26:08.981435Z"
    },
    "papermill": {
     "duration": 0.130566,
     "end_time": "2020-12-26T10:26:08.981635",
     "exception": false,
     "start_time": "2020-12-26T10:26:08.851069",
     "status": "completed"
    },
    "tags": []
   },
   "outputs": [
    {
     "name": "stdout",
     "output_type": "stream",
     "text": [
      "RMSLE: 0.29\n"
     ]
    }
   ],
   "source": [
    "print(\"RMSLE: {0:.2f}\".format(compute_rmsle(df['count'],df['count_predicted'])))"
   ]
  },
  {
   "cell_type": "markdown",
   "metadata": {
    "papermill": {
     "duration": 0.119878,
     "end_time": "2020-12-26T10:26:09.222706",
     "exception": false,
     "start_time": "2020-12-26T10:26:09.102828",
     "status": "completed"
    },
    "tags": []
   },
   "source": [
    "# Submission"
   ]
  },
  {
   "cell_type": "code",
   "execution_count": 60,
   "metadata": {
    "execution": {
     "iopub.execute_input": "2020-12-26T10:26:09.482679Z",
     "iopub.status.busy": "2020-12-26T10:26:09.481875Z",
     "iopub.status.idle": "2020-12-26T10:26:09.503985Z",
     "shell.execute_reply": "2020-12-26T10:26:09.503343Z"
    },
    "papermill": {
     "duration": 0.147199,
     "end_time": "2020-12-26T10:26:09.504117",
     "exception": false,
     "start_time": "2020-12-26T10:26:09.356918",
     "status": "completed"
    },
    "tags": []
   },
   "outputs": [],
   "source": [
    "# Optional Test Data\n",
    "# Prepare Data for Submission to Kaggle\n",
    "df_test = pd.read_csv(test_file,parse_dates=['datetime'])"
   ]
  },
  {
   "cell_type": "code",
   "execution_count": 61,
   "metadata": {
    "execution": {
     "iopub.execute_input": "2020-12-26T10:26:09.752491Z",
     "iopub.status.busy": "2020-12-26T10:26:09.751552Z",
     "iopub.status.idle": "2020-12-26T10:26:09.755625Z",
     "shell.execute_reply": "2020-12-26T10:26:09.754862Z"
    },
    "papermill": {
     "duration": 0.131542,
     "end_time": "2020-12-26T10:26:09.755755",
     "exception": false,
     "start_time": "2020-12-26T10:26:09.624213",
     "status": "completed"
    },
    "tags": []
   },
   "outputs": [],
   "source": [
    "X_test =  df_test.iloc[:,1:] # Exclude datetime for prediction"
   ]
  },
  {
   "cell_type": "code",
   "execution_count": 62,
   "metadata": {
    "execution": {
     "iopub.execute_input": "2020-12-26T10:26:10.014577Z",
     "iopub.status.busy": "2020-12-26T10:26:10.013619Z",
     "iopub.status.idle": "2020-12-26T10:26:10.018387Z",
     "shell.execute_reply": "2020-12-26T10:26:10.017654Z"
    },
    "papermill": {
     "duration": 0.142479,
     "end_time": "2020-12-26T10:26:10.018528",
     "exception": false,
     "start_time": "2020-12-26T10:26:09.876049",
     "status": "completed"
    },
    "tags": []
   },
   "outputs": [
    {
     "data": {
      "text/html": [
       "<div>\n",
       "<style scoped>\n",
       "    .dataframe tbody tr th:only-of-type {\n",
       "        vertical-align: middle;\n",
       "    }\n",
       "\n",
       "    .dataframe tbody tr th {\n",
       "        vertical-align: top;\n",
       "    }\n",
       "\n",
       "    .dataframe thead th {\n",
       "        text-align: right;\n",
       "    }\n",
       "</style>\n",
       "<table border=\"1\" class=\"dataframe\">\n",
       "  <thead>\n",
       "    <tr style=\"text-align: right;\">\n",
       "      <th></th>\n",
       "      <th>season</th>\n",
       "      <th>holiday</th>\n",
       "      <th>workingday</th>\n",
       "      <th>weather</th>\n",
       "      <th>temp</th>\n",
       "      <th>atemp</th>\n",
       "      <th>humidity</th>\n",
       "      <th>windspeed</th>\n",
       "      <th>year</th>\n",
       "      <th>month</th>\n",
       "      <th>day</th>\n",
       "      <th>dayofweek</th>\n",
       "      <th>hour</th>\n",
       "    </tr>\n",
       "  </thead>\n",
       "  <tbody>\n",
       "    <tr>\n",
       "      <th>0</th>\n",
       "      <td>1</td>\n",
       "      <td>0</td>\n",
       "      <td>1</td>\n",
       "      <td>1</td>\n",
       "      <td>10.66</td>\n",
       "      <td>11.365</td>\n",
       "      <td>56</td>\n",
       "      <td>26.0027</td>\n",
       "      <td>2011</td>\n",
       "      <td>1</td>\n",
       "      <td>20</td>\n",
       "      <td>3</td>\n",
       "      <td>0</td>\n",
       "    </tr>\n",
       "    <tr>\n",
       "      <th>1</th>\n",
       "      <td>1</td>\n",
       "      <td>0</td>\n",
       "      <td>1</td>\n",
       "      <td>1</td>\n",
       "      <td>10.66</td>\n",
       "      <td>13.635</td>\n",
       "      <td>56</td>\n",
       "      <td>0.0000</td>\n",
       "      <td>2011</td>\n",
       "      <td>1</td>\n",
       "      <td>20</td>\n",
       "      <td>3</td>\n",
       "      <td>1</td>\n",
       "    </tr>\n",
       "    <tr>\n",
       "      <th>2</th>\n",
       "      <td>1</td>\n",
       "      <td>0</td>\n",
       "      <td>1</td>\n",
       "      <td>1</td>\n",
       "      <td>10.66</td>\n",
       "      <td>13.635</td>\n",
       "      <td>56</td>\n",
       "      <td>0.0000</td>\n",
       "      <td>2011</td>\n",
       "      <td>1</td>\n",
       "      <td>20</td>\n",
       "      <td>3</td>\n",
       "      <td>2</td>\n",
       "    </tr>\n",
       "    <tr>\n",
       "      <th>3</th>\n",
       "      <td>1</td>\n",
       "      <td>0</td>\n",
       "      <td>1</td>\n",
       "      <td>1</td>\n",
       "      <td>10.66</td>\n",
       "      <td>12.880</td>\n",
       "      <td>56</td>\n",
       "      <td>11.0014</td>\n",
       "      <td>2011</td>\n",
       "      <td>1</td>\n",
       "      <td>20</td>\n",
       "      <td>3</td>\n",
       "      <td>3</td>\n",
       "    </tr>\n",
       "    <tr>\n",
       "      <th>4</th>\n",
       "      <td>1</td>\n",
       "      <td>0</td>\n",
       "      <td>1</td>\n",
       "      <td>1</td>\n",
       "      <td>10.66</td>\n",
       "      <td>12.880</td>\n",
       "      <td>56</td>\n",
       "      <td>11.0014</td>\n",
       "      <td>2011</td>\n",
       "      <td>1</td>\n",
       "      <td>20</td>\n",
       "      <td>3</td>\n",
       "      <td>4</td>\n",
       "    </tr>\n",
       "  </tbody>\n",
       "</table>\n",
       "</div>"
      ],
      "text/plain": [
       "   season  holiday  workingday  weather   temp   atemp  humidity  windspeed  \\\n",
       "0       1        0           1        1  10.66  11.365        56    26.0027   \n",
       "1       1        0           1        1  10.66  13.635        56     0.0000   \n",
       "2       1        0           1        1  10.66  13.635        56     0.0000   \n",
       "3       1        0           1        1  10.66  12.880        56    11.0014   \n",
       "4       1        0           1        1  10.66  12.880        56    11.0014   \n",
       "\n",
       "   year  month  day  dayofweek  hour  \n",
       "0  2011      1   20          3     0  \n",
       "1  2011      1   20          3     1  \n",
       "2  2011      1   20          3     2  \n",
       "3  2011      1   20          3     3  \n",
       "4  2011      1   20          3     4  "
      ]
     },
     "execution_count": 62,
     "metadata": {},
     "output_type": "execute_result"
    }
   ],
   "source": [
    "X_test.head()"
   ]
  },
  {
   "cell_type": "code",
   "execution_count": 63,
   "metadata": {
    "execution": {
     "iopub.execute_input": "2020-12-26T10:26:10.275107Z",
     "iopub.status.busy": "2020-12-26T10:26:10.274322Z",
     "iopub.status.idle": "2020-12-26T10:26:10.310320Z",
     "shell.execute_reply": "2020-12-26T10:26:10.309553Z"
    },
    "papermill": {
     "duration": 0.168926,
     "end_time": "2020-12-26T10:26:10.310476",
     "exception": false,
     "start_time": "2020-12-26T10:26:10.141550",
     "status": "completed"
    },
    "tags": []
   },
   "outputs": [],
   "source": [
    "# Transform data first with column transformer\n",
    "result = nn_regressor.predict(colTransformer.transform(X_test))"
   ]
  },
  {
   "cell_type": "code",
   "execution_count": 64,
   "metadata": {
    "execution": {
     "iopub.execute_input": "2020-12-26T10:26:10.566679Z",
     "iopub.status.busy": "2020-12-26T10:26:10.565668Z",
     "iopub.status.idle": "2020-12-26T10:26:10.569683Z",
     "shell.execute_reply": "2020-12-26T10:26:10.569035Z"
    },
    "papermill": {
     "duration": 0.134225,
     "end_time": "2020-12-26T10:26:10.569824",
     "exception": false,
     "start_time": "2020-12-26T10:26:10.435599",
     "status": "completed"
    },
    "tags": []
   },
   "outputs": [],
   "source": [
    "# Convert result to actual count\n",
    "df_test[\"count\"] = np.expm1(result)"
   ]
  },
  {
   "cell_type": "code",
   "execution_count": 65,
   "metadata": {
    "execution": {
     "iopub.execute_input": "2020-12-26T10:26:10.828136Z",
     "iopub.status.busy": "2020-12-26T10:26:10.827346Z",
     "iopub.status.idle": "2020-12-26T10:26:10.839983Z",
     "shell.execute_reply": "2020-12-26T10:26:10.840555Z"
    },
    "papermill": {
     "duration": 0.14638,
     "end_time": "2020-12-26T10:26:10.840718",
     "exception": false,
     "start_time": "2020-12-26T10:26:10.694338",
     "status": "completed"
    },
    "tags": []
   },
   "outputs": [
    {
     "data": {
      "text/html": [
       "<div>\n",
       "<style scoped>\n",
       "    .dataframe tbody tr th:only-of-type {\n",
       "        vertical-align: middle;\n",
       "    }\n",
       "\n",
       "    .dataframe tbody tr th {\n",
       "        vertical-align: top;\n",
       "    }\n",
       "\n",
       "    .dataframe thead th {\n",
       "        text-align: right;\n",
       "    }\n",
       "</style>\n",
       "<table border=\"1\" class=\"dataframe\">\n",
       "  <thead>\n",
       "    <tr style=\"text-align: right;\">\n",
       "      <th></th>\n",
       "      <th>datetime</th>\n",
       "      <th>season</th>\n",
       "      <th>holiday</th>\n",
       "      <th>workingday</th>\n",
       "      <th>weather</th>\n",
       "      <th>temp</th>\n",
       "      <th>atemp</th>\n",
       "      <th>humidity</th>\n",
       "      <th>windspeed</th>\n",
       "      <th>year</th>\n",
       "      <th>month</th>\n",
       "      <th>day</th>\n",
       "      <th>dayofweek</th>\n",
       "      <th>hour</th>\n",
       "      <th>count</th>\n",
       "    </tr>\n",
       "  </thead>\n",
       "  <tbody>\n",
       "    <tr>\n",
       "      <th>0</th>\n",
       "      <td>2011-01-20 00:00:00</td>\n",
       "      <td>1</td>\n",
       "      <td>0</td>\n",
       "      <td>1</td>\n",
       "      <td>1</td>\n",
       "      <td>10.66</td>\n",
       "      <td>11.365</td>\n",
       "      <td>56</td>\n",
       "      <td>26.0027</td>\n",
       "      <td>2011</td>\n",
       "      <td>1</td>\n",
       "      <td>20</td>\n",
       "      <td>3</td>\n",
       "      <td>0</td>\n",
       "      <td>4.562644</td>\n",
       "    </tr>\n",
       "    <tr>\n",
       "      <th>1</th>\n",
       "      <td>2011-01-20 01:00:00</td>\n",
       "      <td>1</td>\n",
       "      <td>0</td>\n",
       "      <td>1</td>\n",
       "      <td>1</td>\n",
       "      <td>10.66</td>\n",
       "      <td>13.635</td>\n",
       "      <td>56</td>\n",
       "      <td>0.0000</td>\n",
       "      <td>2011</td>\n",
       "      <td>1</td>\n",
       "      <td>20</td>\n",
       "      <td>3</td>\n",
       "      <td>1</td>\n",
       "      <td>2.719617</td>\n",
       "    </tr>\n",
       "    <tr>\n",
       "      <th>2</th>\n",
       "      <td>2011-01-20 02:00:00</td>\n",
       "      <td>1</td>\n",
       "      <td>0</td>\n",
       "      <td>1</td>\n",
       "      <td>1</td>\n",
       "      <td>10.66</td>\n",
       "      <td>13.635</td>\n",
       "      <td>56</td>\n",
       "      <td>0.0000</td>\n",
       "      <td>2011</td>\n",
       "      <td>1</td>\n",
       "      <td>20</td>\n",
       "      <td>3</td>\n",
       "      <td>2</td>\n",
       "      <td>1.433917</td>\n",
       "    </tr>\n",
       "    <tr>\n",
       "      <th>3</th>\n",
       "      <td>2011-01-20 03:00:00</td>\n",
       "      <td>1</td>\n",
       "      <td>0</td>\n",
       "      <td>1</td>\n",
       "      <td>1</td>\n",
       "      <td>10.66</td>\n",
       "      <td>12.880</td>\n",
       "      <td>56</td>\n",
       "      <td>11.0014</td>\n",
       "      <td>2011</td>\n",
       "      <td>1</td>\n",
       "      <td>20</td>\n",
       "      <td>3</td>\n",
       "      <td>3</td>\n",
       "      <td>0.653550</td>\n",
       "    </tr>\n",
       "    <tr>\n",
       "      <th>4</th>\n",
       "      <td>2011-01-20 04:00:00</td>\n",
       "      <td>1</td>\n",
       "      <td>0</td>\n",
       "      <td>1</td>\n",
       "      <td>1</td>\n",
       "      <td>10.66</td>\n",
       "      <td>12.880</td>\n",
       "      <td>56</td>\n",
       "      <td>11.0014</td>\n",
       "      <td>2011</td>\n",
       "      <td>1</td>\n",
       "      <td>20</td>\n",
       "      <td>3</td>\n",
       "      <td>4</td>\n",
       "      <td>0.615454</td>\n",
       "    </tr>\n",
       "  </tbody>\n",
       "</table>\n",
       "</div>"
      ],
      "text/plain": [
       "             datetime  season  holiday  workingday  weather   temp   atemp  \\\n",
       "0 2011-01-20 00:00:00       1        0           1        1  10.66  11.365   \n",
       "1 2011-01-20 01:00:00       1        0           1        1  10.66  13.635   \n",
       "2 2011-01-20 02:00:00       1        0           1        1  10.66  13.635   \n",
       "3 2011-01-20 03:00:00       1        0           1        1  10.66  12.880   \n",
       "4 2011-01-20 04:00:00       1        0           1        1  10.66  12.880   \n",
       "\n",
       "   humidity  windspeed  year  month  day  dayofweek  hour     count  \n",
       "0        56    26.0027  2011      1   20          3     0  4.562644  \n",
       "1        56     0.0000  2011      1   20          3     1  2.719617  \n",
       "2        56     0.0000  2011      1   20          3     2  1.433917  \n",
       "3        56    11.0014  2011      1   20          3     3  0.653550  \n",
       "4        56    11.0014  2011      1   20          3     4  0.615454  "
      ]
     },
     "execution_count": 65,
     "metadata": {},
     "output_type": "execute_result"
    }
   ],
   "source": [
    "df_test.head()"
   ]
  },
  {
   "cell_type": "code",
   "execution_count": 66,
   "metadata": {
    "execution": {
     "iopub.execute_input": "2020-12-26T10:26:11.107543Z",
     "iopub.status.busy": "2020-12-26T10:26:11.093989Z",
     "iopub.status.idle": "2020-12-26T10:26:11.112350Z",
     "shell.execute_reply": "2020-12-26T10:26:11.112888Z"
    },
    "papermill": {
     "duration": 0.148207,
     "end_time": "2020-12-26T10:26:11.113059",
     "exception": false,
     "start_time": "2020-12-26T10:26:10.964852",
     "status": "completed"
    },
    "tags": []
   },
   "outputs": [
    {
     "data": {
      "text/html": [
       "<div>\n",
       "<style scoped>\n",
       "    .dataframe tbody tr th:only-of-type {\n",
       "        vertical-align: middle;\n",
       "    }\n",
       "\n",
       "    .dataframe tbody tr th {\n",
       "        vertical-align: top;\n",
       "    }\n",
       "\n",
       "    .dataframe thead th {\n",
       "        text-align: right;\n",
       "    }\n",
       "</style>\n",
       "<table border=\"1\" class=\"dataframe\">\n",
       "  <thead>\n",
       "    <tr style=\"text-align: right;\">\n",
       "      <th></th>\n",
       "      <th>datetime</th>\n",
       "      <th>season</th>\n",
       "      <th>holiday</th>\n",
       "      <th>workingday</th>\n",
       "      <th>weather</th>\n",
       "      <th>temp</th>\n",
       "      <th>atemp</th>\n",
       "      <th>humidity</th>\n",
       "      <th>windspeed</th>\n",
       "      <th>year</th>\n",
       "      <th>month</th>\n",
       "      <th>day</th>\n",
       "      <th>dayofweek</th>\n",
       "      <th>hour</th>\n",
       "      <th>count</th>\n",
       "    </tr>\n",
       "  </thead>\n",
       "  <tbody>\n",
       "    <tr>\n",
       "      <th>27</th>\n",
       "      <td>2011-01-21 03:00:00</td>\n",
       "      <td>1</td>\n",
       "      <td>0</td>\n",
       "      <td>1</td>\n",
       "      <td>3</td>\n",
       "      <td>9.02</td>\n",
       "      <td>10.605</td>\n",
       "      <td>80</td>\n",
       "      <td>19.9995</td>\n",
       "      <td>2011</td>\n",
       "      <td>1</td>\n",
       "      <td>21</td>\n",
       "      <td>4</td>\n",
       "      <td>3</td>\n",
       "      <td>-0.033572</td>\n",
       "    </tr>\n",
       "    <tr>\n",
       "      <th>75</th>\n",
       "      <td>2011-01-23 05:00:00</td>\n",
       "      <td>1</td>\n",
       "      <td>0</td>\n",
       "      <td>0</td>\n",
       "      <td>2</td>\n",
       "      <td>1.64</td>\n",
       "      <td>3.790</td>\n",
       "      <td>57</td>\n",
       "      <td>7.0015</td>\n",
       "      <td>2011</td>\n",
       "      <td>1</td>\n",
       "      <td>23</td>\n",
       "      <td>6</td>\n",
       "      <td>5</td>\n",
       "      <td>-0.003548</td>\n",
       "    </tr>\n",
       "    <tr>\n",
       "      <th>76</th>\n",
       "      <td>2011-01-23 06:00:00</td>\n",
       "      <td>1</td>\n",
       "      <td>0</td>\n",
       "      <td>0</td>\n",
       "      <td>2</td>\n",
       "      <td>1.64</td>\n",
       "      <td>3.790</td>\n",
       "      <td>57</td>\n",
       "      <td>7.0015</td>\n",
       "      <td>2011</td>\n",
       "      <td>1</td>\n",
       "      <td>23</td>\n",
       "      <td>6</td>\n",
       "      <td>6</td>\n",
       "      <td>-0.004581</td>\n",
       "    </tr>\n",
       "  </tbody>\n",
       "</table>\n",
       "</div>"
      ],
      "text/plain": [
       "              datetime  season  holiday  workingday  weather  temp   atemp  \\\n",
       "27 2011-01-21 03:00:00       1        0           1        3  9.02  10.605   \n",
       "75 2011-01-23 05:00:00       1        0           0        2  1.64   3.790   \n",
       "76 2011-01-23 06:00:00       1        0           0        2  1.64   3.790   \n",
       "\n",
       "    humidity  windspeed  year  month  day  dayofweek  hour     count  \n",
       "27        80    19.9995  2011      1   21          4     3 -0.033572  \n",
       "75        57     7.0015  2011      1   23          6     5 -0.003548  \n",
       "76        57     7.0015  2011      1   23          6     6 -0.004581  "
      ]
     },
     "execution_count": 66,
     "metadata": {},
     "output_type": "execute_result"
    }
   ],
   "source": [
    "df_test[df_test[\"count\"] < 0]"
   ]
  },
  {
   "cell_type": "code",
   "execution_count": 67,
   "metadata": {
    "execution": {
     "iopub.execute_input": "2020-12-26T10:26:11.375557Z",
     "iopub.status.busy": "2020-12-26T10:26:11.374680Z",
     "iopub.status.idle": "2020-12-26T10:26:11.423775Z",
     "shell.execute_reply": "2020-12-26T10:26:11.422881Z"
    },
    "papermill": {
     "duration": 0.186968,
     "end_time": "2020-12-26T10:26:11.423923",
     "exception": false,
     "start_time": "2020-12-26T10:26:11.236955",
     "status": "completed"
    },
    "tags": []
   },
   "outputs": [],
   "source": [
    "df_test[['datetime','count']].to_csv('My_New_Insight_Predicted_Count.csv',index=False)"
   ]
  },
  {
   "cell_type": "markdown",
   "metadata": {
    "papermill": {
     "duration": 0.123582,
     "end_time": "2020-12-26T10:26:11.671693",
     "exception": false,
     "start_time": "2020-12-26T10:26:11.548111",
     "status": "completed"
    },
    "tags": []
   },
   "source": [
    "# NEW Insight\n",
    "# Regression using TensorFlow\n",
    "Build the Neural Network using Keras - Easy and Portable across different implementations\n",
    "https://keras.io/\n",
    "\n",
    "\n",
    "\n",
    "\n",
    "# Objective:\n",
    "\n",
    "* Train a bike rental prediction model\n",
    "* NN requires one hot encoding of categorical data\n",
    "* NN also requires features to be on similar scale\n",
    "* Perform one-hot encoding of all categorical features: ['season', 'holiday', 'workingday', 'weather', 'year', 'month', 'day', 'dayofweek', 'hour']\n",
    "* Verify model performance"
   ]
  },
  {
   "cell_type": "code",
   "execution_count": 68,
   "metadata": {
    "execution": {
     "iopub.execute_input": "2020-12-26T10:26:11.929604Z",
     "iopub.status.busy": "2020-12-26T10:26:11.928796Z",
     "iopub.status.idle": "2020-12-26T10:26:17.774201Z",
     "shell.execute_reply": "2020-12-26T10:26:17.773402Z"
    },
    "papermill": {
     "duration": 5.978285,
     "end_time": "2020-12-26T10:26:17.774358",
     "exception": false,
     "start_time": "2020-12-26T10:26:11.796073",
     "status": "completed"
    },
    "tags": []
   },
   "outputs": [],
   "source": [
    "# https://keras.io/\n",
    "# https://github.com/keras-team/keras/issues/2743\n",
    "import sys\n",
    "import numpy as np\n",
    "# Set random seed\n",
    "np.random.seed(0)\n",
    "\n",
    "import pandas as pd\n",
    "import matplotlib.pyplot as plt\n",
    "from sklearn.metrics import mean_squared_error, mean_absolute_error\n",
    "\n",
    "# Column Transformer\n",
    "from sklearn.compose import ColumnTransformer\n",
    "from sklearn.preprocessing import StandardScaler, OneHotEncoder, MinMaxScaler, KBinsDiscretizer\n",
    "\n",
    "# Keras Library\n",
    "from keras.models import Sequential\n",
    "from keras.layers import Dense, Activation"
   ]
  },
  {
   "cell_type": "code",
   "execution_count": 69,
   "metadata": {
    "execution": {
     "iopub.execute_input": "2020-12-26T10:26:18.028485Z",
     "iopub.status.busy": "2020-12-26T10:26:18.027720Z",
     "iopub.status.idle": "2020-12-26T10:26:18.031390Z",
     "shell.execute_reply": "2020-12-26T10:26:18.030709Z"
    },
    "papermill": {
     "duration": 0.133645,
     "end_time": "2020-12-26T10:26:18.031524",
     "exception": false,
     "start_time": "2020-12-26T10:26:17.897879",
     "status": "completed"
    },
    "tags": []
   },
   "outputs": [],
   "source": [
    "column_list_file = 'bike_train_column_list.txt'\n",
    "train_file = 'bike_train.csv'\n",
    "validation_file = 'bike_validation.csv'\n",
    "test_file = 'bike_test.csv'"
   ]
  },
  {
   "cell_type": "code",
   "execution_count": 70,
   "metadata": {
    "execution": {
     "iopub.execute_input": "2020-12-26T10:26:18.289012Z",
     "iopub.status.busy": "2020-12-26T10:26:18.288085Z",
     "iopub.status.idle": "2020-12-26T10:26:18.291511Z",
     "shell.execute_reply": "2020-12-26T10:26:18.290813Z"
    },
    "papermill": {
     "duration": 0.13504,
     "end_time": "2020-12-26T10:26:18.291638",
     "exception": false,
     "start_time": "2020-12-26T10:26:18.156598",
     "status": "completed"
    },
    "tags": []
   },
   "outputs": [],
   "source": [
    "# One Hot Encode all Categorical Features\n",
    "# Let's define all the categorical features\n",
    "categorical_features = ['season','holiday','workingday','weather','year','month','dayofweek','hour']\n",
    "\n",
    "# Separated day\n",
    "categorical_day = ['day']\n",
    "\n",
    "# Standardize Features\n",
    "standardize_features = ['temp', 'atemp', 'humidity', 'windspeed']"
   ]
  },
  {
   "cell_type": "code",
   "execution_count": 71,
   "metadata": {
    "execution": {
     "iopub.execute_input": "2020-12-26T10:26:18.591648Z",
     "iopub.status.busy": "2020-12-26T10:26:18.590888Z",
     "iopub.status.idle": "2020-12-26T10:26:18.594321Z",
     "shell.execute_reply": "2020-12-26T10:26:18.593660Z"
    },
    "papermill": {
     "duration": 0.178966,
     "end_time": "2020-12-26T10:26:18.594460",
     "exception": false,
     "start_time": "2020-12-26T10:26:18.415494",
     "status": "completed"
    },
    "tags": []
   },
   "outputs": [],
   "source": [
    "columns = ''\n",
    "with open(column_list_file,'r') as f:\n",
    "    columns = f.read().split(',')"
   ]
  },
  {
   "cell_type": "code",
   "execution_count": 72,
   "metadata": {
    "execution": {
     "iopub.execute_input": "2020-12-26T10:26:18.850105Z",
     "iopub.status.busy": "2020-12-26T10:26:18.849317Z",
     "iopub.status.idle": "2020-12-26T10:26:18.875771Z",
     "shell.execute_reply": "2020-12-26T10:26:18.875008Z"
    },
    "papermill": {
     "duration": 0.156491,
     "end_time": "2020-12-26T10:26:18.875917",
     "exception": false,
     "start_time": "2020-12-26T10:26:18.719426",
     "status": "completed"
    },
    "tags": []
   },
   "outputs": [],
   "source": [
    "# Specify the column names as the file does not have column header\n",
    "df_train = pd.read_csv(train_file,names=columns)\n",
    "df_validation = pd.read_csv(validation_file,names=columns)"
   ]
  },
  {
   "cell_type": "code",
   "execution_count": 73,
   "metadata": {
    "execution": {
     "iopub.execute_input": "2020-12-26T10:26:19.146366Z",
     "iopub.status.busy": "2020-12-26T10:26:19.145395Z",
     "iopub.status.idle": "2020-12-26T10:26:19.150278Z",
     "shell.execute_reply": "2020-12-26T10:26:19.149513Z"
    },
    "papermill": {
     "duration": 0.148808,
     "end_time": "2020-12-26T10:26:19.150411",
     "exception": false,
     "start_time": "2020-12-26T10:26:19.001603",
     "status": "completed"
    },
    "tags": []
   },
   "outputs": [
    {
     "data": {
      "text/html": [
       "<div>\n",
       "<style scoped>\n",
       "    .dataframe tbody tr th:only-of-type {\n",
       "        vertical-align: middle;\n",
       "    }\n",
       "\n",
       "    .dataframe tbody tr th {\n",
       "        vertical-align: top;\n",
       "    }\n",
       "\n",
       "    .dataframe thead th {\n",
       "        text-align: right;\n",
       "    }\n",
       "</style>\n",
       "<table border=\"1\" class=\"dataframe\">\n",
       "  <thead>\n",
       "    <tr style=\"text-align: right;\">\n",
       "      <th></th>\n",
       "      <th>count</th>\n",
       "      <th>season</th>\n",
       "      <th>holiday</th>\n",
       "      <th>workingday</th>\n",
       "      <th>weather</th>\n",
       "      <th>temp</th>\n",
       "      <th>atemp</th>\n",
       "      <th>humidity</th>\n",
       "      <th>windspeed</th>\n",
       "      <th>year</th>\n",
       "      <th>month</th>\n",
       "      <th>day</th>\n",
       "      <th>dayofweek</th>\n",
       "      <th>hour</th>\n",
       "    </tr>\n",
       "  </thead>\n",
       "  <tbody>\n",
       "    <tr>\n",
       "      <th>0</th>\n",
       "      <td>4.477337</td>\n",
       "      <td>3</td>\n",
       "      <td>0</td>\n",
       "      <td>0</td>\n",
       "      <td>2</td>\n",
       "      <td>26.24</td>\n",
       "      <td>30.305</td>\n",
       "      <td>73</td>\n",
       "      <td>7.0015</td>\n",
       "      <td>2011</td>\n",
       "      <td>9</td>\n",
       "      <td>3</td>\n",
       "      <td>5</td>\n",
       "      <td>0</td>\n",
       "    </tr>\n",
       "    <tr>\n",
       "      <th>1</th>\n",
       "      <td>5.517453</td>\n",
       "      <td>3</td>\n",
       "      <td>0</td>\n",
       "      <td>1</td>\n",
       "      <td>1</td>\n",
       "      <td>32.80</td>\n",
       "      <td>34.850</td>\n",
       "      <td>33</td>\n",
       "      <td>7.0015</td>\n",
       "      <td>2012</td>\n",
       "      <td>8</td>\n",
       "      <td>13</td>\n",
       "      <td>0</td>\n",
       "      <td>14</td>\n",
       "    </tr>\n",
       "    <tr>\n",
       "      <th>2</th>\n",
       "      <td>5.814131</td>\n",
       "      <td>4</td>\n",
       "      <td>0</td>\n",
       "      <td>0</td>\n",
       "      <td>1</td>\n",
       "      <td>15.58</td>\n",
       "      <td>19.695</td>\n",
       "      <td>40</td>\n",
       "      <td>11.0014</td>\n",
       "      <td>2011</td>\n",
       "      <td>11</td>\n",
       "      <td>5</td>\n",
       "      <td>5</td>\n",
       "      <td>17</td>\n",
       "    </tr>\n",
       "    <tr>\n",
       "      <th>3</th>\n",
       "      <td>6.436150</td>\n",
       "      <td>3</td>\n",
       "      <td>0</td>\n",
       "      <td>1</td>\n",
       "      <td>1</td>\n",
       "      <td>32.80</td>\n",
       "      <td>37.880</td>\n",
       "      <td>55</td>\n",
       "      <td>12.9980</td>\n",
       "      <td>2012</td>\n",
       "      <td>8</td>\n",
       "      <td>9</td>\n",
       "      <td>3</td>\n",
       "      <td>19</td>\n",
       "    </tr>\n",
       "    <tr>\n",
       "      <th>4</th>\n",
       "      <td>4.262680</td>\n",
       "      <td>2</td>\n",
       "      <td>0</td>\n",
       "      <td>1</td>\n",
       "      <td>1</td>\n",
       "      <td>13.94</td>\n",
       "      <td>17.425</td>\n",
       "      <td>76</td>\n",
       "      <td>7.0015</td>\n",
       "      <td>2011</td>\n",
       "      <td>4</td>\n",
       "      <td>14</td>\n",
       "      <td>3</td>\n",
       "      <td>6</td>\n",
       "    </tr>\n",
       "  </tbody>\n",
       "</table>\n",
       "</div>"
      ],
      "text/plain": [
       "      count  season  holiday  workingday  weather   temp   atemp  humidity  \\\n",
       "0  4.477337       3        0           0        2  26.24  30.305        73   \n",
       "1  5.517453       3        0           1        1  32.80  34.850        33   \n",
       "2  5.814131       4        0           0        1  15.58  19.695        40   \n",
       "3  6.436150       3        0           1        1  32.80  37.880        55   \n",
       "4  4.262680       2        0           1        1  13.94  17.425        76   \n",
       "\n",
       "   windspeed  year  month  day  dayofweek  hour  \n",
       "0     7.0015  2011      9    3          5     0  \n",
       "1     7.0015  2012      8   13          0    14  \n",
       "2    11.0014  2011     11    5          5    17  \n",
       "3    12.9980  2012      8    9          3    19  \n",
       "4     7.0015  2011      4   14          3     6  "
      ]
     },
     "execution_count": 73,
     "metadata": {},
     "output_type": "execute_result"
    }
   ],
   "source": [
    "df_train.head()"
   ]
  },
  {
   "cell_type": "code",
   "execution_count": 74,
   "metadata": {
    "execution": {
     "iopub.execute_input": "2020-12-26T10:26:19.459287Z",
     "iopub.status.busy": "2020-12-26T10:26:19.458240Z",
     "iopub.status.idle": "2020-12-26T10:26:19.464324Z",
     "shell.execute_reply": "2020-12-26T10:26:19.464914Z"
    },
    "papermill": {
     "duration": 0.165267,
     "end_time": "2020-12-26T10:26:19.465081",
     "exception": false,
     "start_time": "2020-12-26T10:26:19.299814",
     "status": "completed"
    },
    "tags": []
   },
   "outputs": [
    {
     "data": {
      "text/html": [
       "<div>\n",
       "<style scoped>\n",
       "    .dataframe tbody tr th:only-of-type {\n",
       "        vertical-align: middle;\n",
       "    }\n",
       "\n",
       "    .dataframe tbody tr th {\n",
       "        vertical-align: top;\n",
       "    }\n",
       "\n",
       "    .dataframe thead th {\n",
       "        text-align: right;\n",
       "    }\n",
       "</style>\n",
       "<table border=\"1\" class=\"dataframe\">\n",
       "  <thead>\n",
       "    <tr style=\"text-align: right;\">\n",
       "      <th></th>\n",
       "      <th>count</th>\n",
       "      <th>season</th>\n",
       "      <th>holiday</th>\n",
       "      <th>workingday</th>\n",
       "      <th>weather</th>\n",
       "      <th>temp</th>\n",
       "      <th>atemp</th>\n",
       "      <th>humidity</th>\n",
       "      <th>windspeed</th>\n",
       "      <th>year</th>\n",
       "      <th>month</th>\n",
       "      <th>day</th>\n",
       "      <th>dayofweek</th>\n",
       "      <th>hour</th>\n",
       "    </tr>\n",
       "  </thead>\n",
       "  <tbody>\n",
       "    <tr>\n",
       "      <th>0</th>\n",
       "      <td>6.095825</td>\n",
       "      <td>3</td>\n",
       "      <td>0</td>\n",
       "      <td>1</td>\n",
       "      <td>2</td>\n",
       "      <td>28.70</td>\n",
       "      <td>33.335</td>\n",
       "      <td>79</td>\n",
       "      <td>12.9980</td>\n",
       "      <td>2011</td>\n",
       "      <td>7</td>\n",
       "      <td>7</td>\n",
       "      <td>3</td>\n",
       "      <td>8</td>\n",
       "    </tr>\n",
       "    <tr>\n",
       "      <th>1</th>\n",
       "      <td>5.961005</td>\n",
       "      <td>2</td>\n",
       "      <td>0</td>\n",
       "      <td>0</td>\n",
       "      <td>1</td>\n",
       "      <td>32.80</td>\n",
       "      <td>37.880</td>\n",
       "      <td>55</td>\n",
       "      <td>12.9980</td>\n",
       "      <td>2011</td>\n",
       "      <td>6</td>\n",
       "      <td>11</td>\n",
       "      <td>5</td>\n",
       "      <td>13</td>\n",
       "    </tr>\n",
       "    <tr>\n",
       "      <th>2</th>\n",
       "      <td>1.098612</td>\n",
       "      <td>1</td>\n",
       "      <td>0</td>\n",
       "      <td>1</td>\n",
       "      <td>1</td>\n",
       "      <td>14.76</td>\n",
       "      <td>16.665</td>\n",
       "      <td>40</td>\n",
       "      <td>19.9995</td>\n",
       "      <td>2011</td>\n",
       "      <td>2</td>\n",
       "      <td>14</td>\n",
       "      <td>0</td>\n",
       "      <td>2</td>\n",
       "    </tr>\n",
       "    <tr>\n",
       "      <th>3</th>\n",
       "      <td>3.891820</td>\n",
       "      <td>1</td>\n",
       "      <td>0</td>\n",
       "      <td>1</td>\n",
       "      <td>1</td>\n",
       "      <td>9.02</td>\n",
       "      <td>9.090</td>\n",
       "      <td>47</td>\n",
       "      <td>36.9974</td>\n",
       "      <td>2011</td>\n",
       "      <td>2</td>\n",
       "      <td>8</td>\n",
       "      <td>1</td>\n",
       "      <td>10</td>\n",
       "    </tr>\n",
       "    <tr>\n",
       "      <th>4</th>\n",
       "      <td>4.025352</td>\n",
       "      <td>4</td>\n",
       "      <td>0</td>\n",
       "      <td>0</td>\n",
       "      <td>1</td>\n",
       "      <td>10.66</td>\n",
       "      <td>15.150</td>\n",
       "      <td>87</td>\n",
       "      <td>0.0000</td>\n",
       "      <td>2011</td>\n",
       "      <td>12</td>\n",
       "      <td>4</td>\n",
       "      <td>6</td>\n",
       "      <td>8</td>\n",
       "    </tr>\n",
       "  </tbody>\n",
       "</table>\n",
       "</div>"
      ],
      "text/plain": [
       "      count  season  holiday  workingday  weather   temp   atemp  humidity  \\\n",
       "0  6.095825       3        0           1        2  28.70  33.335        79   \n",
       "1  5.961005       2        0           0        1  32.80  37.880        55   \n",
       "2  1.098612       1        0           1        1  14.76  16.665        40   \n",
       "3  3.891820       1        0           1        1   9.02   9.090        47   \n",
       "4  4.025352       4        0           0        1  10.66  15.150        87   \n",
       "\n",
       "   windspeed  year  month  day  dayofweek  hour  \n",
       "0    12.9980  2011      7    7          3     8  \n",
       "1    12.9980  2011      6   11          5    13  \n",
       "2    19.9995  2011      2   14          0     2  \n",
       "3    36.9974  2011      2    8          1    10  \n",
       "4     0.0000  2011     12    4          6     8  "
      ]
     },
     "execution_count": 74,
     "metadata": {},
     "output_type": "execute_result"
    }
   ],
   "source": [
    "df_validation.head()"
   ]
  },
  {
   "cell_type": "code",
   "execution_count": 75,
   "metadata": {
    "execution": {
     "iopub.execute_input": "2020-12-26T10:26:19.730082Z",
     "iopub.status.busy": "2020-12-26T10:26:19.729098Z",
     "iopub.status.idle": "2020-12-26T10:26:19.732917Z",
     "shell.execute_reply": "2020-12-26T10:26:19.732289Z"
    },
    "papermill": {
     "duration": 0.139355,
     "end_time": "2020-12-26T10:26:19.733051",
     "exception": false,
     "start_time": "2020-12-26T10:26:19.593696",
     "status": "completed"
    },
    "tags": []
   },
   "outputs": [],
   "source": [
    "X_train = df_train.iloc[:,1:] # Features: 1st column onwards \n",
    "y_train = df_train.iloc[:,0].ravel() # Target: 0th column\n",
    "\n",
    "X_validation = df_validation.iloc[:,1:]\n",
    "y_validation = df_validation.iloc[:,0].ravel()"
   ]
  },
  {
   "cell_type": "code",
   "execution_count": 76,
   "metadata": {
    "execution": {
     "iopub.execute_input": "2020-12-26T10:26:20.002165Z",
     "iopub.status.busy": "2020-12-26T10:26:20.001390Z",
     "iopub.status.idle": "2020-12-26T10:26:20.004710Z",
     "shell.execute_reply": "2020-12-26T10:26:20.003908Z"
    },
    "papermill": {
     "duration": 0.144906,
     "end_time": "2020-12-26T10:26:20.004837",
     "exception": false,
     "start_time": "2020-12-26T10:26:19.859931",
     "status": "completed"
    },
    "tags": []
   },
   "outputs": [],
   "source": [
    "colTransformer = ColumnTransformer([('onehot',\n",
    "                                     OneHotEncoder(categories='auto',sparse=False),\n",
    "                                     categorical_features),\n",
    "                                    ('onehotday',\n",
    "                                     OneHotEncoder(categories=[[1, 2, 3, 4, 5, 6, 7, 8, 9, 10, 11, 12, 13, 14, 15, 16, 17, 18, 19, 20, 21, 22, 23, 24, 25, 26, 27, 28, 29, 30, 31]],\n",
    "                                                   sparse=False),\n",
    "                                     ['day']),\n",
    "                                    ('standardize',\n",
    "                                    StandardScaler(),standardize_features)\n",
    "                                   ],\n",
    "                                   remainder=\"passthrough\")"
   ]
  },
  {
   "cell_type": "code",
   "execution_count": 77,
   "metadata": {
    "execution": {
     "iopub.execute_input": "2020-12-26T10:26:20.268975Z",
     "iopub.status.busy": "2020-12-26T10:26:20.268178Z",
     "iopub.status.idle": "2020-12-26T10:26:20.304516Z",
     "shell.execute_reply": "2020-12-26T10:26:20.305092Z"
    },
    "papermill": {
     "duration": 0.171851,
     "end_time": "2020-12-26T10:26:20.305279",
     "exception": false,
     "start_time": "2020-12-26T10:26:20.133428",
     "status": "completed"
    },
    "tags": []
   },
   "outputs": [
    {
     "data": {
      "text/plain": [
       "ColumnTransformer(remainder='passthrough',\n",
       "                  transformers=[('onehot', OneHotEncoder(sparse=False),\n",
       "                                 ['season', 'holiday', 'workingday', 'weather',\n",
       "                                  'year', 'month', 'dayofweek', 'hour']),\n",
       "                                ('onehotday',\n",
       "                                 OneHotEncoder(categories=[[1, 2, 3, 4, 5, 6, 7,\n",
       "                                                            8, 9, 10, 11, 12,\n",
       "                                                            13, 14, 15, 16, 17,\n",
       "                                                            18, 19, 20, 21, 22,\n",
       "                                                            23, 24, 25, 26, 27,\n",
       "                                                            28, 29, 30, ...]],\n",
       "                                               sparse=False),\n",
       "                                 ['day']),\n",
       "                                ('standardize', StandardScaler(),\n",
       "                                 ['temp', 'atemp', 'humidity', 'windspeed'])])"
      ]
     },
     "execution_count": 77,
     "metadata": {},
     "output_type": "execute_result"
    }
   ],
   "source": [
    "colTransformer.fit(X_train)"
   ]
  },
  {
   "cell_type": "code",
   "execution_count": 78,
   "metadata": {
    "execution": {
     "iopub.execute_input": "2020-12-26T10:26:20.568320Z",
     "iopub.status.busy": "2020-12-26T10:26:20.567522Z",
     "iopub.status.idle": "2020-12-26T10:26:20.599946Z",
     "shell.execute_reply": "2020-12-26T10:26:20.599122Z"
    },
    "papermill": {
     "duration": 0.167943,
     "end_time": "2020-12-26T10:26:20.600079",
     "exception": false,
     "start_time": "2020-12-26T10:26:20.432136",
     "status": "completed"
    },
    "tags": []
   },
   "outputs": [],
   "source": [
    "X_train_encoded = colTransformer.transform(X_train)\n",
    "X_validation_encoded = colTransformer.transform(X_validation)"
   ]
  },
  {
   "cell_type": "code",
   "execution_count": 79,
   "metadata": {
    "execution": {
     "iopub.execute_input": "2020-12-26T10:26:20.864415Z",
     "iopub.status.busy": "2020-12-26T10:26:20.863489Z",
     "iopub.status.idle": "2020-12-26T10:26:20.868903Z",
     "shell.execute_reply": "2020-12-26T10:26:20.868298Z"
    },
    "papermill": {
     "duration": 0.140122,
     "end_time": "2020-12-26T10:26:20.869034",
     "exception": false,
     "start_time": "2020-12-26T10:26:20.728912",
     "status": "completed"
    },
    "tags": []
   },
   "outputs": [
    {
     "name": "stdout",
     "output_type": "stream",
     "text": [
      "Training Data (7620, 13) OneHot Encoded (7620, 92)\n",
      "Val Data (3266, 13) OneHot Encoded (3266, 92)\n"
     ]
    }
   ],
   "source": [
    "print('Training Data',X_train.shape, 'OneHot Encoded',X_train_encoded.shape)\n",
    "print('Val Data',X_validation.shape, 'OneHot Encoded',X_validation_encoded.shape)"
   ]
  },
  {
   "cell_type": "code",
   "execution_count": 80,
   "metadata": {
    "execution": {
     "iopub.execute_input": "2020-12-26T10:26:21.138138Z",
     "iopub.status.busy": "2020-12-26T10:26:21.137170Z",
     "iopub.status.idle": "2020-12-26T10:26:21.141914Z",
     "shell.execute_reply": "2020-12-26T10:26:21.141197Z"
    },
    "papermill": {
     "duration": 0.143559,
     "end_time": "2020-12-26T10:26:21.142031",
     "exception": false,
     "start_time": "2020-12-26T10:26:20.998472",
     "status": "completed"
    },
    "tags": []
   },
   "outputs": [
    {
     "data": {
      "text/plain": [
       "array([[ 0.        ,  0.        ,  1.        ,  0.        ,  1.        ,\n",
       "         0.        ,  1.        ,  0.        ,  0.        ,  1.        ,\n",
       "         0.        ,  0.        ,  1.        ,  0.        ,  0.        ,\n",
       "         0.        ,  0.        ,  0.        ,  0.        ,  0.        ,\n",
       "         0.        ,  0.        ,  1.        ,  0.        ,  0.        ,\n",
       "         0.        ,  0.        ,  0.        ,  0.        ,  0.        ,\n",
       "         0.        ,  1.        ,  0.        ,  1.        ,  0.        ,\n",
       "         0.        ,  0.        ,  0.        ,  0.        ,  0.        ,\n",
       "         0.        ,  0.        ,  0.        ,  0.        ,  0.        ,\n",
       "         0.        ,  0.        ,  0.        ,  0.        ,  0.        ,\n",
       "         0.        ,  0.        ,  0.        ,  0.        ,  0.        ,\n",
       "         0.        ,  0.        ,  0.        ,  0.        ,  1.        ,\n",
       "         0.        ,  0.        ,  0.        ,  0.        ,  0.        ,\n",
       "         0.        ,  0.        ,  0.        ,  0.        ,  0.        ,\n",
       "         0.        ,  0.        ,  0.        ,  0.        ,  0.        ,\n",
       "         0.        ,  0.        ,  0.        ,  0.        ,  0.        ,\n",
       "         0.        ,  0.        ,  0.        ,  0.        ,  0.        ,\n",
       "         0.        ,  0.        ,  0.        ,  0.77057946,  0.78259478,\n",
       "         0.56394774, -0.70500813]])"
      ]
     },
     "execution_count": 80,
     "metadata": {},
     "output_type": "execute_result"
    }
   ],
   "source": [
    "X_train_encoded[:1]"
   ]
  },
  {
   "cell_type": "code",
   "execution_count": 81,
   "metadata": {
    "execution": {
     "iopub.execute_input": "2020-12-26T10:26:21.407795Z",
     "iopub.status.busy": "2020-12-26T10:26:21.406861Z",
     "iopub.status.idle": "2020-12-26T10:26:21.411885Z",
     "shell.execute_reply": "2020-12-26T10:26:21.411143Z"
    },
    "papermill": {
     "duration": 0.140307,
     "end_time": "2020-12-26T10:26:21.412015",
     "exception": false,
     "start_time": "2020-12-26T10:26:21.271708",
     "status": "completed"
    },
    "tags": []
   },
   "outputs": [
    {
     "data": {
      "text/plain": [
       "array([[0.        , 0.        , 1.        , 0.        , 1.        ,\n",
       "        0.        , 0.        , 1.        , 0.        , 1.        ,\n",
       "        0.        , 0.        , 1.        , 0.        , 0.        ,\n",
       "        0.        , 0.        , 0.        , 0.        , 0.        ,\n",
       "        1.        , 0.        , 0.        , 0.        , 0.        ,\n",
       "        0.        , 0.        , 0.        , 0.        , 1.        ,\n",
       "        0.        , 0.        , 0.        , 0.        , 0.        ,\n",
       "        0.        , 0.        , 0.        , 0.        , 0.        ,\n",
       "        0.        , 1.        , 0.        , 0.        , 0.        ,\n",
       "        0.        , 0.        , 0.        , 0.        , 0.        ,\n",
       "        0.        , 0.        , 0.        , 0.        , 0.        ,\n",
       "        0.        , 0.        , 0.        , 0.        , 0.        ,\n",
       "        0.        , 0.        , 0.        , 1.        , 0.        ,\n",
       "        0.        , 0.        , 0.        , 0.        , 0.        ,\n",
       "        0.        , 0.        , 0.        , 0.        , 0.        ,\n",
       "        0.        , 0.        , 0.        , 0.        , 0.        ,\n",
       "        0.        , 0.        , 0.        , 0.        , 0.        ,\n",
       "        0.        , 0.        , 0.        , 1.08651759, 1.14059224,\n",
       "        0.87595541, 0.03185771]])"
      ]
     },
     "execution_count": 81,
     "metadata": {},
     "output_type": "execute_result"
    }
   ],
   "source": [
    "X_validation_encoded[:1]"
   ]
  },
  {
   "cell_type": "markdown",
   "metadata": {
    "papermill": {
     "duration": 0.129946,
     "end_time": "2020-12-26T10:26:21.671270",
     "exception": false,
     "start_time": "2020-12-26T10:26:21.541324",
     "status": "completed"
    },
    "tags": []
   },
   "source": [
    "# Build Model using Keras\n",
    "Reference: https://keras.io/getting-started/sequential-model-guide/"
   ]
  },
  {
   "cell_type": "code",
   "execution_count": 82,
   "metadata": {
    "execution": {
     "iopub.execute_input": "2020-12-26T10:26:21.937697Z",
     "iopub.status.busy": "2020-12-26T10:26:21.936762Z",
     "iopub.status.idle": "2020-12-26T10:26:21.941476Z",
     "shell.execute_reply": "2020-12-26T10:26:21.940789Z"
    },
    "papermill": {
     "duration": 0.139812,
     "end_time": "2020-12-26T10:26:21.941613",
     "exception": false,
     "start_time": "2020-12-26T10:26:21.801801",
     "status": "completed"
    },
    "tags": []
   },
   "outputs": [
    {
     "data": {
      "text/plain": [
       "(7620, 92)"
      ]
     },
     "execution_count": 82,
     "metadata": {},
     "output_type": "execute_result"
    }
   ],
   "source": [
    "# Dimension of input data\n",
    "# We need to specify number of features when configuring the first hidden layer\n",
    "X_train_encoded.shape"
   ]
  },
  {
   "cell_type": "code",
   "execution_count": 83,
   "metadata": {
    "execution": {
     "iopub.execute_input": "2020-12-26T10:26:22.213345Z",
     "iopub.status.busy": "2020-12-26T10:26:22.212518Z",
     "iopub.status.idle": "2020-12-26T10:26:22.331130Z",
     "shell.execute_reply": "2020-12-26T10:26:22.330468Z"
    },
    "papermill": {
     "duration": 0.257034,
     "end_time": "2020-12-26T10:26:22.331286",
     "exception": false,
     "start_time": "2020-12-26T10:26:22.074252",
     "status": "completed"
    },
    "tags": []
   },
   "outputs": [],
   "source": [
    "model = Sequential()\n",
    "# 1 hidden layer with 100 neurons with relu activation\n",
    "# output layer - regression, so no activation\n",
    "model.add(Dense(100, input_dim=X_train_encoded.shape[1],activation='relu'))\n",
    "model.add(Dense(1,activation=None))"
   ]
  },
  {
   "cell_type": "code",
   "execution_count": 84,
   "metadata": {
    "execution": {
     "iopub.execute_input": "2020-12-26T10:26:22.604065Z",
     "iopub.status.busy": "2020-12-26T10:26:22.603002Z",
     "iopub.status.idle": "2020-12-26T10:26:22.621829Z",
     "shell.execute_reply": "2020-12-26T10:26:22.622448Z"
    },
    "papermill": {
     "duration": 0.158996,
     "end_time": "2020-12-26T10:26:22.622627",
     "exception": false,
     "start_time": "2020-12-26T10:26:22.463631",
     "status": "completed"
    },
    "tags": []
   },
   "outputs": [],
   "source": [
    "# Need to compile the model, specify the optimizer and loss function to use\n",
    "# For a mean squared error regression problem\n",
    "model.compile(optimizer='adam',\n",
    "              loss='mse')"
   ]
  },
  {
   "cell_type": "markdown",
   "metadata": {
    "papermill": {
     "duration": 0.129342,
     "end_time": "2020-12-26T10:26:22.894946",
     "exception": false,
     "start_time": "2020-12-26T10:26:22.765604",
     "status": "completed"
    },
    "tags": []
   },
   "source": [
    "* One creative idea to avoid from overfitting is using the Early Sopping Method"
   ]
  },
  {
   "cell_type": "code",
   "execution_count": 85,
   "metadata": {
    "execution": {
     "iopub.execute_input": "2020-12-26T10:26:23.169354Z",
     "iopub.status.busy": "2020-12-26T10:26:23.168495Z",
     "iopub.status.idle": "2020-12-26T10:26:23.171799Z",
     "shell.execute_reply": "2020-12-26T10:26:23.171080Z"
    },
    "papermill": {
     "duration": 0.142095,
     "end_time": "2020-12-26T10:26:23.171915",
     "exception": false,
     "start_time": "2020-12-26T10:26:23.029820",
     "status": "completed"
    },
    "tags": []
   },
   "outputs": [],
   "source": [
    "from keras.callbacks import EarlyStopping"
   ]
  },
  {
   "cell_type": "code",
   "execution_count": 86,
   "metadata": {
    "execution": {
     "iopub.execute_input": "2020-12-26T10:26:23.441567Z",
     "iopub.status.busy": "2020-12-26T10:26:23.440464Z",
     "iopub.status.idle": "2020-12-26T10:26:23.444071Z",
     "shell.execute_reply": "2020-12-26T10:26:23.443452Z"
    },
    "papermill": {
     "duration": 0.13992,
     "end_time": "2020-12-26T10:26:23.444192",
     "exception": false,
     "start_time": "2020-12-26T10:26:23.304272",
     "status": "completed"
    },
    "tags": []
   },
   "outputs": [],
   "source": [
    "# We can optionally configure early stopping to prevent overfitting - stop when validation loss does not improve\n",
    "early_stopping = EarlyStopping(monitor='val_loss', mode='min', verbose=1, patience=2)"
   ]
  },
  {
   "cell_type": "code",
   "execution_count": 87,
   "metadata": {
    "execution": {
     "iopub.execute_input": "2020-12-26T10:26:23.711795Z",
     "iopub.status.busy": "2020-12-26T10:26:23.710968Z",
     "iopub.status.idle": "2020-12-26T10:26:30.535259Z",
     "shell.execute_reply": "2020-12-26T10:26:30.534267Z"
    },
    "papermill": {
     "duration": 6.960475,
     "end_time": "2020-12-26T10:26:30.535453",
     "exception": false,
     "start_time": "2020-12-26T10:26:23.574978",
     "status": "completed"
    },
    "tags": []
   },
   "outputs": [
    {
     "name": "stdout",
     "output_type": "stream",
     "text": [
      "Epoch 1/20\n",
      "239/239 [==============================] - 0s 2ms/step - loss: 2.8605 - val_loss: 0.4808\n",
      "Epoch 2/20\n",
      "239/239 [==============================] - 0s 2ms/step - loss: 0.3736 - val_loss: 0.3262\n",
      "Epoch 3/20\n",
      "239/239 [==============================] - 0s 2ms/step - loss: 0.2909 - val_loss: 0.2672\n",
      "Epoch 4/20\n",
      "239/239 [==============================] - 0s 2ms/step - loss: 0.2141 - val_loss: 0.1846\n",
      "Epoch 5/20\n",
      "239/239 [==============================] - 0s 2ms/step - loss: 0.1420 - val_loss: 0.1290\n",
      "Epoch 6/20\n",
      "239/239 [==============================] - 0s 2ms/step - loss: 0.1083 - val_loss: 0.1091\n",
      "Epoch 7/20\n",
      "239/239 [==============================] - 0s 2ms/step - loss: 0.0941 - val_loss: 0.1015\n",
      "Epoch 8/20\n",
      "239/239 [==============================] - 0s 2ms/step - loss: 0.0877 - val_loss: 0.0953\n",
      "Epoch 9/20\n",
      "239/239 [==============================] - 0s 2ms/step - loss: 0.0841 - val_loss: 0.0934\n",
      "Epoch 10/20\n",
      "239/239 [==============================] - 0s 2ms/step - loss: 0.0801 - val_loss: 0.0944\n",
      "Epoch 11/20\n",
      "239/239 [==============================] - 0s 1ms/step - loss: 0.0767 - val_loss: 0.0897\n",
      "Epoch 12/20\n",
      "239/239 [==============================] - 0s 2ms/step - loss: 0.0736 - val_loss: 0.0897\n",
      "Epoch 13/20\n",
      "239/239 [==============================] - 0s 2ms/step - loss: 0.0714 - val_loss: 0.0867\n",
      "Epoch 14/20\n",
      "239/239 [==============================] - 0s 2ms/step - loss: 0.0695 - val_loss: 0.0855\n",
      "Epoch 15/20\n",
      "239/239 [==============================] - 0s 2ms/step - loss: 0.0680 - val_loss: 0.0934\n",
      "Epoch 16/20\n",
      "239/239 [==============================] - 0s 2ms/step - loss: 0.0670 - val_loss: 0.0910\n",
      "Epoch 00016: early stopping\n"
     ]
    }
   ],
   "source": [
    "history = model.fit(X_train_encoded, y_train, epochs=20, batch_size=32, \n",
    "          validation_data=(X_validation_encoded,y_validation),callbacks=[early_stopping])"
   ]
  },
  {
   "cell_type": "code",
   "execution_count": 88,
   "metadata": {
    "execution": {
     "iopub.execute_input": "2020-12-26T10:26:30.900782Z",
     "iopub.status.busy": "2020-12-26T10:26:30.899954Z",
     "iopub.status.idle": "2020-12-26T10:26:31.109738Z",
     "shell.execute_reply": "2020-12-26T10:26:31.108965Z"
    },
    "papermill": {
     "duration": 0.397757,
     "end_time": "2020-12-26T10:26:31.109861",
     "exception": false,
     "start_time": "2020-12-26T10:26:30.712104",
     "status": "completed"
    },
    "tags": []
   },
   "outputs": [
    {
     "data": {
      "image/png": "[encoded data removed]",
      "text/plain": [
       "<Figure size 432x288 with 1 Axes>"
      ]
     },
     "metadata": {
      "needs_background": "light"
     },
     "output_type": "display_data"
    }
   ],
   "source": [
    "plt.scatter(x=history.epoch,y=history.history['loss'],label='Training Error')\n",
    "plt.scatter(x=history.epoch,y=history.history['val_loss'],label='Validation Error')\n",
    "plt.grid(True)\n",
    "plt.xlabel('Iteration')\n",
    "plt.ylabel('Loss')\n",
    "plt.title('Training Vs Validation Error')\n",
    "plt.legend()\n",
    "plt.show()"
   ]
  },
  {
   "cell_type": "code",
   "execution_count": 89,
   "metadata": {
    "execution": {
     "iopub.execute_input": "2020-12-26T10:26:31.472123Z",
     "iopub.status.busy": "2020-12-26T10:26:31.471368Z",
     "iopub.status.idle": "2020-12-26T10:26:31.482939Z",
     "shell.execute_reply": "2020-12-26T10:26:31.483570Z"
    },
    "papermill": {
     "duration": 0.194655,
     "end_time": "2020-12-26T10:26:31.483749",
     "exception": false,
     "start_time": "2020-12-26T10:26:31.289094",
     "status": "completed"
    },
    "tags": []
   },
   "outputs": [],
   "source": [
    "# Compare actual vs predicted performance with dataset not seen by the model before\n",
    "df = pd.read_csv(validation_file,names=columns)"
   ]
  },
  {
   "cell_type": "code",
   "execution_count": 90,
   "metadata": {
    "execution": {
     "iopub.execute_input": "2020-12-26T10:26:31.856855Z",
     "iopub.status.busy": "2020-12-26T10:26:31.855775Z",
     "iopub.status.idle": "2020-12-26T10:26:31.860980Z",
     "shell.execute_reply": "2020-12-26T10:26:31.860390Z"
    },
    "papermill": {
     "duration": 0.200455,
     "end_time": "2020-12-26T10:26:31.861105",
     "exception": false,
     "start_time": "2020-12-26T10:26:31.660650",
     "status": "completed"
    },
    "tags": []
   },
   "outputs": [
    {
     "data": {
      "text/html": [
       "<div>\n",
       "<style scoped>\n",
       "    .dataframe tbody tr th:only-of-type {\n",
       "        vertical-align: middle;\n",
       "    }\n",
       "\n",
       "    .dataframe tbody tr th {\n",
       "        vertical-align: top;\n",
       "    }\n",
       "\n",
       "    .dataframe thead th {\n",
       "        text-align: right;\n",
       "    }\n",
       "</style>\n",
       "<table border=\"1\" class=\"dataframe\">\n",
       "  <thead>\n",
       "    <tr style=\"text-align: right;\">\n",
       "      <th></th>\n",
       "      <th>count</th>\n",
       "      <th>season</th>\n",
       "      <th>holiday</th>\n",
       "      <th>workingday</th>\n",
       "      <th>weather</th>\n",
       "      <th>temp</th>\n",
       "      <th>atemp</th>\n",
       "      <th>humidity</th>\n",
       "      <th>windspeed</th>\n",
       "      <th>year</th>\n",
       "      <th>month</th>\n",
       "      <th>day</th>\n",
       "      <th>dayofweek</th>\n",
       "      <th>hour</th>\n",
       "    </tr>\n",
       "  </thead>\n",
       "  <tbody>\n",
       "    <tr>\n",
       "      <th>0</th>\n",
       "      <td>6.095825</td>\n",
       "      <td>3</td>\n",
       "      <td>0</td>\n",
       "      <td>1</td>\n",
       "      <td>2</td>\n",
       "      <td>28.70</td>\n",
       "      <td>33.335</td>\n",
       "      <td>79</td>\n",
       "      <td>12.9980</td>\n",
       "      <td>2011</td>\n",
       "      <td>7</td>\n",
       "      <td>7</td>\n",
       "      <td>3</td>\n",
       "      <td>8</td>\n",
       "    </tr>\n",
       "    <tr>\n",
       "      <th>1</th>\n",
       "      <td>5.961005</td>\n",
       "      <td>2</td>\n",
       "      <td>0</td>\n",
       "      <td>0</td>\n",
       "      <td>1</td>\n",
       "      <td>32.80</td>\n",
       "      <td>37.880</td>\n",
       "      <td>55</td>\n",
       "      <td>12.9980</td>\n",
       "      <td>2011</td>\n",
       "      <td>6</td>\n",
       "      <td>11</td>\n",
       "      <td>5</td>\n",
       "      <td>13</td>\n",
       "    </tr>\n",
       "    <tr>\n",
       "      <th>2</th>\n",
       "      <td>1.098612</td>\n",
       "      <td>1</td>\n",
       "      <td>0</td>\n",
       "      <td>1</td>\n",
       "      <td>1</td>\n",
       "      <td>14.76</td>\n",
       "      <td>16.665</td>\n",
       "      <td>40</td>\n",
       "      <td>19.9995</td>\n",
       "      <td>2011</td>\n",
       "      <td>2</td>\n",
       "      <td>14</td>\n",
       "      <td>0</td>\n",
       "      <td>2</td>\n",
       "    </tr>\n",
       "    <tr>\n",
       "      <th>3</th>\n",
       "      <td>3.891820</td>\n",
       "      <td>1</td>\n",
       "      <td>0</td>\n",
       "      <td>1</td>\n",
       "      <td>1</td>\n",
       "      <td>9.02</td>\n",
       "      <td>9.090</td>\n",
       "      <td>47</td>\n",
       "      <td>36.9974</td>\n",
       "      <td>2011</td>\n",
       "      <td>2</td>\n",
       "      <td>8</td>\n",
       "      <td>1</td>\n",
       "      <td>10</td>\n",
       "    </tr>\n",
       "    <tr>\n",
       "      <th>4</th>\n",
       "      <td>4.025352</td>\n",
       "      <td>4</td>\n",
       "      <td>0</td>\n",
       "      <td>0</td>\n",
       "      <td>1</td>\n",
       "      <td>10.66</td>\n",
       "      <td>15.150</td>\n",
       "      <td>87</td>\n",
       "      <td>0.0000</td>\n",
       "      <td>2011</td>\n",
       "      <td>12</td>\n",
       "      <td>4</td>\n",
       "      <td>6</td>\n",
       "      <td>8</td>\n",
       "    </tr>\n",
       "  </tbody>\n",
       "</table>\n",
       "</div>"
      ],
      "text/plain": [
       "      count  season  holiday  workingday  weather   temp   atemp  humidity  \\\n",
       "0  6.095825       3        0           1        2  28.70  33.335        79   \n",
       "1  5.961005       2        0           0        1  32.80  37.880        55   \n",
       "2  1.098612       1        0           1        1  14.76  16.665        40   \n",
       "3  3.891820       1        0           1        1   9.02   9.090        47   \n",
       "4  4.025352       4        0           0        1  10.66  15.150        87   \n",
       "\n",
       "   windspeed  year  month  day  dayofweek  hour  \n",
       "0    12.9980  2011      7    7          3     8  \n",
       "1    12.9980  2011      6   11          5    13  \n",
       "2    19.9995  2011      2   14          0     2  \n",
       "3    36.9974  2011      2    8          1    10  \n",
       "4     0.0000  2011     12    4          6     8  "
      ]
     },
     "execution_count": 90,
     "metadata": {},
     "output_type": "execute_result"
    }
   ],
   "source": [
    "df.head()"
   ]
  },
  {
   "cell_type": "code",
   "execution_count": 91,
   "metadata": {
    "execution": {
     "iopub.execute_input": "2020-12-26T10:26:32.226495Z",
     "iopub.status.busy": "2020-12-26T10:26:32.225685Z",
     "iopub.status.idle": "2020-12-26T10:26:32.410808Z",
     "shell.execute_reply": "2020-12-26T10:26:32.411433Z"
    },
    "papermill": {
     "duration": 0.371496,
     "end_time": "2020-12-26T10:26:32.411612",
     "exception": false,
     "start_time": "2020-12-26T10:26:32.040116",
     "status": "completed"
    },
    "tags": []
   },
   "outputs": [],
   "source": [
    "result = model.predict(X_validation_encoded)"
   ]
  },
  {
   "cell_type": "code",
   "execution_count": 92,
   "metadata": {
    "execution": {
     "iopub.execute_input": "2020-12-26T10:26:32.778423Z",
     "iopub.status.busy": "2020-12-26T10:26:32.777508Z",
     "iopub.status.idle": "2020-12-26T10:26:32.781654Z",
     "shell.execute_reply": "2020-12-26T10:26:32.780939Z"
    },
    "papermill": {
     "duration": 0.189471,
     "end_time": "2020-12-26T10:26:32.781777",
     "exception": false,
     "start_time": "2020-12-26T10:26:32.592306",
     "status": "completed"
    },
    "tags": []
   },
   "outputs": [
    {
     "data": {
      "text/plain": [
       "array([[5.942887 ],\n",
       "       [5.9290056],\n",
       "       [1.0939775],\n",
       "       [3.753022 ],\n",
       "       [3.989008 ]], dtype=float32)"
      ]
     },
     "execution_count": 92,
     "metadata": {},
     "output_type": "execute_result"
    }
   ],
   "source": [
    "result[:5]"
   ]
  },
  {
   "cell_type": "code",
   "execution_count": 93,
   "metadata": {
    "execution": {
     "iopub.execute_input": "2020-12-26T10:26:33.157800Z",
     "iopub.status.busy": "2020-12-26T10:26:33.156711Z",
     "iopub.status.idle": "2020-12-26T10:26:33.161657Z",
     "shell.execute_reply": "2020-12-26T10:26:33.160909Z"
    },
    "papermill": {
     "duration": 0.201717,
     "end_time": "2020-12-26T10:26:33.161779",
     "exception": false,
     "start_time": "2020-12-26T10:26:32.960062",
     "status": "completed"
    },
    "tags": []
   },
   "outputs": [
    {
     "data": {
      "text/html": [
       "<div>\n",
       "<style scoped>\n",
       "    .dataframe tbody tr th:only-of-type {\n",
       "        vertical-align: middle;\n",
       "    }\n",
       "\n",
       "    .dataframe tbody tr th {\n",
       "        vertical-align: top;\n",
       "    }\n",
       "\n",
       "    .dataframe thead th {\n",
       "        text-align: right;\n",
       "    }\n",
       "</style>\n",
       "<table border=\"1\" class=\"dataframe\">\n",
       "  <thead>\n",
       "    <tr style=\"text-align: right;\">\n",
       "      <th></th>\n",
       "      <th>count</th>\n",
       "      <th>season</th>\n",
       "      <th>holiday</th>\n",
       "      <th>workingday</th>\n",
       "      <th>weather</th>\n",
       "      <th>temp</th>\n",
       "      <th>atemp</th>\n",
       "      <th>humidity</th>\n",
       "      <th>windspeed</th>\n",
       "      <th>year</th>\n",
       "      <th>month</th>\n",
       "      <th>day</th>\n",
       "      <th>dayofweek</th>\n",
       "      <th>hour</th>\n",
       "    </tr>\n",
       "  </thead>\n",
       "  <tbody>\n",
       "    <tr>\n",
       "      <th>0</th>\n",
       "      <td>6.095825</td>\n",
       "      <td>3</td>\n",
       "      <td>0</td>\n",
       "      <td>1</td>\n",
       "      <td>2</td>\n",
       "      <td>28.70</td>\n",
       "      <td>33.335</td>\n",
       "      <td>79</td>\n",
       "      <td>12.9980</td>\n",
       "      <td>2011</td>\n",
       "      <td>7</td>\n",
       "      <td>7</td>\n",
       "      <td>3</td>\n",
       "      <td>8</td>\n",
       "    </tr>\n",
       "    <tr>\n",
       "      <th>1</th>\n",
       "      <td>5.961005</td>\n",
       "      <td>2</td>\n",
       "      <td>0</td>\n",
       "      <td>0</td>\n",
       "      <td>1</td>\n",
       "      <td>32.80</td>\n",
       "      <td>37.880</td>\n",
       "      <td>55</td>\n",
       "      <td>12.9980</td>\n",
       "      <td>2011</td>\n",
       "      <td>6</td>\n",
       "      <td>11</td>\n",
       "      <td>5</td>\n",
       "      <td>13</td>\n",
       "    </tr>\n",
       "    <tr>\n",
       "      <th>2</th>\n",
       "      <td>1.098612</td>\n",
       "      <td>1</td>\n",
       "      <td>0</td>\n",
       "      <td>1</td>\n",
       "      <td>1</td>\n",
       "      <td>14.76</td>\n",
       "      <td>16.665</td>\n",
       "      <td>40</td>\n",
       "      <td>19.9995</td>\n",
       "      <td>2011</td>\n",
       "      <td>2</td>\n",
       "      <td>14</td>\n",
       "      <td>0</td>\n",
       "      <td>2</td>\n",
       "    </tr>\n",
       "    <tr>\n",
       "      <th>3</th>\n",
       "      <td>3.891820</td>\n",
       "      <td>1</td>\n",
       "      <td>0</td>\n",
       "      <td>1</td>\n",
       "      <td>1</td>\n",
       "      <td>9.02</td>\n",
       "      <td>9.090</td>\n",
       "      <td>47</td>\n",
       "      <td>36.9974</td>\n",
       "      <td>2011</td>\n",
       "      <td>2</td>\n",
       "      <td>8</td>\n",
       "      <td>1</td>\n",
       "      <td>10</td>\n",
       "    </tr>\n",
       "    <tr>\n",
       "      <th>4</th>\n",
       "      <td>4.025352</td>\n",
       "      <td>4</td>\n",
       "      <td>0</td>\n",
       "      <td>0</td>\n",
       "      <td>1</td>\n",
       "      <td>10.66</td>\n",
       "      <td>15.150</td>\n",
       "      <td>87</td>\n",
       "      <td>0.0000</td>\n",
       "      <td>2011</td>\n",
       "      <td>12</td>\n",
       "      <td>4</td>\n",
       "      <td>6</td>\n",
       "      <td>8</td>\n",
       "    </tr>\n",
       "  </tbody>\n",
       "</table>\n",
       "</div>"
      ],
      "text/plain": [
       "      count  season  holiday  workingday  weather   temp   atemp  humidity  \\\n",
       "0  6.095825       3        0           1        2  28.70  33.335        79   \n",
       "1  5.961005       2        0           0        1  32.80  37.880        55   \n",
       "2  1.098612       1        0           1        1  14.76  16.665        40   \n",
       "3  3.891820       1        0           1        1   9.02   9.090        47   \n",
       "4  4.025352       4        0           0        1  10.66  15.150        87   \n",
       "\n",
       "   windspeed  year  month  day  dayofweek  hour  \n",
       "0    12.9980  2011      7    7          3     8  \n",
       "1    12.9980  2011      6   11          5    13  \n",
       "2    19.9995  2011      2   14          0     2  \n",
       "3    36.9974  2011      2    8          1    10  \n",
       "4     0.0000  2011     12    4          6     8  "
      ]
     },
     "execution_count": 93,
     "metadata": {},
     "output_type": "execute_result"
    }
   ],
   "source": [
    "df.head()"
   ]
  },
  {
   "cell_type": "code",
   "execution_count": 94,
   "metadata": {
    "execution": {
     "iopub.execute_input": "2020-12-26T10:26:33.527059Z",
     "iopub.status.busy": "2020-12-26T10:26:33.526009Z",
     "iopub.status.idle": "2020-12-26T10:26:33.529537Z",
     "shell.execute_reply": "2020-12-26T10:26:33.528835Z"
    },
    "papermill": {
     "duration": 0.188566,
     "end_time": "2020-12-26T10:26:33.529664",
     "exception": false,
     "start_time": "2020-12-26T10:26:33.341098",
     "status": "completed"
    },
    "tags": []
   },
   "outputs": [],
   "source": [
    "df['count_predicted'] = result"
   ]
  },
  {
   "cell_type": "code",
   "execution_count": 95,
   "metadata": {
    "execution": {
     "iopub.execute_input": "2020-12-26T10:26:33.929831Z",
     "iopub.status.busy": "2020-12-26T10:26:33.922214Z",
     "iopub.status.idle": "2020-12-26T10:26:33.939603Z",
     "shell.execute_reply": "2020-12-26T10:26:33.938799Z"
    },
    "papermill": {
     "duration": 0.209325,
     "end_time": "2020-12-26T10:26:33.939735",
     "exception": false,
     "start_time": "2020-12-26T10:26:33.730410",
     "status": "completed"
    },
    "tags": []
   },
   "outputs": [
    {
     "data": {
      "text/html": [
       "<div>\n",
       "<style scoped>\n",
       "    .dataframe tbody tr th:only-of-type {\n",
       "        vertical-align: middle;\n",
       "    }\n",
       "\n",
       "    .dataframe tbody tr th {\n",
       "        vertical-align: top;\n",
       "    }\n",
       "\n",
       "    .dataframe thead th {\n",
       "        text-align: right;\n",
       "    }\n",
       "</style>\n",
       "<table border=\"1\" class=\"dataframe\">\n",
       "  <thead>\n",
       "    <tr style=\"text-align: right;\">\n",
       "      <th></th>\n",
       "      <th>count</th>\n",
       "      <th>season</th>\n",
       "      <th>holiday</th>\n",
       "      <th>workingday</th>\n",
       "      <th>weather</th>\n",
       "      <th>temp</th>\n",
       "      <th>atemp</th>\n",
       "      <th>humidity</th>\n",
       "      <th>windspeed</th>\n",
       "      <th>year</th>\n",
       "      <th>month</th>\n",
       "      <th>day</th>\n",
       "      <th>dayofweek</th>\n",
       "      <th>hour</th>\n",
       "      <th>count_predicted</th>\n",
       "    </tr>\n",
       "  </thead>\n",
       "  <tbody>\n",
       "    <tr>\n",
       "      <th>0</th>\n",
       "      <td>6.095825</td>\n",
       "      <td>3</td>\n",
       "      <td>0</td>\n",
       "      <td>1</td>\n",
       "      <td>2</td>\n",
       "      <td>28.70</td>\n",
       "      <td>33.335</td>\n",
       "      <td>79</td>\n",
       "      <td>12.9980</td>\n",
       "      <td>2011</td>\n",
       "      <td>7</td>\n",
       "      <td>7</td>\n",
       "      <td>3</td>\n",
       "      <td>8</td>\n",
       "      <td>5.942887</td>\n",
       "    </tr>\n",
       "    <tr>\n",
       "      <th>1</th>\n",
       "      <td>5.961005</td>\n",
       "      <td>2</td>\n",
       "      <td>0</td>\n",
       "      <td>0</td>\n",
       "      <td>1</td>\n",
       "      <td>32.80</td>\n",
       "      <td>37.880</td>\n",
       "      <td>55</td>\n",
       "      <td>12.9980</td>\n",
       "      <td>2011</td>\n",
       "      <td>6</td>\n",
       "      <td>11</td>\n",
       "      <td>5</td>\n",
       "      <td>13</td>\n",
       "      <td>5.929006</td>\n",
       "    </tr>\n",
       "    <tr>\n",
       "      <th>2</th>\n",
       "      <td>1.098612</td>\n",
       "      <td>1</td>\n",
       "      <td>0</td>\n",
       "      <td>1</td>\n",
       "      <td>1</td>\n",
       "      <td>14.76</td>\n",
       "      <td>16.665</td>\n",
       "      <td>40</td>\n",
       "      <td>19.9995</td>\n",
       "      <td>2011</td>\n",
       "      <td>2</td>\n",
       "      <td>14</td>\n",
       "      <td>0</td>\n",
       "      <td>2</td>\n",
       "      <td>1.093977</td>\n",
       "    </tr>\n",
       "    <tr>\n",
       "      <th>3</th>\n",
       "      <td>3.891820</td>\n",
       "      <td>1</td>\n",
       "      <td>0</td>\n",
       "      <td>1</td>\n",
       "      <td>1</td>\n",
       "      <td>9.02</td>\n",
       "      <td>9.090</td>\n",
       "      <td>47</td>\n",
       "      <td>36.9974</td>\n",
       "      <td>2011</td>\n",
       "      <td>2</td>\n",
       "      <td>8</td>\n",
       "      <td>1</td>\n",
       "      <td>10</td>\n",
       "      <td>3.753022</td>\n",
       "    </tr>\n",
       "    <tr>\n",
       "      <th>4</th>\n",
       "      <td>4.025352</td>\n",
       "      <td>4</td>\n",
       "      <td>0</td>\n",
       "      <td>0</td>\n",
       "      <td>1</td>\n",
       "      <td>10.66</td>\n",
       "      <td>15.150</td>\n",
       "      <td>87</td>\n",
       "      <td>0.0000</td>\n",
       "      <td>2011</td>\n",
       "      <td>12</td>\n",
       "      <td>4</td>\n",
       "      <td>6</td>\n",
       "      <td>8</td>\n",
       "      <td>3.989008</td>\n",
       "    </tr>\n",
       "  </tbody>\n",
       "</table>\n",
       "</div>"
      ],
      "text/plain": [
       "      count  season  holiday  workingday  weather   temp   atemp  humidity  \\\n",
       "0  6.095825       3        0           1        2  28.70  33.335        79   \n",
       "1  5.961005       2        0           0        1  32.80  37.880        55   \n",
       "2  1.098612       1        0           1        1  14.76  16.665        40   \n",
       "3  3.891820       1        0           1        1   9.02   9.090        47   \n",
       "4  4.025352       4        0           0        1  10.66  15.150        87   \n",
       "\n",
       "   windspeed  year  month  day  dayofweek  hour  count_predicted  \n",
       "0    12.9980  2011      7    7          3     8         5.942887  \n",
       "1    12.9980  2011      6   11          5    13         5.929006  \n",
       "2    19.9995  2011      2   14          0     2         1.093977  \n",
       "3    36.9974  2011      2    8          1    10         3.753022  \n",
       "4     0.0000  2011     12    4          6     8         3.989008  "
      ]
     },
     "execution_count": 95,
     "metadata": {},
     "output_type": "execute_result"
    }
   ],
   "source": [
    "df.head()"
   ]
  },
  {
   "cell_type": "code",
   "execution_count": 96,
   "metadata": {
    "execution": {
     "iopub.execute_input": "2020-12-26T10:26:34.312904Z",
     "iopub.status.busy": "2020-12-26T10:26:34.311775Z",
     "iopub.status.idle": "2020-12-26T10:26:34.319932Z",
     "shell.execute_reply": "2020-12-26T10:26:34.320581Z"
    },
    "papermill": {
     "duration": 0.197258,
     "end_time": "2020-12-26T10:26:34.320741",
     "exception": false,
     "start_time": "2020-12-26T10:26:34.123483",
     "status": "completed"
    },
    "tags": []
   },
   "outputs": [
    {
     "data": {
      "text/plain": [
       "count    3266.000000\n",
       "mean        4.533648\n",
       "std         1.377818\n",
       "min         0.503877\n",
       "25%         3.711230\n",
       "50%         4.934112\n",
       "75%         5.538595\n",
       "max         6.974541\n",
       "Name: count_predicted, dtype: float64"
      ]
     },
     "execution_count": 96,
     "metadata": {},
     "output_type": "execute_result"
    }
   ],
   "source": [
    "df['count_predicted'].describe()"
   ]
  },
  {
   "cell_type": "code",
   "execution_count": 97,
   "metadata": {
    "execution": {
     "iopub.execute_input": "2020-12-26T10:26:34.704134Z",
     "iopub.status.busy": "2020-12-26T10:26:34.703167Z",
     "iopub.status.idle": "2020-12-26T10:26:34.706510Z",
     "shell.execute_reply": "2020-12-26T10:26:34.705760Z"
    },
    "papermill": {
     "duration": 0.205467,
     "end_time": "2020-12-26T10:26:34.706639",
     "exception": false,
     "start_time": "2020-12-26T10:26:34.501172",
     "status": "completed"
    },
    "tags": []
   },
   "outputs": [],
   "source": [
    "df['count'] = df['count'].map(np.expm1)\n",
    "df['count_predicted'] = df['count_predicted'].map(np.expm1)"
   ]
  },
  {
   "cell_type": "code",
   "execution_count": 98,
   "metadata": {
    "execution": {
     "iopub.execute_input": "2020-12-26T10:26:35.084169Z",
     "iopub.status.busy": "2020-12-26T10:26:35.077656Z",
     "iopub.status.idle": "2020-12-26T10:26:35.269702Z",
     "shell.execute_reply": "2020-12-26T10:26:35.268879Z"
    },
    "papermill": {
     "duration": 0.381551,
     "end_time": "2020-12-26T10:26:35.269836",
     "exception": false,
     "start_time": "2020-12-26T10:26:34.888285",
     "status": "completed"
    },
    "tags": []
   },
   "outputs": [
    {
     "data": {
      "image/png": "[encoded data removed]",
      "text/plain": [
       "<Figure size 432x288 with 1 Axes>"
      ]
     },
     "metadata": {
      "needs_background": "light"
     },
     "output_type": "display_data"
    }
   ],
   "source": [
    "# Actual Vs Predicted\n",
    "plt.plot(df['count'], label='Actual')\n",
    "plt.plot(df['count_predicted'],label='Predicted')\n",
    "plt.xlabel('Sample')\n",
    "plt.ylabel('Count')\n",
    "plt.xlim([100,150])\n",
    "plt.title('Validation Dataset - Predicted Vs. Actual')\n",
    "plt.legend()\n",
    "plt.show()"
   ]
  },
  {
   "cell_type": "code",
   "execution_count": 99,
   "metadata": {
    "execution": {
     "iopub.execute_input": "2020-12-26T10:26:35.656347Z",
     "iopub.status.busy": "2020-12-26T10:26:35.652916Z",
     "iopub.status.idle": "2020-12-26T10:26:35.841452Z",
     "shell.execute_reply": "2020-12-26T10:26:35.840661Z"
    },
    "papermill": {
     "duration": 0.388287,
     "end_time": "2020-12-26T10:26:35.841588",
     "exception": false,
     "start_time": "2020-12-26T10:26:35.453301",
     "status": "completed"
    },
    "tags": []
   },
   "outputs": [
    {
     "data": {
      "image/png": "[encoded data removed]",
      "text/plain": [
       "<Figure size 432x288 with 1 Axes>"
      ]
     },
     "metadata": {
      "needs_background": "light"
     },
     "output_type": "display_data"
    }
   ],
   "source": [
    "# Over prediction and Under Prediction needs to be balanced\n",
    "# Training Data Residuals\n",
    "residuals = (df['count'] - df['count_predicted'])\n",
    "\n",
    "plt.hist(residuals)\n",
    "plt.grid(True)\n",
    "plt.xlabel('Actual - Predicted')\n",
    "plt.ylabel('Count')\n",
    "plt.title('Residuals Distribution')\n",
    "plt.axvline(color='r')\n",
    "plt.show()"
   ]
  },
  {
   "cell_type": "code",
   "execution_count": 100,
   "metadata": {
    "execution": {
     "iopub.execute_input": "2020-12-26T10:26:36.220249Z",
     "iopub.status.busy": "2020-12-26T10:26:36.218824Z",
     "iopub.status.idle": "2020-12-26T10:26:36.224572Z",
     "shell.execute_reply": "2020-12-26T10:26:36.223808Z"
    },
    "papermill": {
     "duration": 0.199121,
     "end_time": "2020-12-26T10:26:36.224738",
     "exception": false,
     "start_time": "2020-12-26T10:26:36.025617",
     "status": "completed"
    },
    "tags": []
   },
   "outputs": [
    {
     "name": "stdout",
     "output_type": "stream",
     "text": [
      " Under Estimation: 0.65\n",
      " Over  Estimation: 0.35\n"
     ]
    }
   ],
   "source": [
    "value_counts = (residuals > 0).value_counts(sort=False)\n",
    "print(' Under Estimation: {0:.2f}'.format(value_counts[True]/len(residuals)))\n",
    "print(' Over  Estimation: {0:.2f}'.format(value_counts[False]/len(residuals)))"
   ]
  },
  {
   "cell_type": "code",
   "execution_count": 101,
   "metadata": {
    "execution": {
     "iopub.execute_input": "2020-12-26T10:26:36.603043Z",
     "iopub.status.busy": "2020-12-26T10:26:36.601927Z",
     "iopub.status.idle": "2020-12-26T10:26:36.607083Z",
     "shell.execute_reply": "2020-12-26T10:26:36.606358Z"
    },
    "papermill": {
     "duration": 0.196384,
     "end_time": "2020-12-26T10:26:36.607208",
     "exception": false,
     "start_time": "2020-12-26T10:26:36.410824",
     "status": "completed"
    },
    "tags": []
   },
   "outputs": [
    {
     "name": "stdout",
     "output_type": "stream",
     "text": [
      "RMSE: 49.04\n"
     ]
    }
   ],
   "source": [
    "import sklearn.metrics as metrics\n",
    "print(\"RMSE: {0:.2f}\".format(metrics.mean_squared_error(df['count'],\n",
    "                                                    df['count_predicted'])**.5))"
   ]
  },
  {
   "cell_type": "code",
   "execution_count": 102,
   "metadata": {
    "execution": {
     "iopub.execute_input": "2020-12-26T10:26:36.986216Z",
     "iopub.status.busy": "2020-12-26T10:26:36.985463Z",
     "iopub.status.idle": "2020-12-26T10:26:36.989340Z",
     "shell.execute_reply": "2020-12-26T10:26:36.988617Z"
    },
    "papermill": {
     "duration": 0.197482,
     "end_time": "2020-12-26T10:26:36.989466",
     "exception": false,
     "start_time": "2020-12-26T10:26:36.791984",
     "status": "completed"
    },
    "tags": []
   },
   "outputs": [],
   "source": [
    "# Metric Use By Kaggle\n",
    "def compute_rmsle(y_true, y_pred):\n",
    "    if type(y_true) != np.ndarray:\n",
    "        y_true = np.array(y_true)\n",
    "        \n",
    "    if type(y_pred) != np.ndarray:\n",
    "        y_pred = np.array(y_pred)\n",
    "     \n",
    "    return(np.average((np.log1p(y_pred) - np.log1p(y_true))**2)**.5)"
   ]
  },
  {
   "cell_type": "code",
   "execution_count": 103,
   "metadata": {
    "execution": {
     "iopub.execute_input": "2020-12-26T10:26:37.369608Z",
     "iopub.status.busy": "2020-12-26T10:26:37.368817Z",
     "iopub.status.idle": "2020-12-26T10:26:37.374586Z",
     "shell.execute_reply": "2020-12-26T10:26:37.373916Z"
    },
    "papermill": {
     "duration": 0.197517,
     "end_time": "2020-12-26T10:26:37.374724",
     "exception": false,
     "start_time": "2020-12-26T10:26:37.177207",
     "status": "completed"
    },
    "tags": []
   },
   "outputs": [
    {
     "name": "stdout",
     "output_type": "stream",
     "text": [
      "RMSLE: 0.30\n"
     ]
    }
   ],
   "source": [
    "print(\"RMSLE: {0:.2f}\".format(compute_rmsle(df['count'],df['count_predicted'])))"
   ]
  },
  {
   "cell_type": "markdown",
   "metadata": {
    "papermill": {
     "duration": 0.189644,
     "end_time": "2020-12-26T10:26:37.750585",
     "exception": false,
     "start_time": "2020-12-26T10:26:37.560941",
     "status": "completed"
    },
    "tags": []
   },
   "source": [
    "# Submission"
   ]
  },
  {
   "cell_type": "code",
   "execution_count": 104,
   "metadata": {
    "execution": {
     "iopub.execute_input": "2020-12-26T10:26:38.133493Z",
     "iopub.status.busy": "2020-12-26T10:26:38.132439Z",
     "iopub.status.idle": "2020-12-26T10:26:38.155348Z",
     "shell.execute_reply": "2020-12-26T10:26:38.154633Z"
    },
    "papermill": {
     "duration": 0.215407,
     "end_time": "2020-12-26T10:26:38.155485",
     "exception": false,
     "start_time": "2020-12-26T10:26:37.940078",
     "status": "completed"
    },
    "tags": []
   },
   "outputs": [],
   "source": [
    "# Optional Test Data\n",
    "# Prepare Data for Submission to Kaggle\n",
    "df_test = pd.read_csv(test_file,parse_dates=['datetime'])"
   ]
  },
  {
   "cell_type": "code",
   "execution_count": 105,
   "metadata": {
    "execution": {
     "iopub.execute_input": "2020-12-26T10:26:38.536000Z",
     "iopub.status.busy": "2020-12-26T10:26:38.534851Z",
     "iopub.status.idle": "2020-12-26T10:26:38.538744Z",
     "shell.execute_reply": "2020-12-26T10:26:38.537967Z"
    },
    "papermill": {
     "duration": 0.196037,
     "end_time": "2020-12-26T10:26:38.538867",
     "exception": false,
     "start_time": "2020-12-26T10:26:38.342830",
     "status": "completed"
    },
    "tags": []
   },
   "outputs": [],
   "source": [
    "X_test =  df_test.iloc[:,1:] # Exclude datetime for prediction"
   ]
  },
  {
   "cell_type": "code",
   "execution_count": 106,
   "metadata": {
    "execution": {
     "iopub.execute_input": "2020-12-26T10:26:38.921213Z",
     "iopub.status.busy": "2020-12-26T10:26:38.920474Z",
     "iopub.status.idle": "2020-12-26T10:26:39.094842Z",
     "shell.execute_reply": "2020-12-26T10:26:39.094040Z"
    },
    "papermill": {
     "duration": 0.37006,
     "end_time": "2020-12-26T10:26:39.094987",
     "exception": false,
     "start_time": "2020-12-26T10:26:38.724927",
     "status": "completed"
    },
    "tags": []
   },
   "outputs": [],
   "source": [
    "# Transform data first with column transformer\n",
    "result = model.predict(colTransformer.transform(X_test))"
   ]
  },
  {
   "cell_type": "code",
   "execution_count": 107,
   "metadata": {
    "execution": {
     "iopub.execute_input": "2020-12-26T10:26:39.475602Z",
     "iopub.status.busy": "2020-12-26T10:26:39.474573Z",
     "iopub.status.idle": "2020-12-26T10:26:39.479523Z",
     "shell.execute_reply": "2020-12-26T10:26:39.478780Z"
    },
    "papermill": {
     "duration": 0.196712,
     "end_time": "2020-12-26T10:26:39.479650",
     "exception": false,
     "start_time": "2020-12-26T10:26:39.282938",
     "status": "completed"
    },
    "tags": []
   },
   "outputs": [
    {
     "data": {
      "text/plain": [
       "array([[2.1740057 ],\n",
       "       [1.5472378 ],\n",
       "       [0.9286502 ],\n",
       "       [0.72078526],\n",
       "       [0.6660508 ]], dtype=float32)"
      ]
     },
     "execution_count": 107,
     "metadata": {},
     "output_type": "execute_result"
    }
   ],
   "source": [
    "result[:5]"
   ]
  },
  {
   "cell_type": "code",
   "execution_count": 108,
   "metadata": {
    "execution": {
     "iopub.execute_input": "2020-12-26T10:26:39.859019Z",
     "iopub.status.busy": "2020-12-26T10:26:39.857982Z",
     "iopub.status.idle": "2020-12-26T10:26:39.862754Z",
     "shell.execute_reply": "2020-12-26T10:26:39.862115Z"
    },
    "papermill": {
     "duration": 0.196272,
     "end_time": "2020-12-26T10:26:39.862895",
     "exception": false,
     "start_time": "2020-12-26T10:26:39.666623",
     "status": "completed"
    },
    "tags": []
   },
   "outputs": [],
   "source": [
    "# Convert result to actual count\n",
    "df_test[\"count\"] = np.expm1(result)"
   ]
  },
  {
   "cell_type": "code",
   "execution_count": 109,
   "metadata": {
    "execution": {
     "iopub.execute_input": "2020-12-26T10:26:40.259806Z",
     "iopub.status.busy": "2020-12-26T10:26:40.258681Z",
     "iopub.status.idle": "2020-12-26T10:26:40.263970Z",
     "shell.execute_reply": "2020-12-26T10:26:40.263323Z"
    },
    "papermill": {
     "duration": 0.212588,
     "end_time": "2020-12-26T10:26:40.264105",
     "exception": false,
     "start_time": "2020-12-26T10:26:40.051517",
     "status": "completed"
    },
    "tags": []
   },
   "outputs": [
    {
     "data": {
      "text/html": [
       "<div>\n",
       "<style scoped>\n",
       "    .dataframe tbody tr th:only-of-type {\n",
       "        vertical-align: middle;\n",
       "    }\n",
       "\n",
       "    .dataframe tbody tr th {\n",
       "        vertical-align: top;\n",
       "    }\n",
       "\n",
       "    .dataframe thead th {\n",
       "        text-align: right;\n",
       "    }\n",
       "</style>\n",
       "<table border=\"1\" class=\"dataframe\">\n",
       "  <thead>\n",
       "    <tr style=\"text-align: right;\">\n",
       "      <th></th>\n",
       "      <th>datetime</th>\n",
       "      <th>season</th>\n",
       "      <th>holiday</th>\n",
       "      <th>workingday</th>\n",
       "      <th>weather</th>\n",
       "      <th>temp</th>\n",
       "      <th>atemp</th>\n",
       "      <th>humidity</th>\n",
       "      <th>windspeed</th>\n",
       "      <th>year</th>\n",
       "      <th>month</th>\n",
       "      <th>day</th>\n",
       "      <th>dayofweek</th>\n",
       "      <th>hour</th>\n",
       "      <th>count</th>\n",
       "    </tr>\n",
       "  </thead>\n",
       "  <tbody>\n",
       "    <tr>\n",
       "      <th>0</th>\n",
       "      <td>2011-01-20 00:00:00</td>\n",
       "      <td>1</td>\n",
       "      <td>0</td>\n",
       "      <td>1</td>\n",
       "      <td>1</td>\n",
       "      <td>10.66</td>\n",
       "      <td>11.365</td>\n",
       "      <td>56</td>\n",
       "      <td>26.0027</td>\n",
       "      <td>2011</td>\n",
       "      <td>1</td>\n",
       "      <td>20</td>\n",
       "      <td>3</td>\n",
       "      <td>0</td>\n",
       "      <td>7.793438</td>\n",
       "    </tr>\n",
       "    <tr>\n",
       "      <th>1</th>\n",
       "      <td>2011-01-20 01:00:00</td>\n",
       "      <td>1</td>\n",
       "      <td>0</td>\n",
       "      <td>1</td>\n",
       "      <td>1</td>\n",
       "      <td>10.66</td>\n",
       "      <td>13.635</td>\n",
       "      <td>56</td>\n",
       "      <td>0.0000</td>\n",
       "      <td>2011</td>\n",
       "      <td>1</td>\n",
       "      <td>20</td>\n",
       "      <td>3</td>\n",
       "      <td>1</td>\n",
       "      <td>3.698474</td>\n",
       "    </tr>\n",
       "    <tr>\n",
       "      <th>2</th>\n",
       "      <td>2011-01-20 02:00:00</td>\n",
       "      <td>1</td>\n",
       "      <td>0</td>\n",
       "      <td>1</td>\n",
       "      <td>1</td>\n",
       "      <td>10.66</td>\n",
       "      <td>13.635</td>\n",
       "      <td>56</td>\n",
       "      <td>0.0000</td>\n",
       "      <td>2011</td>\n",
       "      <td>1</td>\n",
       "      <td>20</td>\n",
       "      <td>3</td>\n",
       "      <td>2</td>\n",
       "      <td>1.531090</td>\n",
       "    </tr>\n",
       "    <tr>\n",
       "      <th>3</th>\n",
       "      <td>2011-01-20 03:00:00</td>\n",
       "      <td>1</td>\n",
       "      <td>0</td>\n",
       "      <td>1</td>\n",
       "      <td>1</td>\n",
       "      <td>10.66</td>\n",
       "      <td>12.880</td>\n",
       "      <td>56</td>\n",
       "      <td>11.0014</td>\n",
       "      <td>2011</td>\n",
       "      <td>1</td>\n",
       "      <td>20</td>\n",
       "      <td>3</td>\n",
       "      <td>3</td>\n",
       "      <td>1.056047</td>\n",
       "    </tr>\n",
       "    <tr>\n",
       "      <th>4</th>\n",
       "      <td>2011-01-20 04:00:00</td>\n",
       "      <td>1</td>\n",
       "      <td>0</td>\n",
       "      <td>1</td>\n",
       "      <td>1</td>\n",
       "      <td>10.66</td>\n",
       "      <td>12.880</td>\n",
       "      <td>56</td>\n",
       "      <td>11.0014</td>\n",
       "      <td>2011</td>\n",
       "      <td>1</td>\n",
       "      <td>20</td>\n",
       "      <td>3</td>\n",
       "      <td>4</td>\n",
       "      <td>0.946535</td>\n",
       "    </tr>\n",
       "  </tbody>\n",
       "</table>\n",
       "</div>"
      ],
      "text/plain": [
       "             datetime  season  holiday  workingday  weather   temp   atemp  \\\n",
       "0 2011-01-20 00:00:00       1        0           1        1  10.66  11.365   \n",
       "1 2011-01-20 01:00:00       1        0           1        1  10.66  13.635   \n",
       "2 2011-01-20 02:00:00       1        0           1        1  10.66  13.635   \n",
       "3 2011-01-20 03:00:00       1        0           1        1  10.66  12.880   \n",
       "4 2011-01-20 04:00:00       1        0           1        1  10.66  12.880   \n",
       "\n",
       "   humidity  windspeed  year  month  day  dayofweek  hour     count  \n",
       "0        56    26.0027  2011      1   20          3     0  7.793438  \n",
       "1        56     0.0000  2011      1   20          3     1  3.698474  \n",
       "2        56     0.0000  2011      1   20          3     2  1.531090  \n",
       "3        56    11.0014  2011      1   20          3     3  1.056047  \n",
       "4        56    11.0014  2011      1   20          3     4  0.946535  "
      ]
     },
     "execution_count": 109,
     "metadata": {},
     "output_type": "execute_result"
    }
   ],
   "source": [
    "df_test.head()"
   ]
  },
  {
   "cell_type": "code",
   "execution_count": 110,
   "metadata": {
    "execution": {
     "iopub.execute_input": "2020-12-26T10:26:40.646253Z",
     "iopub.status.busy": "2020-12-26T10:26:40.645180Z",
     "iopub.status.idle": "2020-12-26T10:26:40.648973Z",
     "shell.execute_reply": "2020-12-26T10:26:40.648349Z"
    },
    "papermill": {
     "duration": 0.197145,
     "end_time": "2020-12-26T10:26:40.649096",
     "exception": false,
     "start_time": "2020-12-26T10:26:40.451951",
     "status": "completed"
    },
    "tags": []
   },
   "outputs": [],
   "source": [
    "def adjust_count(x):\n",
    "    if x < 0:\n",
    "        return 0\n",
    "    else:\n",
    "        return x"
   ]
  },
  {
   "cell_type": "code",
   "execution_count": 111,
   "metadata": {
    "execution": {
     "iopub.execute_input": "2020-12-26T10:26:41.045390Z",
     "iopub.status.busy": "2020-12-26T10:26:41.034338Z",
     "iopub.status.idle": "2020-12-26T10:26:41.051519Z",
     "shell.execute_reply": "2020-12-26T10:26:41.050699Z"
    },
    "papermill": {
     "duration": 0.213291,
     "end_time": "2020-12-26T10:26:41.051649",
     "exception": false,
     "start_time": "2020-12-26T10:26:40.838358",
     "status": "completed"
    },
    "tags": []
   },
   "outputs": [
    {
     "data": {
      "text/html": [
       "<div>\n",
       "<style scoped>\n",
       "    .dataframe tbody tr th:only-of-type {\n",
       "        vertical-align: middle;\n",
       "    }\n",
       "\n",
       "    .dataframe tbody tr th {\n",
       "        vertical-align: top;\n",
       "    }\n",
       "\n",
       "    .dataframe thead th {\n",
       "        text-align: right;\n",
       "    }\n",
       "</style>\n",
       "<table border=\"1\" class=\"dataframe\">\n",
       "  <thead>\n",
       "    <tr style=\"text-align: right;\">\n",
       "      <th></th>\n",
       "      <th>datetime</th>\n",
       "      <th>season</th>\n",
       "      <th>holiday</th>\n",
       "      <th>workingday</th>\n",
       "      <th>weather</th>\n",
       "      <th>temp</th>\n",
       "      <th>atemp</th>\n",
       "      <th>humidity</th>\n",
       "      <th>windspeed</th>\n",
       "      <th>year</th>\n",
       "      <th>month</th>\n",
       "      <th>day</th>\n",
       "      <th>dayofweek</th>\n",
       "      <th>hour</th>\n",
       "      <th>count</th>\n",
       "    </tr>\n",
       "  </thead>\n",
       "  <tbody>\n",
       "    <tr>\n",
       "      <th>96</th>\n",
       "      <td>2011-01-24 03:00:00</td>\n",
       "      <td>1</td>\n",
       "      <td>0</td>\n",
       "      <td>1</td>\n",
       "      <td>1</td>\n",
       "      <td>1.64</td>\n",
       "      <td>1.515</td>\n",
       "      <td>45</td>\n",
       "      <td>16.9979</td>\n",
       "      <td>2011</td>\n",
       "      <td>1</td>\n",
       "      <td>24</td>\n",
       "      <td>0</td>\n",
       "      <td>3</td>\n",
       "      <td>-0.01381</td>\n",
       "    </tr>\n",
       "  </tbody>\n",
       "</table>\n",
       "</div>"
      ],
      "text/plain": [
       "              datetime  season  holiday  workingday  weather  temp  atemp  \\\n",
       "96 2011-01-24 03:00:00       1        0           1        1  1.64  1.515   \n",
       "\n",
       "    humidity  windspeed  year  month  day  dayofweek  hour    count  \n",
       "96        45    16.9979  2011      1   24          0     3 -0.01381  "
      ]
     },
     "execution_count": 111,
     "metadata": {},
     "output_type": "execute_result"
    }
   ],
   "source": [
    "df_test[df_test[\"count\"] < 0]"
   ]
  },
  {
   "cell_type": "code",
   "execution_count": 112,
   "metadata": {
    "execution": {
     "iopub.execute_input": "2020-12-26T10:26:41.441543Z",
     "iopub.status.busy": "2020-12-26T10:26:41.440741Z",
     "iopub.status.idle": "2020-12-26T10:26:41.444480Z",
     "shell.execute_reply": "2020-12-26T10:26:41.445081Z"
    },
    "papermill": {
     "duration": 0.20329,
     "end_time": "2020-12-26T10:26:41.445258",
     "exception": false,
     "start_time": "2020-12-26T10:26:41.241968",
     "status": "completed"
    },
    "tags": []
   },
   "outputs": [],
   "source": [
    "df_test['count'] = df_test['count'].map(adjust_count)"
   ]
  },
  {
   "cell_type": "code",
   "execution_count": 113,
   "metadata": {
    "execution": {
     "iopub.execute_input": "2020-12-26T10:26:41.828521Z",
     "iopub.status.busy": "2020-12-26T10:26:41.827435Z",
     "iopub.status.idle": "2020-12-26T10:26:41.840197Z",
     "shell.execute_reply": "2020-12-26T10:26:41.839436Z"
    },
    "papermill": {
     "duration": 0.20689,
     "end_time": "2020-12-26T10:26:41.840342",
     "exception": false,
     "start_time": "2020-12-26T10:26:41.633452",
     "status": "completed"
    },
    "tags": []
   },
   "outputs": [
    {
     "data": {
      "text/html": [
       "<div>\n",
       "<style scoped>\n",
       "    .dataframe tbody tr th:only-of-type {\n",
       "        vertical-align: middle;\n",
       "    }\n",
       "\n",
       "    .dataframe tbody tr th {\n",
       "        vertical-align: top;\n",
       "    }\n",
       "\n",
       "    .dataframe thead th {\n",
       "        text-align: right;\n",
       "    }\n",
       "</style>\n",
       "<table border=\"1\" class=\"dataframe\">\n",
       "  <thead>\n",
       "    <tr style=\"text-align: right;\">\n",
       "      <th></th>\n",
       "      <th>datetime</th>\n",
       "      <th>season</th>\n",
       "      <th>holiday</th>\n",
       "      <th>workingday</th>\n",
       "      <th>weather</th>\n",
       "      <th>temp</th>\n",
       "      <th>atemp</th>\n",
       "      <th>humidity</th>\n",
       "      <th>windspeed</th>\n",
       "      <th>year</th>\n",
       "      <th>month</th>\n",
       "      <th>day</th>\n",
       "      <th>dayofweek</th>\n",
       "      <th>hour</th>\n",
       "      <th>count</th>\n",
       "    </tr>\n",
       "  </thead>\n",
       "  <tbody>\n",
       "  </tbody>\n",
       "</table>\n",
       "</div>"
      ],
      "text/plain": [
       "Empty DataFrame\n",
       "Columns: [datetime, season, holiday, workingday, weather, temp, atemp, humidity, windspeed, year, month, day, dayofweek, hour, count]\n",
       "Index: []"
      ]
     },
     "execution_count": 113,
     "metadata": {},
     "output_type": "execute_result"
    }
   ],
   "source": [
    "df_test[df_test[\"count\"] < 0]"
   ]
  },
  {
   "cell_type": "code",
   "execution_count": 114,
   "metadata": {
    "execution": {
     "iopub.execute_input": "2020-12-26T10:26:42.229939Z",
     "iopub.status.busy": "2020-12-26T10:26:42.229156Z",
     "iopub.status.idle": "2020-12-26T10:26:42.277757Z",
     "shell.execute_reply": "2020-12-26T10:26:42.276874Z"
    },
    "papermill": {
     "duration": 0.247694,
     "end_time": "2020-12-26T10:26:42.277905",
     "exception": false,
     "start_time": "2020-12-26T10:26:42.030211",
     "status": "completed"
    },
    "tags": []
   },
   "outputs": [],
   "source": [
    "df_test[['datetime','count']].to_csv('Mew_Insight_Keras_Predicted_Count.csv',index=False)"
   ]
  },
  {
   "cell_type": "code",
   "execution_count": null,
   "metadata": {
    "papermill": {
     "duration": 0.188668,
     "end_time": "2020-12-26T10:26:42.656138",
     "exception": false,
     "start_time": "2020-12-26T10:26:42.467470",
     "status": "completed"
    },
    "tags": []
   },
   "outputs": [],
   "source": []
  }
 ],
 "metadata": {
  "kernelspec": {
   "display_name": "Python 3",
   "language": "python",
   "name": "python3"
  },
  "language_info": {
   "codemirror_mode": {
    "name": "ipython",
    "version": 3
   },
   "file_extension": ".py",
   "mimetype": "text/x-python",
   "name": "python",
   "nbconvert_exporter": "python",
   "pygments_lexer": "ipython3",
   "version": "3.7.6"
  },
  "papermill": {
   "duration": 62.446604,
   "end_time": "2020-12-26T10:26:42.955401",
   "environment_variables": {},
   "exception": null,
   "input_path": "__notebook__.ipynb",
   "output_path": "__notebook__.ipynb",
   "parameters": {},
   "start_time": "2020-12-26T10:25:40.508797",
   "version": "2.1.0"
  }
 },
 "nbformat": 4,
 "nbformat_minor": 4
}
